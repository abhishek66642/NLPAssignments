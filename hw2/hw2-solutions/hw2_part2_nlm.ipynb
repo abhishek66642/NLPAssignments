{
  "cells": [
    {
      "cell_type": "markdown",
      "metadata": {
        "id": "aafMIEuhoGeE"
      },
      "source": [
        "# Fall 2022: DS-GA 1011 NLP with Representation Learning\n",
        "## Homework 2\n",
        "## Part 2: Neural Language Modeling (30 pts)\n",
        "In this assignment, you will build and analyze a neural language model with a recurrent neural network."
      ]
    },
    {
      "cell_type": "code",
      "execution_count": 152,
      "metadata": {
        "id": "xqlguqV9oGeF"
      },
      "outputs": [],
      "source": [
        "# Import required packages\n",
        "import os\n",
        "import json\n",
        "import numpy as np\n",
        "from collections import defaultdict\n",
        "import matplotlib.pyplot as plt\n",
        "\n",
        "import torch\n",
        "import torch.nn as nn\n",
        "import torch.nn.functional as F\n",
        "import torch.optim as optim\n",
        "from torch.utils.data import Dataset, DataLoader\n",
        "from tqdm import tqdm"
      ]
    },
    {
      "cell_type": "code",
      "execution_count": 153,
      "metadata": {
        "colab": {
          "base_uri": "https://localhost:8080/"
        },
        "id": "HmMrelbVBIKA",
        "outputId": "e0b5161c-ae57-4ed2-9b6d-30bcd060fb1a"
      },
      "outputs": [
        {
          "output_type": "stream",
          "name": "stdout",
          "text": [
            "Drive already mounted at /content/drive/; to attempt to forcibly remount, call drive.mount(\"/content/drive/\", force_remount=True).\n",
            "[Errno 2] No such file or directory: 'drive/My Drive/NLPAssignments/hw2'\n",
            "/content/drive/My Drive/NLPAssignments/hw2\n"
          ]
        }
      ],
      "source": [
        "from google.colab import drive\n",
        "drive.mount('/content/drive/')\n",
        "%cd drive/My Drive/NLPAssignments/hw2"
      ]
    },
    {
      "cell_type": "markdown",
      "metadata": {
        "id": "LZYu0UrL2VLr"
      },
      "source": [
        "---\n",
        "### 1 LSTM and Hyper-parameters (10 pts)\n",
        "Your first task is to train a neural recurrent language model on Wikitext-2."
      ]
    },
    {
      "cell_type": "markdown",
      "metadata": {
        "id": "-h2bkwWt25m3"
      },
      "source": [
        "#### Load data"
      ]
    },
    {
      "cell_type": "code",
      "execution_count": 154,
      "metadata": {
        "id": "7V-b8kAKoGeJ"
      },
      "outputs": [],
      "source": [
        "def load_wikitext(filename='wikitext2-sentencized.json'):\n",
        "    if not os.path.exists(filename):\n",
        "        !wget \"https://nyu.box.com/shared/static/9kb7l7ci30hb6uahhbssjlq0kctr5ii4.json\" -O $filename\n",
        "    \n",
        "    datasets = json.load(open(filename, 'r'))\n",
        "    for name in datasets:\n",
        "        datasets[name] = [x.split() for x in datasets[name]]\n",
        "    vocab = list(set([t for ts in datasets['train'] for t in ts]))      \n",
        "    print(\"Vocab size: %d\" % (len(vocab)))\n",
        "    return datasets, vocab\n",
        "\n",
        "def perplexity(model, sequences):\n",
        "    n_total = 0\n",
        "    logp_total = 0\n",
        "    for sequence in sequences:\n",
        "        logp_total += model.sequence_logp(sequence)\n",
        "        n_total += len(sequence) + 1  \n",
        "    ppl = 2 ** (- (1.0 / n_total) * logp_total)  \n",
        "    return ppl"
      ]
    },
    {
      "cell_type": "code",
      "execution_count": null,
      "metadata": {
        "colab": {
          "base_uri": "https://localhost:8080/"
        },
        "id": "0UaYVHf3oGeQ",
        "outputId": "6e3b1ab8-d356-4def-b2b7-443bb54d2eb4"
      },
      "outputs": [
        {
          "name": "stdout",
          "output_type": "stream",
          "text": [
            "Vocab size: 33175\n"
          ]
        }
      ],
      "source": [
        "datasets, vocab = load_wikitext()"
      ]
    },
    {
      "cell_type": "markdown",
      "metadata": {
        "id": "LWyZB12ioGeb"
      },
      "source": [
        "#### Utilities\n",
        "\n",
        "(Hint: you can adopt the `Dictionary`, dataset loading, `Dataloader`, `pad_collate_fn`, and training code from the lab: [**07-rnn_lm.ipynb**](https://drive.google.com/file/d/1scqLM26Njy4ACL9zyIQEVcoP32eTN77i/view?usp=sharing) for use here)"
      ]
    },
    {
      "cell_type": "code",
      "execution_count": null,
      "metadata": {
        "colab": {
          "base_uri": "https://localhost:8080/"
        },
        "id": "6uIKXE2wsMDJ",
        "outputId": "2f09a9f1-4ce4-4b4a-c2d4-78daab19dd25"
      },
      "outputs": [
        {
          "name": "stderr",
          "output_type": "stream",
          "text": [
            "100%|██████████| 78274/78274 [03:03<00:00, 425.66it/s]\n",
            "100%|██████████| 8464/8464 [00:14<00:00, 566.85it/s]\n"
          ]
        }
      ],
      "source": [
        "class Dictionary(object): #maps words to indices\n",
        "    def __init__(self, datasets, include_valid=False):\n",
        "        self.tokens = []\n",
        "        self.ids = {}\n",
        "        self.counts = {}\n",
        "        \n",
        "        # add special tokens\n",
        "        self.add_token('<bos>') #beginning of sentence\n",
        "        self.add_token('<eos>') #end of sentence\n",
        "        self.add_token('<pad>')\n",
        "        self.add_token('<unk>') #unknown. Needed in case use with text with word that isn't in vocab\n",
        "        \n",
        "        for line in tqdm(datasets['train']):\n",
        "            for w in line:\n",
        "                self.add_token(w)\n",
        "                    \n",
        "        if include_valid is True:\n",
        "            for line in tqdm(datasets['valid']):\n",
        "                for w in line:\n",
        "                    self.add_token(w)\n",
        "                            \n",
        "    def add_token(self, w):\n",
        "        if w not in self.tokens:\n",
        "            self.tokens.append(w)\n",
        "            _w_id = len(self.tokens) - 1\n",
        "            self.ids[w] = _w_id\n",
        "            self.counts[w] = 1\n",
        "        else:\n",
        "            self.counts[w] += 1\n",
        "\n",
        "    def get_id(self, w):\n",
        "        return self.ids[w]\n",
        "    \n",
        "    def get_token(self, idx):\n",
        "        return self.tokens[idx]\n",
        "    \n",
        "    def decode_idx_seq(self, l):\n",
        "        return [self.tokens[i] for i in l]\n",
        "    \n",
        "    def encode_token_seq(self, l):\n",
        "        return [self.ids[i] if i in self.ids else self.ids['<unk>'] for i in l]\n",
        "    \n",
        "    def __len__(self):\n",
        "        return len(self.tokens)\n",
        "\n",
        "wiki_text_dict = Dictionary(datasets, include_valid=True)"
      ]
    },
    {
      "cell_type": "code",
      "execution_count": null,
      "metadata": {
        "id": "2jNfelGu0SEn"
      },
      "outputs": [],
      "source": [
        "def tokenize_dataset(datasets, dictionary, ngram_order=2): #substitute words with numbers. Sometimes can include splitting strings, dealing with punctuation and symbols.\n",
        "    tokenized_datasets = {}\n",
        "    for split, dataset in datasets.items():\n",
        "        _current_dictified = []\n",
        "        for l in tqdm(dataset):\n",
        "            l = ['<bos>']*(ngram_order-1) + l + ['<eos>']\n",
        "            encoded_l = dictionary.encode_token_seq(l)\n",
        "            _current_dictified.append(encoded_l)\n",
        "        tokenized_datasets[split] = _current_dictified\n",
        "        \n",
        "    return tokenized_datasets"
      ]
    },
    {
      "cell_type": "code",
      "execution_count": null,
      "metadata": {
        "id": "CYfsyZWp0X4n"
      },
      "outputs": [],
      "source": [
        "class TensoredDataset(Dataset):\n",
        "    def __init__(self, list_of_lists_of_tokens):\n",
        "        self.input_tensors = []\n",
        "        self.target_tensors = []\n",
        "        \n",
        "        for sample in list_of_lists_of_tokens:\n",
        "            self.input_tensors.append(torch.tensor([sample[:-1]], dtype=torch.long))\n",
        "            self.target_tensors.append(torch.tensor([sample[1:]], dtype=torch.long))\n",
        "    \n",
        "    def __len__(self):\n",
        "        return len(self.input_tensors)\n",
        "    \n",
        "    def __getitem__(self, idx):\n",
        "        # return a (input, target) tuple\n",
        "        return (self.input_tensors[idx], self.target_tensors[idx])"
      ]
    },
    {
      "cell_type": "code",
      "execution_count": null,
      "metadata": {
        "colab": {
          "base_uri": "https://localhost:8080/"
        },
        "id": "SbyVAvjD0ccz",
        "outputId": "4ea6af6b-078a-46a3-ec7c-6201e5c68c77"
      },
      "outputs": [
        {
          "name": "stderr",
          "output_type": "stream",
          "text": [
            "100%|██████████| 78274/78274 [00:00<00:00, 83950.39it/s]\n",
            "100%|██████████| 8464/8464 [00:00<00:00, 111155.75it/s]\n",
            "100%|██████████| 9708/9708 [00:00<00:00, 118855.02it/s]\n"
          ]
        }
      ],
      "source": [
        "wikitext_tokenized_datasets = tokenize_dataset(datasets, wiki_text_dict)\n",
        "wiki_tensor_dataset = {}\n",
        "\n",
        "for split, listoflists in wikitext_tokenized_datasets.items():\n",
        "    wiki_tensor_dataset[split] = TensoredDataset(listoflists)"
      ]
    },
    {
      "cell_type": "code",
      "execution_count": null,
      "metadata": {
        "id": "pFlcXzIg0gQ8"
      },
      "outputs": [],
      "source": [
        "def pad_list_of_tensors(list_of_tensors, pad_token):\n",
        "    max_length = max([t.size(-1) for t in list_of_tensors])\n",
        "    padded_list = []\n",
        "    \n",
        "    for t in list_of_tensors:\n",
        "        padded_tensor = torch.cat([t, torch.tensor([[pad_token]*(max_length - t.size(-1))], dtype=torch.long)], dim = -1)\n",
        "        padded_list.append(padded_tensor)\n",
        "        \n",
        "    padded_tensor = torch.cat(padded_list, dim=0)\n",
        "    \n",
        "    return padded_tensor\n",
        "\n",
        "def pad_collate_fn(batch):\n",
        "    # batch is a list of sample tuples\n",
        "    input_list = [s[0] for s in batch]\n",
        "    target_list = [s[1] for s in batch]\n",
        "    \n",
        "    pad_token = wiki_text_dict.get_id('<pad>')\n",
        "    #pad_token = 2\n",
        "    \n",
        "    input_tensor = pad_list_of_tensors(input_list, pad_token)\n",
        "    target_tensor = pad_list_of_tensors(target_list, pad_token)\n",
        "    \n",
        "    return input_tensor, target_tensor"
      ]
    },
    {
      "cell_type": "code",
      "execution_count": null,
      "metadata": {
        "id": "aCGddUWP0mtF"
      },
      "outputs": [],
      "source": [
        "wiki_loaders = {}\n",
        "\n",
        "batch_size = 64\n",
        "\n",
        "for split, wiki_dataset in wiki_tensor_dataset.items():\n",
        "    wiki_loaders[split] = DataLoader(wiki_dataset, batch_size=batch_size, shuffle=True, collate_fn=pad_collate_fn)"
      ]
    },
    {
      "cell_type": "code",
      "execution_count": null,
      "metadata": {
        "id": "ZMLVBKKNmph5"
      },
      "outputs": [],
      "source": [
        "num_gpus = torch.cuda.device_count()\n",
        "if num_gpus > 0:\n",
        "    current_device = 'cuda'\n",
        "else:\n",
        "    current_device = 'cpu'"
      ]
    },
    {
      "cell_type": "markdown",
      "metadata": {
        "id": "gbugaRMgjMGj"
      },
      "source": [
        "#### Model + Training (5 pts)"
      ]
    },
    {
      "cell_type": "code",
      "execution_count": null,
      "metadata": {
        "id": "SiyT9W9LjKmU"
      },
      "outputs": [],
      "source": [
        "class LSTMLanguageModel(nn.Module):\n",
        "    \"\"\"\n",
        "    This model combines embedding, rnn and projection layer into a single model\n",
        "    \"\"\"\n",
        "    def __init__(self, options):\n",
        "        super().__init__()\n",
        "        \n",
        "        # create each LM part here \n",
        "    \n",
        "        self.lookup = nn.Embedding(num_embeddings=options['num_embeddings'], embedding_dim=options['embedding_dim'], padding_idx=options['padding_idx'])\n",
        "      \n",
        "        self.rnn_lstm = nn.LSTM(input_size=options['input_size'], hidden_size=options['hidden_size'],num_layers=options['num_layers'],dropout=options['rnn_dropout'], batch_first=True)\n",
        "        \n",
        "        self.projection = nn.Linear(options['hidden_size'], options['num_embeddings'])\n",
        "    \n",
        "    def forward(self, encoded_input_sequence):\n",
        "        \"\"\"\n",
        "        Forward method process the input from token ids to logits\n",
        "        \"\"\"\n",
        "        embeddings = self.lookup(encoded_input_sequence)\n",
        "  \n",
        "        rnn_outputs,output_hidden_state = self.rnn_lstm(embeddings)\n",
        "        \n",
        "        logits = self.projection(rnn_outputs)\n",
        "        \n",
        "        return logits,output_hidden_state\n",
        "    \n",
        "    def sequence_logp(self, sequence):\n",
        "        logits,hidden_state = self.forward(sequence)\n",
        "        return F.log_softmax(logits)"
      ]
    },
    {
      "cell_type": "code",
      "execution_count": null,
      "metadata": {
        "id": "ZyvF9TGs1E1k"
      },
      "outputs": [],
      "source": [
        "# Setting Parameters\n",
        "embedding_size = 256\n",
        "hidden_size = 512\n",
        "num_layers = 3\n",
        "rnn_dropout = 0.3\n",
        "\n",
        "options = {\n",
        "    'num_embeddings': len(wiki_text_dict),\n",
        "    'embedding_dim': embedding_size,\n",
        "    'padding_idx': wiki_text_dict.get_id('<pad>'),\n",
        "    'input_size': embedding_size,\n",
        "    'hidden_size': hidden_size,\n",
        "    'num_layers': num_layers,\n",
        "    'rnn_dropout': rnn_dropout,\n",
        "    }\n",
        "\n",
        "    \n",
        "model = LSTMLanguageModel(options).to(current_device)\n",
        "\n",
        "criterion = nn.CrossEntropyLoss(ignore_index=wiki_text_dict.get_id('<pad>'))\n",
        "\n",
        "model_parameters = [p for p in model.parameters() if p.requires_grad]\n",
        "optimizer = optim.SGD(model_parameters, lr=0.001, momentum=0.999)"
      ]
    },
    {
      "cell_type": "code",
      "execution_count": null,
      "metadata": {
        "colab": {
          "base_uri": "https://localhost:8080/"
        },
        "id": "R3_apHnR1Sfy",
        "outputId": "2e40c9a0-6f89-4f94-bea9-e260a3b4b2ce"
      },
      "outputs": [
        {
          "name": "stderr",
          "output_type": "stream",
          "text": [
            "1224it [03:30,  5.80it/s]\n"
          ]
        },
        {
          "name": "stdout",
          "output_type": "stream",
          "text": [
            "Training loss after 1 epoch = 8.4731\n"
          ]
        },
        {
          "name": "stderr",
          "output_type": "stream",
          "text": [
            "133it [00:08, 15.71it/s]\n"
          ]
        },
        {
          "name": "stdout",
          "output_type": "stream",
          "text": [
            "Validation loss after 1 epoch = 7.4828\n"
          ]
        },
        {
          "name": "stderr",
          "output_type": "stream",
          "text": [
            "1224it [03:43,  5.48it/s]\n"
          ]
        },
        {
          "name": "stdout",
          "output_type": "stream",
          "text": [
            "Training loss after 2 epoch = 7.3279\n"
          ]
        },
        {
          "name": "stderr",
          "output_type": "stream",
          "text": [
            "133it [00:08, 15.11it/s]\n"
          ]
        },
        {
          "name": "stdout",
          "output_type": "stream",
          "text": [
            "Validation loss after 2 epoch = 6.9036\n"
          ]
        },
        {
          "name": "stderr",
          "output_type": "stream",
          "text": [
            "1224it [03:42,  5.50it/s]\n"
          ]
        },
        {
          "name": "stdout",
          "output_type": "stream",
          "text": [
            "Training loss after 3 epoch = 6.8808\n"
          ]
        },
        {
          "name": "stderr",
          "output_type": "stream",
          "text": [
            "133it [00:08, 15.07it/s]\n"
          ]
        },
        {
          "name": "stdout",
          "output_type": "stream",
          "text": [
            "Validation loss after 3 epoch = 6.5510\n"
          ]
        },
        {
          "name": "stderr",
          "output_type": "stream",
          "text": [
            "1224it [03:43,  5.47it/s]\n"
          ]
        },
        {
          "name": "stdout",
          "output_type": "stream",
          "text": [
            "Training loss after 4 epoch = 6.6054\n"
          ]
        },
        {
          "name": "stderr",
          "output_type": "stream",
          "text": [
            "133it [00:08, 15.09it/s]\n"
          ]
        },
        {
          "name": "stdout",
          "output_type": "stream",
          "text": [
            "Validation loss after 4 epoch = 6.3178\n"
          ]
        },
        {
          "name": "stderr",
          "output_type": "stream",
          "text": [
            "1224it [03:44,  5.46it/s]\n"
          ]
        },
        {
          "name": "stdout",
          "output_type": "stream",
          "text": [
            "Training loss after 5 epoch = 6.4138\n"
          ]
        },
        {
          "name": "stderr",
          "output_type": "stream",
          "text": [
            "133it [00:08, 15.02it/s]\n"
          ]
        },
        {
          "name": "stdout",
          "output_type": "stream",
          "text": [
            "Validation loss after 5 epoch = 6.1544\n"
          ]
        },
        {
          "name": "stderr",
          "output_type": "stream",
          "text": [
            "1224it [03:44,  5.46it/s]\n"
          ]
        },
        {
          "name": "stdout",
          "output_type": "stream",
          "text": [
            "Training loss after 6 epoch = 6.2592\n"
          ]
        },
        {
          "name": "stderr",
          "output_type": "stream",
          "text": [
            "133it [00:08, 14.96it/s]\n"
          ]
        },
        {
          "name": "stdout",
          "output_type": "stream",
          "text": [
            "Validation loss after 6 epoch = 6.0135\n"
          ]
        },
        {
          "name": "stderr",
          "output_type": "stream",
          "text": [
            "1224it [03:44,  5.46it/s]\n"
          ]
        },
        {
          "name": "stdout",
          "output_type": "stream",
          "text": [
            "Training loss after 7 epoch = 6.1221\n"
          ]
        },
        {
          "name": "stderr",
          "output_type": "stream",
          "text": [
            "133it [00:08, 15.02it/s]\n"
          ]
        },
        {
          "name": "stdout",
          "output_type": "stream",
          "text": [
            "Validation loss after 7 epoch = 5.8871\n"
          ]
        },
        {
          "name": "stderr",
          "output_type": "stream",
          "text": [
            "1224it [03:45,  5.43it/s]\n"
          ]
        },
        {
          "name": "stdout",
          "output_type": "stream",
          "text": [
            "Training loss after 8 epoch = 6.0030\n"
          ]
        },
        {
          "name": "stderr",
          "output_type": "stream",
          "text": [
            "133it [00:08, 15.10it/s]\n"
          ]
        },
        {
          "name": "stdout",
          "output_type": "stream",
          "text": [
            "Validation loss after 8 epoch = 5.7911\n"
          ]
        },
        {
          "name": "stderr",
          "output_type": "stream",
          "text": [
            "1224it [03:45,  5.44it/s]\n"
          ]
        },
        {
          "name": "stdout",
          "output_type": "stream",
          "text": [
            "Training loss after 9 epoch = 5.8997\n"
          ]
        },
        {
          "name": "stderr",
          "output_type": "stream",
          "text": [
            "133it [00:08, 14.91it/s]\n"
          ]
        },
        {
          "name": "stdout",
          "output_type": "stream",
          "text": [
            "Validation loss after 9 epoch = 5.7038\n"
          ]
        },
        {
          "name": "stderr",
          "output_type": "stream",
          "text": [
            "1224it [03:44,  5.45it/s]\n"
          ]
        },
        {
          "name": "stdout",
          "output_type": "stream",
          "text": [
            "Training loss after 10 epoch = 5.8105\n"
          ]
        },
        {
          "name": "stderr",
          "output_type": "stream",
          "text": [
            "133it [00:08, 14.78it/s]\n"
          ]
        },
        {
          "name": "stdout",
          "output_type": "stream",
          "text": [
            "Validation loss after 10 epoch = 5.6343\n"
          ]
        },
        {
          "name": "stderr",
          "output_type": "stream",
          "text": [
            "1224it [03:45,  5.44it/s]\n"
          ]
        },
        {
          "name": "stdout",
          "output_type": "stream",
          "text": [
            "Training loss after 11 epoch = 5.7295\n"
          ]
        },
        {
          "name": "stderr",
          "output_type": "stream",
          "text": [
            "133it [00:08, 14.88it/s]\n"
          ]
        },
        {
          "name": "stdout",
          "output_type": "stream",
          "text": [
            "Validation loss after 11 epoch = 5.5700\n"
          ]
        },
        {
          "name": "stderr",
          "output_type": "stream",
          "text": [
            "1224it [03:43,  5.47it/s]\n"
          ]
        },
        {
          "name": "stdout",
          "output_type": "stream",
          "text": [
            "Training loss after 12 epoch = 5.6571\n"
          ]
        },
        {
          "name": "stderr",
          "output_type": "stream",
          "text": [
            "133it [00:08, 15.03it/s]\n"
          ]
        },
        {
          "name": "stdout",
          "output_type": "stream",
          "text": [
            "Validation loss after 12 epoch = 5.5185\n"
          ]
        },
        {
          "name": "stderr",
          "output_type": "stream",
          "text": [
            "1224it [03:44,  5.46it/s]\n"
          ]
        },
        {
          "name": "stdout",
          "output_type": "stream",
          "text": [
            "Training loss after 13 epoch = 5.5900\n"
          ]
        },
        {
          "name": "stderr",
          "output_type": "stream",
          "text": [
            "133it [00:08, 14.84it/s]\n"
          ]
        },
        {
          "name": "stdout",
          "output_type": "stream",
          "text": [
            "Validation loss after 13 epoch = 5.4676\n"
          ]
        },
        {
          "name": "stderr",
          "output_type": "stream",
          "text": [
            "1224it [03:43,  5.47it/s]\n"
          ]
        },
        {
          "name": "stdout",
          "output_type": "stream",
          "text": [
            "Training loss after 14 epoch = 5.5251\n"
          ]
        },
        {
          "name": "stderr",
          "output_type": "stream",
          "text": [
            "133it [00:08, 15.03it/s]\n"
          ]
        },
        {
          "name": "stdout",
          "output_type": "stream",
          "text": [
            "Validation loss after 14 epoch = 5.4190\n"
          ]
        },
        {
          "name": "stderr",
          "output_type": "stream",
          "text": [
            "1224it [03:43,  5.47it/s]\n"
          ]
        },
        {
          "name": "stdout",
          "output_type": "stream",
          "text": [
            "Training loss after 15 epoch = 5.4671\n"
          ]
        },
        {
          "name": "stderr",
          "output_type": "stream",
          "text": [
            "133it [00:08, 14.83it/s]\n"
          ]
        },
        {
          "name": "stdout",
          "output_type": "stream",
          "text": [
            "Validation loss after 15 epoch = 5.3821\n"
          ]
        },
        {
          "name": "stderr",
          "output_type": "stream",
          "text": [
            "1224it [03:44,  5.45it/s]\n"
          ]
        },
        {
          "name": "stdout",
          "output_type": "stream",
          "text": [
            "Training loss after 16 epoch = 5.4106\n"
          ]
        },
        {
          "name": "stderr",
          "output_type": "stream",
          "text": [
            "133it [00:08, 14.90it/s]\n"
          ]
        },
        {
          "name": "stdout",
          "output_type": "stream",
          "text": [
            "Validation loss after 16 epoch = 5.3421\n"
          ]
        },
        {
          "name": "stderr",
          "output_type": "stream",
          "text": [
            "1224it [03:44,  5.46it/s]\n"
          ]
        },
        {
          "name": "stdout",
          "output_type": "stream",
          "text": [
            "Training loss after 17 epoch = 5.3595\n"
          ]
        },
        {
          "name": "stderr",
          "output_type": "stream",
          "text": [
            "133it [00:08, 14.90it/s]\n"
          ]
        },
        {
          "name": "stdout",
          "output_type": "stream",
          "text": [
            "Validation loss after 17 epoch = 5.3225\n"
          ]
        },
        {
          "name": "stderr",
          "output_type": "stream",
          "text": [
            "1224it [03:44,  5.46it/s]\n"
          ]
        },
        {
          "name": "stdout",
          "output_type": "stream",
          "text": [
            "Training loss after 18 epoch = 5.3092\n"
          ]
        },
        {
          "name": "stderr",
          "output_type": "stream",
          "text": [
            "133it [00:09, 14.76it/s]\n"
          ]
        },
        {
          "name": "stdout",
          "output_type": "stream",
          "text": [
            "Validation loss after 18 epoch = 5.2812\n"
          ]
        },
        {
          "name": "stderr",
          "output_type": "stream",
          "text": [
            "1224it [03:43,  5.47it/s]\n"
          ]
        },
        {
          "name": "stdout",
          "output_type": "stream",
          "text": [
            "Training loss after 19 epoch = 5.2615\n"
          ]
        },
        {
          "name": "stderr",
          "output_type": "stream",
          "text": [
            "133it [00:08, 14.91it/s]\n"
          ]
        },
        {
          "name": "stdout",
          "output_type": "stream",
          "text": [
            "Validation loss after 19 epoch = 5.2496\n"
          ]
        },
        {
          "name": "stderr",
          "output_type": "stream",
          "text": [
            "1224it [03:44,  5.44it/s]\n"
          ]
        },
        {
          "name": "stdout",
          "output_type": "stream",
          "text": [
            "Training loss after 20 epoch = 5.2177\n"
          ]
        },
        {
          "name": "stderr",
          "output_type": "stream",
          "text": [
            "133it [00:08, 14.81it/s]\n"
          ]
        },
        {
          "name": "stdout",
          "output_type": "stream",
          "text": [
            "Validation loss after 20 epoch = 5.2304\n"
          ]
        }
      ],
      "source": [
        "# Training Loop\n",
        "plot_cache = []\n",
        "\n",
        "max_patience = 4 # Max patience hyperparameter\n",
        "val_epoch_loss = []\n",
        "train_epoch_loss = []\n",
        "terminate_loop_ctr = 0\n",
        "epochs = 20\n",
        "  \n",
        "for epoch_number in range(epochs):\n",
        "    avg_loss=0\n",
        "    # do train\n",
        "    model.train()\n",
        "    train_log_cache = []\n",
        "    for i, (inp, target) in tqdm(enumerate(wiki_loaders['train'])):\n",
        "      optimizer.zero_grad()\n",
        "      inp = inp.to(current_device)\n",
        "      target = target.to(current_device)\n",
        "      logits,hidden_state = model(inp)\n",
        "        \n",
        "      loss = criterion(logits.view(-1, logits.size(-1)), target.view(-1))\n",
        "            \n",
        "      loss.backward()\n",
        "      optimizer.step()\n",
        "            \n",
        "      train_log_cache.append(loss.item())\n",
        "    \n",
        "    avg_train_loss = sum(train_log_cache)/len(train_log_cache)\n",
        "    print('Training loss after {} epoch = {:.{prec}f}'.format(epoch_number+1, avg_train_loss, prec=4))\n",
        "    train_epoch_loss.append(avg_train_loss)\n",
        "    \n",
        "    #do valid\n",
        "    valid_losses = []\n",
        "    model.eval()\n",
        "    with torch.no_grad():\n",
        "        for i, (inp, target) in tqdm(enumerate(wiki_loaders['valid'])):\n",
        "          inp = inp.to(current_device)\n",
        "          target = target.to(current_device)\n",
        "          logits,hidden_state = model(inp)\n",
        "\n",
        "          loss = criterion(logits.view(-1, logits.size(-1)), target.view(-1))\n",
        "          valid_losses.append(loss.item())\n",
        "        \n",
        "        avg_val_loss = sum(valid_losses) / len(valid_losses)\n",
        "        print('Validation loss after {} epoch = {:.{prec}f}'.format(epoch_number+1, avg_val_loss, prec=4))\n",
        "        val_epoch_loss.append(avg_val_loss)\n",
        "        \n",
        "\n",
        "    # Implementing Validation based Early Stopping \n",
        "    if (epoch_number>=1 and round(val_epoch_loss[-1],2)==round(val_epoch_loss[-2],2)):\n",
        "      terminate_loop_ctr+=1\n",
        "    else:\n",
        "      terminate_loop_ctr=0\n",
        "      \n",
        "    # Break Training Loop\n",
        "    if (terminate_loop_ctr==max_patience):\n",
        "      plot_cache.append((avg_loss,max(val_epoch_loss))) # Saving best validation loss\n",
        "      print (\"Max Patience Reached, Implementing Validation based early stopping.\")\n",
        "      break\n",
        "    \n",
        "    plot_cache.append((avg_loss, avg_val_loss))\n",
        "\n",
        "# Saving Model\n",
        "torch.save({\n",
        "    'options': options,\n",
        "    'loss_cache': plot_cache,\n",
        "    'train_loss':train_epoch_loss,\n",
        "    'val_loss':val_epoch_loss,\n",
        "    'model_dict': model.state_dict()\n",
        "    },'./saved_models/wiki_lstm_lr='+str(options['rnn_dropout'])+'_lm.pt')"
      ]
    },
    {
      "cell_type": "code",
      "execution_count": 239,
      "metadata": {
        "id": "vOIXy4G0QSoI"
      },
      "outputs": [],
      "source": [
        "def plot_curves(training_loss,validation_loss,epochs):\n",
        "  epoch_list = list(range(epochs))\n",
        "  plt.subplot(1,2,1)\n",
        "  plt.title('Epochs vs Training Loss')\n",
        "  plt.plot(epoch_list, training_loss, 'b')\n",
        "  plt.ylabel('Training Loss')\n",
        "  plt.xlabel('Number of Epochs')\n",
        "  plt.subplot(1,2,2)\n",
        "  plt.title('Epochs vs Validation Loss')\n",
        "  plt.plot(epoch_list, validation_loss, 'r')\n",
        "  plt.ylabel('Validation Loss')\n",
        "  plt.xlabel('Number of Epochs')\n",
        "  \n",
        "  plt.suptitle(\"Loss Curves\")\n",
        "  plt.show()"
      ]
    },
    {
      "cell_type": "code",
      "execution_count": 243,
      "metadata": {
        "colab": {
          "base_uri": "https://localhost:8080/",
          "height": 308
        },
        "id": "_NL0aYbHgDoS",
        "outputId": "abb9b34d-174a-454e-e26a-9c4ca9b7ee6a"
      },
      "outputs": [
        {
          "output_type": "display_data",
          "data": {
            "text/plain": [
              "<Figure size 432x288 with 2 Axes>"
            ],
            "image/png": "[encoded data removed]"
          },
          "metadata": {
            "needs_background": "light"
          }
        }
      ],
      "source": [
        "plot_curves(train_epoch_loss,val_epoch_loss,20)"
      ]
    },
    {
      "cell_type": "markdown",
      "metadata": {
        "id": "39EioMvNoGej"
      },
      "source": [
        "#### Performance variation based on hyper-parameter values (5 pts)\n"
      ]
    },
    {
      "cell_type": "code",
      "execution_count": null,
      "metadata": {
        "id": "pTCVnqMQAQ97"
      },
      "outputs": [],
      "source": [
        "def train(model):\n",
        "  # Training Loop\n",
        "  plot_cache = []\n",
        "\n",
        "  max_patience = 4 # Max patience hyperparameter\n",
        "  val_epoch_loss = []\n",
        "  train_epoch_loss = []\n",
        "  train_batch_losses = []\n",
        "  terminate_loop_ctr = 0\n",
        "  epochs = 20\n",
        "    \n",
        "  for epoch_number in range(epochs):\n",
        "      avg_loss=0\n",
        "      # do train\n",
        "      model.train()\n",
        "      train_log_cache = []\n",
        "      for i, (inp, target) in tqdm(enumerate(wiki_loaders['train'])):\n",
        "        optimizer.zero_grad()\n",
        "        inp = inp.to(current_device)\n",
        "        target = target.to(current_device)\n",
        "        logits,hidden_state = model(inp)\n",
        "          \n",
        "        loss = criterion(logits.view(-1, logits.size(-1)), target.view(-1))\n",
        "              \n",
        "        loss.backward()\n",
        "        optimizer.step()\n",
        "              \n",
        "        train_log_cache.append(loss.item())\n",
        "      \n",
        "      avg_train_loss = sum(train_log_cache) / len(train_log_cache)\n",
        "      print('Training loss after {} epoch = {:.{prec}f}'.format(epoch_number+1, avg_train_loss, prec=4))\n",
        "      train_epoch_loss.append(avg_train_loss)    \n",
        "      \n",
        "      #do valid\n",
        "      valid_losses = []\n",
        "      model.eval()\n",
        "      with torch.no_grad():\n",
        "          for i, (inp, target) in tqdm(enumerate(wiki_loaders['valid'])):\n",
        "            inp = inp.to(current_device)\n",
        "            target = target.to(current_device)\n",
        "            logits,hidden_state = model(inp)\n",
        "\n",
        "            loss = criterion(logits.view(-1, logits.size(-1)), target.view(-1))\n",
        "            valid_losses.append(loss.item())\n",
        "          \n",
        "          avg_val_loss = sum(valid_losses) / len(valid_losses)\n",
        "          print('Validation loss after {} epoch = {:.{prec}f}'.format(epoch_number+1, avg_val_loss, prec=4))\n",
        "          val_epoch_loss.append(avg_val_loss)\n",
        "\n",
        "      # Implementing Validation based Early Stopping \n",
        "      if (epoch_number>=1 and round(val_epoch_loss[-1],2)==round(val_epoch_loss[-2],2)):\n",
        "        terminate_loop_ctr+=1\n",
        "      else:\n",
        "        terminate_loop_ctr=0\n",
        "      \n",
        "      # Break Training Loop\n",
        "      if (terminate_loop_ctr==max_patience):\n",
        "        plot_cache.append((avg_loss,max(val_epoch_loss))) # Saving best validation loss\n",
        "        print (\"Max Patience Reached, Implementing Validation based early stopping.\")\n",
        "        break\n",
        "      \n",
        "      plot_cache.append((avg_loss, avg_val_loss))\n",
        "\n",
        "  return train_epoch_loss,val_epoch_loss,plot_cache"
      ]
    },
    {
      "cell_type": "code",
      "execution_count": null,
      "metadata": {
        "id": "re0d3uJgoGej"
      },
      "outputs": [],
      "source": [
        "dropouts = [0.2,0.4,0.5] # Tuning dropout value\n",
        "\n",
        "# Setting Parameters\n",
        "embedding_size = 256\n",
        "hidden_size = 512\n",
        "num_layers = 3\n",
        "\n",
        "lstm_options = {\n",
        "    'num_embeddings': len(wiki_text_dict),\n",
        "    'embedding_dim': embedding_size,\n",
        "    'padding_idx': wiki_text_dict.get_id('<pad>'),\n",
        "    'input_size': embedding_size,\n",
        "    'hidden_size': hidden_size,\n",
        "    'num_layers': num_layers,\n",
        "    }"
      ]
    },
    {
      "cell_type": "code",
      "execution_count": null,
      "metadata": {
        "colab": {
          "base_uri": "https://localhost:8080/"
        },
        "id": "LWoaHP7aZam4",
        "outputId": "b4ffb76d-5ad8-47af-bd96-f178cbf8d8bc"
      },
      "outputs": [
        {
          "name": "stderr",
          "output_type": "stream",
          "text": [
            "1224it [03:39,  5.57it/s]\n"
          ]
        },
        {
          "name": "stdout",
          "output_type": "stream",
          "text": [
            "Training loss after 1 epoch = 8.4870\n"
          ]
        },
        {
          "name": "stderr",
          "output_type": "stream",
          "text": [
            "133it [00:08, 15.64it/s]\n"
          ]
        },
        {
          "name": "stdout",
          "output_type": "stream",
          "text": [
            "Validation loss after 1 epoch = 7.4776\n"
          ]
        },
        {
          "name": "stderr",
          "output_type": "stream",
          "text": [
            "1224it [03:44,  5.45it/s]\n"
          ]
        },
        {
          "name": "stdout",
          "output_type": "stream",
          "text": [
            "Training loss after 2 epoch = 7.3237\n"
          ]
        },
        {
          "name": "stderr",
          "output_type": "stream",
          "text": [
            "133it [00:08, 15.53it/s]\n"
          ]
        },
        {
          "name": "stdout",
          "output_type": "stream",
          "text": [
            "Validation loss after 2 epoch = 6.8977\n"
          ]
        },
        {
          "name": "stderr",
          "output_type": "stream",
          "text": [
            "1224it [03:45,  5.43it/s]\n"
          ]
        },
        {
          "name": "stdout",
          "output_type": "stream",
          "text": [
            "Training loss after 3 epoch = 6.8718\n"
          ]
        },
        {
          "name": "stderr",
          "output_type": "stream",
          "text": [
            "133it [00:08, 15.48it/s]\n"
          ]
        },
        {
          "name": "stdout",
          "output_type": "stream",
          "text": [
            "Validation loss after 3 epoch = 6.5395\n"
          ]
        },
        {
          "name": "stderr",
          "output_type": "stream",
          "text": [
            "1224it [03:45,  5.43it/s]\n"
          ]
        },
        {
          "name": "stdout",
          "output_type": "stream",
          "text": [
            "Training loss after 4 epoch = 6.5911\n"
          ]
        },
        {
          "name": "stderr",
          "output_type": "stream",
          "text": [
            "133it [00:08, 15.59it/s]\n"
          ]
        },
        {
          "name": "stdout",
          "output_type": "stream",
          "text": [
            "Validation loss after 4 epoch = 6.2999\n"
          ]
        },
        {
          "name": "stderr",
          "output_type": "stream",
          "text": [
            "1224it [03:44,  5.45it/s]\n"
          ]
        },
        {
          "name": "stdout",
          "output_type": "stream",
          "text": [
            "Training loss after 5 epoch = 6.3919\n"
          ]
        },
        {
          "name": "stderr",
          "output_type": "stream",
          "text": [
            "133it [00:08, 15.73it/s]\n"
          ]
        },
        {
          "name": "stdout",
          "output_type": "stream",
          "text": [
            "Validation loss after 5 epoch = 6.1357\n"
          ]
        },
        {
          "name": "stderr",
          "output_type": "stream",
          "text": [
            "1224it [03:44,  5.45it/s]\n"
          ]
        },
        {
          "name": "stdout",
          "output_type": "stream",
          "text": [
            "Training loss after 6 epoch = 6.2312\n"
          ]
        },
        {
          "name": "stderr",
          "output_type": "stream",
          "text": [
            "133it [00:08, 15.53it/s]\n"
          ]
        },
        {
          "name": "stdout",
          "output_type": "stream",
          "text": [
            "Validation loss after 6 epoch = 5.9828\n"
          ]
        },
        {
          "name": "stderr",
          "output_type": "stream",
          "text": [
            "1224it [03:45,  5.42it/s]\n"
          ]
        },
        {
          "name": "stdout",
          "output_type": "stream",
          "text": [
            "Training loss after 7 epoch = 6.0854\n"
          ]
        },
        {
          "name": "stderr",
          "output_type": "stream",
          "text": [
            "133it [00:08, 15.40it/s]\n"
          ]
        },
        {
          "name": "stdout",
          "output_type": "stream",
          "text": [
            "Validation loss after 7 epoch = 5.8539\n"
          ]
        },
        {
          "name": "stderr",
          "output_type": "stream",
          "text": [
            "1224it [03:45,  5.44it/s]\n"
          ]
        },
        {
          "name": "stdout",
          "output_type": "stream",
          "text": [
            "Training loss after 8 epoch = 5.9585\n"
          ]
        },
        {
          "name": "stderr",
          "output_type": "stream",
          "text": [
            "133it [00:08, 15.58it/s]\n"
          ]
        },
        {
          "name": "stdout",
          "output_type": "stream",
          "text": [
            "Validation loss after 8 epoch = 5.7564\n"
          ]
        },
        {
          "name": "stderr",
          "output_type": "stream",
          "text": [
            "1224it [03:44,  5.46it/s]\n"
          ]
        },
        {
          "name": "stdout",
          "output_type": "stream",
          "text": [
            "Training loss after 9 epoch = 5.8487\n"
          ]
        },
        {
          "name": "stderr",
          "output_type": "stream",
          "text": [
            "133it [00:08, 15.47it/s]\n"
          ]
        },
        {
          "name": "stdout",
          "output_type": "stream",
          "text": [
            "Validation loss after 9 epoch = 5.6650\n"
          ]
        },
        {
          "name": "stderr",
          "output_type": "stream",
          "text": [
            "1224it [03:44,  5.44it/s]\n"
          ]
        },
        {
          "name": "stdout",
          "output_type": "stream",
          "text": [
            "Training loss after 10 epoch = 5.7522\n"
          ]
        },
        {
          "name": "stderr",
          "output_type": "stream",
          "text": [
            "133it [00:08, 15.43it/s]\n"
          ]
        },
        {
          "name": "stdout",
          "output_type": "stream",
          "text": [
            "Validation loss after 10 epoch = 5.5919\n"
          ]
        },
        {
          "name": "stderr",
          "output_type": "stream",
          "text": [
            "1224it [03:46,  5.41it/s]\n"
          ]
        },
        {
          "name": "stdout",
          "output_type": "stream",
          "text": [
            "Training loss after 11 epoch = 5.6681\n"
          ]
        },
        {
          "name": "stderr",
          "output_type": "stream",
          "text": [
            "133it [00:08, 15.39it/s]\n"
          ]
        },
        {
          "name": "stdout",
          "output_type": "stream",
          "text": [
            "Validation loss after 11 epoch = 5.5349\n"
          ]
        },
        {
          "name": "stderr",
          "output_type": "stream",
          "text": [
            "1224it [03:44,  5.45it/s]\n"
          ]
        },
        {
          "name": "stdout",
          "output_type": "stream",
          "text": [
            "Training loss after 12 epoch = 5.5916\n"
          ]
        },
        {
          "name": "stderr",
          "output_type": "stream",
          "text": [
            "133it [00:08, 15.51it/s]\n"
          ]
        },
        {
          "name": "stdout",
          "output_type": "stream",
          "text": [
            "Validation loss after 12 epoch = 5.4743\n"
          ]
        },
        {
          "name": "stderr",
          "output_type": "stream",
          "text": [
            "1224it [03:44,  5.44it/s]\n"
          ]
        },
        {
          "name": "stdout",
          "output_type": "stream",
          "text": [
            "Training loss after 13 epoch = 5.5214\n"
          ]
        },
        {
          "name": "stderr",
          "output_type": "stream",
          "text": [
            "133it [00:08, 15.28it/s]\n"
          ]
        },
        {
          "name": "stdout",
          "output_type": "stream",
          "text": [
            "Validation loss after 13 epoch = 5.4395\n"
          ]
        },
        {
          "name": "stderr",
          "output_type": "stream",
          "text": [
            "1224it [03:44,  5.45it/s]\n"
          ]
        },
        {
          "name": "stdout",
          "output_type": "stream",
          "text": [
            "Training loss after 14 epoch = 5.4554\n"
          ]
        },
        {
          "name": "stderr",
          "output_type": "stream",
          "text": [
            "133it [00:08, 15.33it/s]\n"
          ]
        },
        {
          "name": "stdout",
          "output_type": "stream",
          "text": [
            "Validation loss after 14 epoch = 5.3800\n"
          ]
        },
        {
          "name": "stderr",
          "output_type": "stream",
          "text": [
            "1224it [03:45,  5.44it/s]\n"
          ]
        },
        {
          "name": "stdout",
          "output_type": "stream",
          "text": [
            "Training loss after 15 epoch = 5.3926\n"
          ]
        },
        {
          "name": "stderr",
          "output_type": "stream",
          "text": [
            "133it [00:08, 15.36it/s]\n"
          ]
        },
        {
          "name": "stdout",
          "output_type": "stream",
          "text": [
            "Validation loss after 15 epoch = 5.3472\n"
          ]
        },
        {
          "name": "stderr",
          "output_type": "stream",
          "text": [
            "1224it [03:45,  5.42it/s]\n"
          ]
        },
        {
          "name": "stdout",
          "output_type": "stream",
          "text": [
            "Training loss after 16 epoch = 5.3331\n"
          ]
        },
        {
          "name": "stderr",
          "output_type": "stream",
          "text": [
            "133it [00:08, 15.35it/s]\n"
          ]
        },
        {
          "name": "stdout",
          "output_type": "stream",
          "text": [
            "Validation loss after 16 epoch = 5.3111\n"
          ]
        },
        {
          "name": "stderr",
          "output_type": "stream",
          "text": [
            "1224it [03:44,  5.44it/s]\n"
          ]
        },
        {
          "name": "stdout",
          "output_type": "stream",
          "text": [
            "Training loss after 17 epoch = 5.2794\n"
          ]
        },
        {
          "name": "stderr",
          "output_type": "stream",
          "text": [
            "133it [00:08, 15.33it/s]\n"
          ]
        },
        {
          "name": "stdout",
          "output_type": "stream",
          "text": [
            "Validation loss after 17 epoch = 5.2829\n"
          ]
        },
        {
          "name": "stderr",
          "output_type": "stream",
          "text": [
            "1224it [03:45,  5.43it/s]\n"
          ]
        },
        {
          "name": "stdout",
          "output_type": "stream",
          "text": [
            "Training loss after 18 epoch = 5.2265\n"
          ]
        },
        {
          "name": "stderr",
          "output_type": "stream",
          "text": [
            "133it [00:08, 15.21it/s]\n"
          ]
        },
        {
          "name": "stdout",
          "output_type": "stream",
          "text": [
            "Validation loss after 18 epoch = 5.2500\n"
          ]
        },
        {
          "name": "stderr",
          "output_type": "stream",
          "text": [
            "1224it [03:44,  5.44it/s]\n"
          ]
        },
        {
          "name": "stdout",
          "output_type": "stream",
          "text": [
            "Training loss after 19 epoch = 5.1767\n"
          ]
        },
        {
          "name": "stderr",
          "output_type": "stream",
          "text": [
            "133it [00:08, 15.25it/s]\n"
          ]
        },
        {
          "name": "stdout",
          "output_type": "stream",
          "text": [
            "Validation loss after 19 epoch = 5.2341\n"
          ]
        },
        {
          "name": "stderr",
          "output_type": "stream",
          "text": [
            "1224it [03:44,  5.45it/s]\n"
          ]
        },
        {
          "name": "stdout",
          "output_type": "stream",
          "text": [
            "Training loss after 20 epoch = 5.1305\n"
          ]
        },
        {
          "name": "stderr",
          "output_type": "stream",
          "text": [
            "133it [00:08, 15.39it/s]\n"
          ]
        },
        {
          "name": "stdout",
          "output_type": "stream",
          "text": [
            "Validation loss after 20 epoch = 5.2102\n"
          ]
        }
      ],
      "source": [
        "options1 = lstm_options\n",
        "options1['rnn_dropout'] = dropouts[0]\n",
        "model1 = LSTMLanguageModel(options1).to(current_device)\n",
        "\n",
        "model_parameters = [p for p in model1.parameters() if p.requires_grad]\n",
        "optimizer = optim.SGD(model_parameters, lr=0.001, momentum=0.999)\n",
        "\n",
        "train_loss,val_loss,plot_cache = train(model1)\n",
        "\n",
        "# Saving Model\n",
        "torch.save({\n",
        "    'options': options1,\n",
        "    'loss_cache': plot_cache,\n",
        "    'train_loss':train_loss,\n",
        "    'val_loss':val_loss,\n",
        "    'model_dict': model1.state_dict()\n",
        "    },'./saved_models/wiki_lstm_lr'+str(dropouts[0])+'_lm.pt')"
      ]
    },
    {
      "cell_type": "code",
      "execution_count": null,
      "metadata": {
        "colab": {
          "base_uri": "https://localhost:8080/",
          "height": 308
        },
        "id": "cMYFEGG6ZfOU",
        "outputId": "d34c366f-8062-4832-b4b1-ba44a6c7382a"
      },
      "outputs": [
        {
          "data": {
            "image/png": "[encoded data removed]",
            "text/plain": [
              "<Figure size 432x288 with 2 Axes>"
            ]
          },
          "metadata": {},
          "output_type": "display_data"
        }
      ],
      "source": [
        "plot_curves(train_loss,val_loss,20)"
      ]
    },
    {
      "cell_type": "code",
      "execution_count": null,
      "metadata": {
        "colab": {
          "base_uri": "https://localhost:8080/"
        },
        "id": "Dzl7CtKdbwKn",
        "outputId": "2e5cf015-379b-4265-f41e-6636027a43cd"
      },
      "outputs": [
        {
          "name": "stderr",
          "output_type": "stream",
          "text": [
            "1224it [03:44,  5.45it/s]\n"
          ]
        },
        {
          "name": "stdout",
          "output_type": "stream",
          "text": [
            "Training loss after 1 epoch = 8.4721\n"
          ]
        },
        {
          "name": "stderr",
          "output_type": "stream",
          "text": [
            "133it [00:08, 15.56it/s]\n"
          ]
        },
        {
          "name": "stdout",
          "output_type": "stream",
          "text": [
            "Validation loss after 1 epoch = 7.4922\n"
          ]
        },
        {
          "name": "stderr",
          "output_type": "stream",
          "text": [
            "1224it [03:45,  5.44it/s]\n"
          ]
        },
        {
          "name": "stdout",
          "output_type": "stream",
          "text": [
            "Training loss after 2 epoch = 7.3256\n"
          ]
        },
        {
          "name": "stderr",
          "output_type": "stream",
          "text": [
            "133it [00:08, 15.69it/s]\n"
          ]
        },
        {
          "name": "stdout",
          "output_type": "stream",
          "text": [
            "Validation loss after 2 epoch = 6.8949\n"
          ]
        },
        {
          "name": "stderr",
          "output_type": "stream",
          "text": [
            "1224it [03:43,  5.47it/s]\n"
          ]
        },
        {
          "name": "stdout",
          "output_type": "stream",
          "text": [
            "Training loss after 3 epoch = 6.8763\n"
          ]
        },
        {
          "name": "stderr",
          "output_type": "stream",
          "text": [
            "133it [00:08, 15.67it/s]\n"
          ]
        },
        {
          "name": "stdout",
          "output_type": "stream",
          "text": [
            "Validation loss after 3 epoch = 6.5466\n"
          ]
        },
        {
          "name": "stderr",
          "output_type": "stream",
          "text": [
            "1224it [03:43,  5.47it/s]\n"
          ]
        },
        {
          "name": "stdout",
          "output_type": "stream",
          "text": [
            "Training loss after 4 epoch = 6.6082\n"
          ]
        },
        {
          "name": "stderr",
          "output_type": "stream",
          "text": [
            "133it [00:08, 15.50it/s]\n"
          ]
        },
        {
          "name": "stdout",
          "output_type": "stream",
          "text": [
            "Validation loss after 4 epoch = 6.3204\n"
          ]
        },
        {
          "name": "stderr",
          "output_type": "stream",
          "text": [
            "1224it [03:43,  5.47it/s]\n"
          ]
        },
        {
          "name": "stdout",
          "output_type": "stream",
          "text": [
            "Training loss after 5 epoch = 6.4192\n"
          ]
        },
        {
          "name": "stderr",
          "output_type": "stream",
          "text": [
            "133it [00:08, 15.58it/s]\n"
          ]
        },
        {
          "name": "stdout",
          "output_type": "stream",
          "text": [
            "Validation loss after 5 epoch = 6.1503\n"
          ]
        },
        {
          "name": "stderr",
          "output_type": "stream",
          "text": [
            "1224it [03:44,  5.45it/s]\n"
          ]
        },
        {
          "name": "stdout",
          "output_type": "stream",
          "text": [
            "Training loss after 6 epoch = 6.2669\n"
          ]
        },
        {
          "name": "stderr",
          "output_type": "stream",
          "text": [
            "133it [00:08, 15.50it/s]\n"
          ]
        },
        {
          "name": "stdout",
          "output_type": "stream",
          "text": [
            "Validation loss after 6 epoch = 6.0151\n"
          ]
        },
        {
          "name": "stderr",
          "output_type": "stream",
          "text": [
            "1224it [03:44,  5.45it/s]\n"
          ]
        },
        {
          "name": "stdout",
          "output_type": "stream",
          "text": [
            "Training loss after 7 epoch = 6.1324\n"
          ]
        },
        {
          "name": "stderr",
          "output_type": "stream",
          "text": [
            "133it [00:08, 15.57it/s]\n"
          ]
        },
        {
          "name": "stdout",
          "output_type": "stream",
          "text": [
            "Validation loss after 7 epoch = 5.8950\n"
          ]
        },
        {
          "name": "stderr",
          "output_type": "stream",
          "text": [
            "1224it [03:45,  5.44it/s]\n"
          ]
        },
        {
          "name": "stdout",
          "output_type": "stream",
          "text": [
            "Training loss after 8 epoch = 6.0160\n"
          ]
        },
        {
          "name": "stderr",
          "output_type": "stream",
          "text": [
            "133it [00:08, 15.54it/s]\n"
          ]
        },
        {
          "name": "stdout",
          "output_type": "stream",
          "text": [
            "Validation loss after 8 epoch = 5.7890\n"
          ]
        },
        {
          "name": "stderr",
          "output_type": "stream",
          "text": [
            "1224it [03:44,  5.45it/s]\n"
          ]
        },
        {
          "name": "stdout",
          "output_type": "stream",
          "text": [
            "Training loss after 9 epoch = 5.9165\n"
          ]
        },
        {
          "name": "stderr",
          "output_type": "stream",
          "text": [
            "133it [00:08, 15.51it/s]\n"
          ]
        },
        {
          "name": "stdout",
          "output_type": "stream",
          "text": [
            "Validation loss after 9 epoch = 5.7145\n"
          ]
        },
        {
          "name": "stderr",
          "output_type": "stream",
          "text": [
            "1224it [03:44,  5.45it/s]\n"
          ]
        },
        {
          "name": "stdout",
          "output_type": "stream",
          "text": [
            "Training loss after 10 epoch = 5.8295\n"
          ]
        },
        {
          "name": "stderr",
          "output_type": "stream",
          "text": [
            "133it [00:08, 15.37it/s]\n"
          ]
        },
        {
          "name": "stdout",
          "output_type": "stream",
          "text": [
            "Validation loss after 10 epoch = 5.6392\n"
          ]
        },
        {
          "name": "stderr",
          "output_type": "stream",
          "text": [
            "1224it [03:44,  5.45it/s]\n"
          ]
        },
        {
          "name": "stdout",
          "output_type": "stream",
          "text": [
            "Training loss after 11 epoch = 5.7522\n"
          ]
        },
        {
          "name": "stderr",
          "output_type": "stream",
          "text": [
            "133it [00:08, 15.35it/s]\n"
          ]
        },
        {
          "name": "stdout",
          "output_type": "stream",
          "text": [
            "Validation loss after 11 epoch = 5.5821\n"
          ]
        },
        {
          "name": "stderr",
          "output_type": "stream",
          "text": [
            "1224it [03:45,  5.43it/s]\n"
          ]
        },
        {
          "name": "stdout",
          "output_type": "stream",
          "text": [
            "Training loss after 12 epoch = 5.6842\n"
          ]
        },
        {
          "name": "stderr",
          "output_type": "stream",
          "text": [
            "133it [00:08, 15.32it/s]\n"
          ]
        },
        {
          "name": "stdout",
          "output_type": "stream",
          "text": [
            "Validation loss after 12 epoch = 5.5337\n"
          ]
        },
        {
          "name": "stderr",
          "output_type": "stream",
          "text": [
            "1224it [03:45,  5.44it/s]\n"
          ]
        },
        {
          "name": "stdout",
          "output_type": "stream",
          "text": [
            "Training loss after 13 epoch = 5.6197\n"
          ]
        },
        {
          "name": "stderr",
          "output_type": "stream",
          "text": [
            "133it [00:08, 15.40it/s]\n"
          ]
        },
        {
          "name": "stdout",
          "output_type": "stream",
          "text": [
            "Validation loss after 13 epoch = 5.4874\n"
          ]
        },
        {
          "name": "stderr",
          "output_type": "stream",
          "text": [
            "1224it [03:45,  5.44it/s]\n"
          ]
        },
        {
          "name": "stdout",
          "output_type": "stream",
          "text": [
            "Training loss after 14 epoch = 5.5625\n"
          ]
        },
        {
          "name": "stderr",
          "output_type": "stream",
          "text": [
            "133it [00:08, 15.27it/s]\n"
          ]
        },
        {
          "name": "stdout",
          "output_type": "stream",
          "text": [
            "Validation loss after 14 epoch = 5.4429\n"
          ]
        },
        {
          "name": "stderr",
          "output_type": "stream",
          "text": [
            "1224it [03:45,  5.42it/s]\n"
          ]
        },
        {
          "name": "stdout",
          "output_type": "stream",
          "text": [
            "Training loss after 15 epoch = 5.5084\n"
          ]
        },
        {
          "name": "stderr",
          "output_type": "stream",
          "text": [
            "133it [00:08, 15.31it/s]\n"
          ]
        },
        {
          "name": "stdout",
          "output_type": "stream",
          "text": [
            "Validation loss after 15 epoch = 5.4107\n"
          ]
        },
        {
          "name": "stderr",
          "output_type": "stream",
          "text": [
            "1224it [03:45,  5.43it/s]\n"
          ]
        },
        {
          "name": "stdout",
          "output_type": "stream",
          "text": [
            "Training loss after 16 epoch = 5.4584\n"
          ]
        },
        {
          "name": "stderr",
          "output_type": "stream",
          "text": [
            "133it [00:08, 15.22it/s]\n"
          ]
        },
        {
          "name": "stdout",
          "output_type": "stream",
          "text": [
            "Validation loss after 16 epoch = 5.3700\n"
          ]
        },
        {
          "name": "stderr",
          "output_type": "stream",
          "text": [
            "1224it [03:46,  5.41it/s]\n"
          ]
        },
        {
          "name": "stdout",
          "output_type": "stream",
          "text": [
            "Training loss after 17 epoch = 5.4128\n"
          ]
        },
        {
          "name": "stderr",
          "output_type": "stream",
          "text": [
            "133it [00:08, 15.19it/s]\n"
          ]
        },
        {
          "name": "stdout",
          "output_type": "stream",
          "text": [
            "Validation loss after 17 epoch = 5.3400\n"
          ]
        },
        {
          "name": "stderr",
          "output_type": "stream",
          "text": [
            "1224it [03:44,  5.44it/s]\n"
          ]
        },
        {
          "name": "stdout",
          "output_type": "stream",
          "text": [
            "Training loss after 18 epoch = 5.3685\n"
          ]
        },
        {
          "name": "stderr",
          "output_type": "stream",
          "text": [
            "133it [00:08, 15.14it/s]\n"
          ]
        },
        {
          "name": "stdout",
          "output_type": "stream",
          "text": [
            "Validation loss after 18 epoch = 5.3066\n"
          ]
        },
        {
          "name": "stderr",
          "output_type": "stream",
          "text": [
            "1224it [03:45,  5.44it/s]\n"
          ]
        },
        {
          "name": "stdout",
          "output_type": "stream",
          "text": [
            "Training loss after 19 epoch = 5.3280\n"
          ]
        },
        {
          "name": "stderr",
          "output_type": "stream",
          "text": [
            "133it [00:08, 15.44it/s]\n"
          ]
        },
        {
          "name": "stdout",
          "output_type": "stream",
          "text": [
            "Validation loss after 19 epoch = 5.2970\n"
          ]
        },
        {
          "name": "stderr",
          "output_type": "stream",
          "text": [
            "1224it [03:45,  5.42it/s]\n"
          ]
        },
        {
          "name": "stdout",
          "output_type": "stream",
          "text": [
            "Training loss after 20 epoch = 5.2895\n"
          ]
        },
        {
          "name": "stderr",
          "output_type": "stream",
          "text": [
            "133it [00:08, 15.38it/s]\n"
          ]
        },
        {
          "name": "stdout",
          "output_type": "stream",
          "text": [
            "Validation loss after 20 epoch = 5.2676\n"
          ]
        }
      ],
      "source": [
        "options2 = lstm_options\n",
        "options2['rnn_dropout'] = dropouts[1]\n",
        "model2 = LSTMLanguageModel(options2).to(current_device)\n",
        "\n",
        "model_parameters = [p for p in model2.parameters() if p.requires_grad]\n",
        "optimizer = optim.SGD(model_parameters, lr=0.001, momentum=0.999)\n",
        "\n",
        "train_loss,val_loss,plot_cache = train(model2)\n",
        "\n",
        "# Saving Model\n",
        "torch.save({\n",
        "    'options': options2,\n",
        "    'loss_cache': plot_cache,\n",
        "    'train_loss':train_loss,\n",
        "    'val_loss':val_loss,\n",
        "    'model_dict': model2.state_dict()\n",
        "    },'./saved_models/wiki_lstm_lr'+str(dropouts[1])+'_lm.pt')"
      ]
    },
    {
      "cell_type": "code",
      "execution_count": 240,
      "metadata": {
        "id": "s3szygO_ZkI2",
        "colab": {
          "base_uri": "https://localhost:8080/",
          "height": 308
        },
        "outputId": "a3f386b7-19a7-4bc7-c22b-a9a96cd550f4"
      },
      "outputs": [
        {
          "output_type": "display_data",
          "data": {
            "text/plain": [
              "<Figure size 432x288 with 2 Axes>"
            ],
            "image/png": "[encoded data removed]"
          },
          "metadata": {
            "needs_background": "light"
          }
        }
      ],
      "source": [
        "plot_curves(train_loss,val_loss,20)"
      ]
    },
    {
      "cell_type": "code",
      "execution_count": null,
      "metadata": {
        "colab": {
          "base_uri": "https://localhost:8080/"
        },
        "id": "T8UPD91jbyXv",
        "outputId": "c716b2ef-c9d3-4450-b0da-9d4255fc6b28"
      },
      "outputs": [
        {
          "name": "stderr",
          "output_type": "stream",
          "text": [
            "1224it [03:30,  5.83it/s]\n"
          ]
        },
        {
          "name": "stdout",
          "output_type": "stream",
          "text": [
            "Training loss after 1 epoch = 8.4689\n"
          ]
        },
        {
          "name": "stderr",
          "output_type": "stream",
          "text": [
            "133it [00:07, 16.63it/s]\n"
          ]
        },
        {
          "name": "stdout",
          "output_type": "stream",
          "text": [
            "Validation loss after 1 epoch = 7.4914\n"
          ]
        },
        {
          "name": "stderr",
          "output_type": "stream",
          "text": [
            "1224it [03:29,  5.84it/s]\n"
          ]
        },
        {
          "name": "stdout",
          "output_type": "stream",
          "text": [
            "Training loss after 2 epoch = 7.3336\n"
          ]
        },
        {
          "name": "stderr",
          "output_type": "stream",
          "text": [
            "133it [00:08, 16.33it/s]\n"
          ]
        },
        {
          "name": "stdout",
          "output_type": "stream",
          "text": [
            "Validation loss after 2 epoch = 6.8952\n"
          ]
        },
        {
          "name": "stderr",
          "output_type": "stream",
          "text": [
            "1224it [03:30,  5.82it/s]\n"
          ]
        },
        {
          "name": "stdout",
          "output_type": "stream",
          "text": [
            "Training loss after 3 epoch = 6.8741\n"
          ]
        },
        {
          "name": "stderr",
          "output_type": "stream",
          "text": [
            "133it [00:08, 16.39it/s]\n"
          ]
        },
        {
          "name": "stdout",
          "output_type": "stream",
          "text": [
            "Validation loss after 3 epoch = 6.5419\n"
          ]
        },
        {
          "name": "stderr",
          "output_type": "stream",
          "text": [
            "1224it [03:30,  5.81it/s]\n"
          ]
        },
        {
          "name": "stdout",
          "output_type": "stream",
          "text": [
            "Training loss after 4 epoch = 6.6080\n"
          ]
        },
        {
          "name": "stderr",
          "output_type": "stream",
          "text": [
            "133it [00:08, 16.51it/s]\n"
          ]
        },
        {
          "name": "stdout",
          "output_type": "stream",
          "text": [
            "Validation loss after 4 epoch = 6.3248\n"
          ]
        },
        {
          "name": "stderr",
          "output_type": "stream",
          "text": [
            "1224it [03:30,  5.81it/s]\n"
          ]
        },
        {
          "name": "stdout",
          "output_type": "stream",
          "text": [
            "Training loss after 5 epoch = 6.4248\n"
          ]
        },
        {
          "name": "stderr",
          "output_type": "stream",
          "text": [
            "133it [00:08, 16.28it/s]\n"
          ]
        },
        {
          "name": "stdout",
          "output_type": "stream",
          "text": [
            "Validation loss after 5 epoch = 6.1593\n"
          ]
        },
        {
          "name": "stderr",
          "output_type": "stream",
          "text": [
            "1224it [03:30,  5.82it/s]\n"
          ]
        },
        {
          "name": "stdout",
          "output_type": "stream",
          "text": [
            "Training loss after 6 epoch = 6.2803\n"
          ]
        },
        {
          "name": "stderr",
          "output_type": "stream",
          "text": [
            "133it [00:08, 16.33it/s]\n"
          ]
        },
        {
          "name": "stdout",
          "output_type": "stream",
          "text": [
            "Validation loss after 6 epoch = 6.0335\n"
          ]
        },
        {
          "name": "stderr",
          "output_type": "stream",
          "text": [
            "1224it [03:30,  5.81it/s]\n"
          ]
        },
        {
          "name": "stdout",
          "output_type": "stream",
          "text": [
            "Training loss after 7 epoch = 6.1570\n"
          ]
        },
        {
          "name": "stderr",
          "output_type": "stream",
          "text": [
            "133it [00:08, 16.48it/s]\n"
          ]
        },
        {
          "name": "stdout",
          "output_type": "stream",
          "text": [
            "Validation loss after 7 epoch = 5.9206\n"
          ]
        },
        {
          "name": "stderr",
          "output_type": "stream",
          "text": [
            "1224it [03:29,  5.83it/s]\n"
          ]
        },
        {
          "name": "stdout",
          "output_type": "stream",
          "text": [
            "Training loss after 8 epoch = 6.0506\n"
          ]
        },
        {
          "name": "stderr",
          "output_type": "stream",
          "text": [
            "133it [00:08, 16.44it/s]\n"
          ]
        },
        {
          "name": "stdout",
          "output_type": "stream",
          "text": [
            "Validation loss after 8 epoch = 5.8301\n"
          ]
        },
        {
          "name": "stderr",
          "output_type": "stream",
          "text": [
            "1224it [03:31,  5.80it/s]\n"
          ]
        },
        {
          "name": "stdout",
          "output_type": "stream",
          "text": [
            "Training loss after 9 epoch = 5.9583\n"
          ]
        },
        {
          "name": "stderr",
          "output_type": "stream",
          "text": [
            "133it [00:08, 16.30it/s]\n"
          ]
        },
        {
          "name": "stdout",
          "output_type": "stream",
          "text": [
            "Validation loss after 9 epoch = 5.7489\n"
          ]
        },
        {
          "name": "stderr",
          "output_type": "stream",
          "text": [
            "1224it [03:30,  5.81it/s]\n"
          ]
        },
        {
          "name": "stdout",
          "output_type": "stream",
          "text": [
            "Training loss after 10 epoch = 5.8781\n"
          ]
        },
        {
          "name": "stderr",
          "output_type": "stream",
          "text": [
            "133it [00:08, 16.28it/s]\n"
          ]
        },
        {
          "name": "stdout",
          "output_type": "stream",
          "text": [
            "Validation loss after 10 epoch = 5.6804\n"
          ]
        },
        {
          "name": "stderr",
          "output_type": "stream",
          "text": [
            "1224it [03:30,  5.81it/s]\n"
          ]
        },
        {
          "name": "stdout",
          "output_type": "stream",
          "text": [
            "Training loss after 11 epoch = 5.8056\n"
          ]
        },
        {
          "name": "stderr",
          "output_type": "stream",
          "text": [
            "133it [00:08, 16.32it/s]\n"
          ]
        },
        {
          "name": "stdout",
          "output_type": "stream",
          "text": [
            "Validation loss after 11 epoch = 5.6229\n"
          ]
        },
        {
          "name": "stderr",
          "output_type": "stream",
          "text": [
            "1224it [03:31,  5.80it/s]\n"
          ]
        },
        {
          "name": "stdout",
          "output_type": "stream",
          "text": [
            "Training loss after 12 epoch = 5.7408\n"
          ]
        },
        {
          "name": "stderr",
          "output_type": "stream",
          "text": [
            "133it [00:08, 16.34it/s]\n"
          ]
        },
        {
          "name": "stdout",
          "output_type": "stream",
          "text": [
            "Validation loss after 12 epoch = 5.5750\n"
          ]
        },
        {
          "name": "stderr",
          "output_type": "stream",
          "text": [
            "1224it [03:31,  5.80it/s]\n"
          ]
        },
        {
          "name": "stdout",
          "output_type": "stream",
          "text": [
            "Training loss after 13 epoch = 5.6824\n"
          ]
        },
        {
          "name": "stderr",
          "output_type": "stream",
          "text": [
            "133it [00:08, 16.11it/s]\n"
          ]
        },
        {
          "name": "stdout",
          "output_type": "stream",
          "text": [
            "Validation loss after 13 epoch = 5.5274\n"
          ]
        },
        {
          "name": "stderr",
          "output_type": "stream",
          "text": [
            "1224it [03:31,  5.78it/s]\n"
          ]
        },
        {
          "name": "stdout",
          "output_type": "stream",
          "text": [
            "Training loss after 14 epoch = 5.6274\n"
          ]
        },
        {
          "name": "stderr",
          "output_type": "stream",
          "text": [
            "133it [00:08, 16.12it/s]\n"
          ]
        },
        {
          "name": "stdout",
          "output_type": "stream",
          "text": [
            "Validation loss after 14 epoch = 5.4872\n"
          ]
        },
        {
          "name": "stderr",
          "output_type": "stream",
          "text": [
            "1224it [03:31,  5.80it/s]\n"
          ]
        },
        {
          "name": "stdout",
          "output_type": "stream",
          "text": [
            "Training loss after 15 epoch = 5.5763\n"
          ]
        },
        {
          "name": "stderr",
          "output_type": "stream",
          "text": [
            "133it [00:08, 16.28it/s]\n"
          ]
        },
        {
          "name": "stdout",
          "output_type": "stream",
          "text": [
            "Validation loss after 15 epoch = 5.4419\n"
          ]
        },
        {
          "name": "stderr",
          "output_type": "stream",
          "text": [
            "1224it [03:30,  5.82it/s]\n"
          ]
        },
        {
          "name": "stdout",
          "output_type": "stream",
          "text": [
            "Training loss after 16 epoch = 5.5273\n"
          ]
        },
        {
          "name": "stderr",
          "output_type": "stream",
          "text": [
            "133it [00:08, 16.29it/s]\n"
          ]
        },
        {
          "name": "stdout",
          "output_type": "stream",
          "text": [
            "Validation loss after 16 epoch = 5.4122\n"
          ]
        },
        {
          "name": "stderr",
          "output_type": "stream",
          "text": [
            "1224it [03:31,  5.79it/s]\n"
          ]
        },
        {
          "name": "stdout",
          "output_type": "stream",
          "text": [
            "Training loss after 17 epoch = 5.4798\n"
          ]
        },
        {
          "name": "stderr",
          "output_type": "stream",
          "text": [
            "133it [00:08, 16.08it/s]\n"
          ]
        },
        {
          "name": "stdout",
          "output_type": "stream",
          "text": [
            "Validation loss after 17 epoch = 5.3813\n"
          ]
        },
        {
          "name": "stderr",
          "output_type": "stream",
          "text": [
            "1224it [03:30,  5.82it/s]\n"
          ]
        },
        {
          "name": "stdout",
          "output_type": "stream",
          "text": [
            "Training loss after 18 epoch = 5.4377\n"
          ]
        },
        {
          "name": "stderr",
          "output_type": "stream",
          "text": [
            "133it [00:08, 16.19it/s]\n"
          ]
        },
        {
          "name": "stdout",
          "output_type": "stream",
          "text": [
            "Validation loss after 18 epoch = 5.3593\n"
          ]
        },
        {
          "name": "stderr",
          "output_type": "stream",
          "text": [
            "1224it [03:31,  5.78it/s]\n"
          ]
        },
        {
          "name": "stdout",
          "output_type": "stream",
          "text": [
            "Training loss after 19 epoch = 5.3962\n"
          ]
        },
        {
          "name": "stderr",
          "output_type": "stream",
          "text": [
            "133it [00:08, 16.23it/s]\n"
          ]
        },
        {
          "name": "stdout",
          "output_type": "stream",
          "text": [
            "Validation loss after 19 epoch = 5.3223\n"
          ]
        },
        {
          "name": "stderr",
          "output_type": "stream",
          "text": [
            "1224it [03:31,  5.79it/s]\n"
          ]
        },
        {
          "name": "stdout",
          "output_type": "stream",
          "text": [
            "Training loss after 20 epoch = 5.3563\n"
          ]
        },
        {
          "name": "stderr",
          "output_type": "stream",
          "text": [
            "133it [00:08, 16.17it/s]\n"
          ]
        },
        {
          "name": "stdout",
          "output_type": "stream",
          "text": [
            "Validation loss after 20 epoch = 5.2960\n"
          ]
        }
      ],
      "source": [
        "options3 = lstm_options\n",
        "options3['rnn_dropout'] = dropouts[2]\n",
        "\n",
        "model3 = LSTMLanguageModel(options3).to(current_device)\n",
        "\n",
        "model_parameters = [p for p in model3.parameters() if p.requires_grad]\n",
        "optimizer = optim.SGD(model_parameters, lr=0.001, momentum=0.999)\n",
        "\n",
        "train_loss,val_loss,plot_cache = train(model3)\n",
        "\n",
        "# Saving Model\n",
        "torch.save({\n",
        "    'options': options3,\n",
        "    'loss_cache': plot_cache,\n",
        "    'train_loss':train_loss,\n",
        "    'val_loss':val_loss,\n",
        "    'model_dict': model3.state_dict()\n",
        "    },'./saved_models/wiki_lstm_lr'+str(dropouts[2])+'_lm.pt')"
      ]
    },
    {
      "cell_type": "code",
      "execution_count": null,
      "metadata": {
        "colab": {
          "base_uri": "https://localhost:8080/",
          "height": 308
        },
        "id": "LENE8Pe5ZnxO",
        "outputId": "359f0365-b167-4770-83be-a645263854ba"
      },
      "outputs": [
        {
          "data": {
            "image/png": "[encoded data removed]",
            "text/plain": [
              "<Figure size 432x288 with 2 Axes>"
            ]
          },
          "metadata": {},
          "output_type": "display_data"
        }
      ],
      "source": [
        "plot_curves(train_loss,val_loss,20)"
      ]
    },
    {
      "cell_type": "markdown",
      "metadata": {
        "id": "aOWSz7GRoGel"
      },
      "source": [
        "---\n",
        "### 2 Learned embeddings (6 pts)\n",
        "Next you will analyze the word embeddings that the model learns.\n"
      ]
    },
    {
      "cell_type": "markdown",
      "metadata": {
        "id": "-lWn6wotoGem"
      },
      "source": [
        "#### Utilities\n",
        "\n",
        "Below is code to use [UMAP](https://umap-learn.readthedocs.io/en/latest/) to find a 2-dimensional representation of a weight matrix, and plot the resulting 2-dimensional points that correspond to certain words.\n",
        "\n",
        "Use `!pip install umap-learn` to install UMAP."
      ]
    },
    {
      "cell_type": "code",
      "execution_count": null,
      "metadata": {
        "colab": {
          "base_uri": "https://localhost:8080/"
        },
        "id": "DdqaX6gE-Afm",
        "outputId": "6b56cff6-050b-444b-fbd6-16a9c3e7db3f"
      },
      "outputs": [
        {
          "name": "stdout",
          "output_type": "stream",
          "text": [
            "Looking in indexes: https://pypi.org/simple, https://us-python.pkg.dev/colab-wheels/public/simple/\n",
            "Collecting umap-learn\n",
            "  Downloading umap-learn-0.5.3.tar.gz (88 kB)\n",
            "\u001b[K     |████████████████████████████████| 88 kB 4.1 MB/s \n",
            "\u001b[?25hRequirement already satisfied: numpy>=1.17 in /usr/local/lib/python3.7/dist-packages (from umap-learn) (1.21.6)\n",
            "Requirement already satisfied: scikit-learn>=0.22 in /usr/local/lib/python3.7/dist-packages (from umap-learn) (1.0.2)\n",
            "Requirement already satisfied: scipy>=1.0 in /usr/local/lib/python3.7/dist-packages (from umap-learn) (1.7.3)\n",
            "Requirement already satisfied: numba>=0.49 in /usr/local/lib/python3.7/dist-packages (from umap-learn) (0.56.3)\n",
            "Collecting pynndescent>=0.5\n",
            "  Downloading pynndescent-0.5.8.tar.gz (1.1 MB)\n",
            "\u001b[K     |████████████████████████████████| 1.1 MB 16.9 MB/s \n",
            "\u001b[?25hRequirement already satisfied: tqdm in /usr/local/lib/python3.7/dist-packages (from umap-learn) (4.64.1)\n",
            "Requirement already satisfied: importlib-metadata in /usr/local/lib/python3.7/dist-packages (from numba>=0.49->umap-learn) (4.13.0)\n",
            "Requirement already satisfied: setuptools in /usr/local/lib/python3.7/dist-packages (from numba>=0.49->umap-learn) (57.4.0)\n",
            "Requirement already satisfied: llvmlite<0.40,>=0.39.0dev0 in /usr/local/lib/python3.7/dist-packages (from numba>=0.49->umap-learn) (0.39.1)\n",
            "Requirement already satisfied: joblib>=0.11 in /usr/local/lib/python3.7/dist-packages (from pynndescent>=0.5->umap-learn) (1.2.0)\n",
            "Requirement already satisfied: zipp>=0.5 in /usr/local/lib/python3.7/dist-packages (from importlib-metadata->numba>=0.49->umap-learn) (3.10.0)\n",
            "Requirement already satisfied: typing-extensions>=3.6.4 in /usr/local/lib/python3.7/dist-packages (from importlib-metadata->numba>=0.49->umap-learn) (4.1.1)\n",
            "Requirement already satisfied: threadpoolctl>=2.0.0 in /usr/local/lib/python3.7/dist-packages (from scikit-learn>=0.22->umap-learn) (3.1.0)\n",
            "Building wheels for collected packages: umap-learn, pynndescent\n",
            "  Building wheel for umap-learn (setup.py) ... \u001b[?25l\u001b[?25hdone\n",
            "  Created wheel for umap-learn: filename=umap_learn-0.5.3-py3-none-any.whl size=82829 sha256=63f2b73ed6732e3e240bad412e9b362fcca8048c62eb9af5aaaec6d7d7f0d448\n",
            "  Stored in directory: /root/.cache/pip/wheels/b3/52/a5/1fd9e3e76a7ab34f134c07469cd6f16e27ef3a37aeff1fe821\n",
            "  Building wheel for pynndescent (setup.py) ... \u001b[?25l\u001b[?25hdone\n",
            "  Created wheel for pynndescent: filename=pynndescent-0.5.8-py3-none-any.whl size=55512 sha256=4a938646dafb9369d5434b38acea33bb6f7d35d136f7180795ddad2c131dd0ab\n",
            "  Stored in directory: /root/.cache/pip/wheels/19/bc/eb/974072a56a7082a302f8b4be1ad6d21bf5019235c2eff65928\n",
            "Successfully built umap-learn pynndescent\n",
            "Installing collected packages: pynndescent, umap-learn\n",
            "Successfully installed pynndescent-0.5.8 umap-learn-0.5.3\n"
          ]
        }
      ],
      "source": [
        "!pip install umap-learn"
      ]
    },
    {
      "cell_type": "code",
      "execution_count": null,
      "metadata": {
        "colab": {
          "base_uri": "https://localhost:8080/"
        },
        "id": "-jXDUrdMoGem",
        "outputId": "f83d7878-7d75-4c54-dd5a-399163bdeba2"
      },
      "outputs": [
        {
          "name": "stdout",
          "output_type": "stream",
          "text": [
            "Populating the interactive namespace from numpy and matplotlib\n"
          ]
        },
        {
          "name": "stderr",
          "output_type": "stream",
          "text": [
            "/usr/local/lib/python3.7/dist-packages/IPython/core/magics/pylab.py:160: UserWarning: pylab import has clobbered these variables: ['split']\n",
            "`%matplotlib` prevents importing * from pylab and numpy\n",
            "  \"\\n`%matplotlib` prevents importing * from pylab and numpy\"\n"
          ]
        }
      ],
      "source": [
        "%pylab inline \n",
        "import umap\n",
        "import matplotlib.pyplot as plt\n",
        "\n",
        "def umap_plot(weight_matrix, word_ids, words):\n",
        "    \"\"\"Run UMAP on the entire Vxd `weight_matrix` (e.g. model.lookup.weight or model.projection.weight),\n",
        "    And plot the points corresponding to the given `word_ids`. \"\"\"\n",
        "    reduced = umap.UMAP(min_dist=0.0001).fit_transform(weight_matrix.detach().cpu().numpy())\n",
        "    plt.figure(figsize=(10,10))\n",
        "\n",
        "    to_plot = reduced[word_ids, :]\n",
        "    plt.scatter(to_plot[:, 0], to_plot[:, 1])\n",
        "    for i, word_id in enumerate(word_ids):\n",
        "        current_point = to_plot[i]\n",
        "        plt.annotate(words[i], (current_point[0], current_point[1]))\n",
        "\n",
        "    plt.grid()\n",
        "    plt.show()"
      ]
    },
    {
      "cell_type": "code",
      "execution_count": 244,
      "metadata": {
        "id": "Vo_RJkhk7gpI"
      },
      "outputs": [],
      "source": [
        "best_lstm_model = torch.load('./saved_models/best_lstm_model',map_location=current_device)\n",
        "lstm_model_dict = torch.load('./saved_models/wiki_lstm_lr=0.3_lm.pt',map_location=current_device)"
      ]
    },
    {
      "cell_type": "markdown",
      "metadata": {
        "id": "v6s7wYxXoGeq"
      },
      "source": [
        "#### 2.1 Word similarity (3 pts)\n"
      ]
    },
    {
      "cell_type": "code",
      "execution_count": 230,
      "metadata": {
        "colab": {
          "base_uri": "https://localhost:8080/"
        },
        "id": "eSlbsCr-oGer",
        "outputId": "3111b0e8-9780-487c-869d-d4eb4fdc33a1"
      },
      "outputs": [
        {
          "output_type": "stream",
          "name": "stdout",
          "text": [
            "['a', 'Konami', 'sonate', 'Islington', '153', 'Romanticism', 'Psyche', 'sabotage', 'reissued', 'Algiers']\n",
            "['or', ';', '–', 'first', \"'\", '/', '@.@', 'city', 'film', 'but']\n",
            "['match', 'win', 'set', 'pass', 'defeat', 'record', 'play', 'return', 'campaign', 'lead']\n",
            "['Rashid', 'Kingston', \"'Italia\", 'Corners', 'Carrier', 'Applause', 'Canis', 'Buteo', 'Tamba', 'Torre']\n",
            "['voice', 'concept', 'phrase', 'plot', 'poem', 'fox', 'narrative', 'wedding', 'baby', 'depiction']\n",
            "['1916', 'dissipating', 'UTC', '1941', '1915', '1914', '1931', '1918', '1936', 'el']\n",
            "['when', 'but', 'before', 'who', 'while', 'during', 'between', 'which', 'after', 'under']\n",
            "['the', 'Sejm', 'popularisation', 'untimely', 'cellist', 'marksman', 'wrists', 'Poison', 'lifesize', 'Pr']\n"
          ]
        }
      ],
      "source": [
        "from collections import defaultdict\n",
        "words = [\"the\",\"run\",\"dog\",\"where\"]\n",
        "weight_matrix = lstm_model_dict['model_dict']['projection.weight'] \n",
        "\n",
        "# Cosing Similarity between 2 tensors\n",
        "def cosine_similarity(word1_tensor,word2_tensor):\n",
        "  dot_product = torch.dot(word1_tensor,word2_tensor)\n",
        "  cross_product = torch.mul(torch.linalg.norm(word1_tensor),torch.linalg.norm(word2_tensor))\n",
        "  return torch.div(dot_product,cross_product)\n",
        "\n",
        "\"\"\"\n",
        "Testing cosine similarity function\n",
        "word1_tensor = torch.tensor([3,2,0,5],dtype=float)\n",
        "word2_tensor = torch.tensor([1,0,0,0],dtype=float)\n",
        "print (cosine_similarity(word1_tensor,word2_tensor))\n",
        "\"\"\"\n",
        "\n",
        "closest_words_list = []\n",
        "farthest_words_list = []\n",
        "\n",
        "for word in words:\n",
        "  word_id = wiki_text_dict.get_id(word)\n",
        "  word_tensor = weight_matrix[word_id].to(float)\n",
        "  \n",
        "  cosine_matrix = []\n",
        "  for k in weight_matrix.tolist():\n",
        "    cosine_matrix.append(cosine_similarity(torch.tensor(k,dtype=float),word_tensor))\n",
        "  \n",
        "  cosine_tensor = torch.tensor(cosine_matrix,dtype=float)\n",
        "  closest_words = torch.topk(cosine_tensor, 11).indices\n",
        "  farthest_words = torch.topk(cosine_tensor,10,largest=False).indices\n",
        "  print (wiki_text_dict.decode_idx_seq(closest_words.tolist()[1:])) # Ignoring first word since it would already be there\n",
        "  print (wiki_text_dict.decode_idx_seq(farthest_words.tolist()))\n",
        "  closest_words_list.extend(wiki_text_dict.decode_idx_seq(closest_words.tolist()[1:]))\n",
        "  farthest_words_list.extend(wiki_text_dict.decode_idx_seq(farthest_words.tolist()))\n",
        "\n",
        "words.extend(closest_words_list)\n",
        "words.extend(farthest_words_list)"
      ]
    },
    {
      "cell_type": "markdown",
      "metadata": {
        "id": "KI1lsvVzoGes"
      },
      "source": [
        "#### 2.2 UMAP (3 pts)"
      ]
    },
    {
      "cell_type": "code",
      "execution_count": 233,
      "metadata": {
        "colab": {
          "base_uri": "https://localhost:8080/",
          "height": 592
        },
        "id": "QfDWQ0l7oGet",
        "outputId": "e96613f0-d63f-4168-8f4e-c759f186c0f9"
      },
      "outputs": [
        {
          "output_type": "display_data",
          "data": {
            "text/plain": [
              "<Figure size 720x720 with 1 Axes>"
            ],
            "image/png": "[encoded data removed]"
          },
          "metadata": {
            "needs_background": "light"
          }
        }
      ],
      "source": [
        "Vsize = len(wiki_text_dict)                                     # e.g. len(dictionary)\n",
        "d = lstm_model_dict['model_dict']['projection.weight'].size(1)       # e.g. model.lookup.weight.size(1) \n",
        "weight_matrix = lstm_model_dict['model_dict']['projection.weight']   # e.g. model.lookup.weight\n",
        "\n",
        "word_ids = [wiki_text_dict.get_id(word) for word in words]\n",
        "\n",
        "umap_plot(weight_matrix, word_ids, words)"
      ]
    },
    {
      "cell_type": "markdown",
      "metadata": {
        "id": "-d1AKIXPoGe4"
      },
      "source": [
        "---\n",
        "### 3 Sampling (14 pts)\n"
      ]
    },
    {
      "cell_type": "markdown",
      "metadata": {
        "id": "bJFXKrYEHDne"
      },
      "source": [
        "#### 3.1 Sampling implementation (4 pts)"
      ]
    },
    {
      "cell_type": "code",
      "execution_count": 245,
      "metadata": {
        "id": "ltVSli7ooGe4"
      },
      "outputs": [],
      "source": [
        "def sampling(model):\n",
        "  h0 = torch.zeros(3,512,device=current_device)\n",
        "  c0 = torch.zeros(3,512,device=current_device)\n",
        "  sample_sequence = ['<bos>']\n",
        "  xt_plus = torch.tensor(wiki_text_dict.encode_token_seq(sample_sequence),device=current_device)\n",
        "\n",
        "  while sample_sequence[-1]!='<eos>':\n",
        "    state_tuple = tuple([h0,c0])\n",
        "    logits,(h0,c0) = model.rnn_lstm(model.lookup(xt_plus),(h0,c0))\n",
        "    p = F.softmax(model.projection(logits),dim=1)\n",
        "\n",
        "    multinomial_op = torch.multinomial(p,1)\n",
        "  \n",
        "    sample_sequence.append(wiki_text_dict.get_token(multinomial_op.item()))\n",
        "    \n",
        "    xt_plus = torch.tensor(wiki_text_dict.encode_token_seq(sample_sequence[len(sample_sequence)-1:]),device=current_device)\n",
        "  return sample_sequence"
      ]
    },
    {
      "cell_type": "markdown",
      "metadata": {
        "id": "Hcf3aWxiHI2m"
      },
      "source": [
        "#### 3.2 1,000 samples and average log probability implementation (4 pts)"
      ]
    },
    {
      "cell_type": "code",
      "execution_count": 246,
      "metadata": {
        "id": "OqpTP-I_HJOX",
        "colab": {
          "base_uri": "https://localhost:8080/"
        },
        "outputId": "e474c35a-ae83-401b-b070-fe4418d12535"
      },
      "outputs": [
        {
          "output_type": "stream",
          "name": "stdout",
          "text": [
            "<bos> A woman <unk> to take declining with the <unk> and his intriguing arrangement . <eos>\n",
            "<bos> During a few years , in the 2009 review , Marlborough was selected upon for the departure . <eos>\n",
            "<bos> They have become a unique writer seeking a deal that write it would ideal to a private opportunity from a Toys of email suggesting for dwarf . <eos>\n",
            "<bos> He was differences belonged to the Canning Council led by the architect , which was employed by the rear delegates of the nucleophilic Palace . <eos>\n",
            "<bos> This vary from the center and the Lions ; but that this was in its community paid after establishing in one shoot @-@ movie competed between the age , leaving Cycle and the doped family took it for immigration ; in other form of nursery tests <unk> . <eos>\n",
            "<bos> Such Lebanese gave two earth in the first stage beginning . <eos>\n",
            "<bos> wrote stated \" kings are a lot of Be oracles <unk> producer nature \" . <eos>\n",
            "<bos> His few Hero sanctioned that loved no styles , saying , \" ambitions to the show \" will be consisting of the first episode : the three team , \" Tyrrell , bind \" , and <unk> written solo through <unk> . <eos>\n",
            "<bos> > Muwekma Lloyd artists on the Republican <unk> Telemachus , and as we are <unk> in exons , black and fiction . <eos>\n",
            "<bos> Campbell is a circular later , Ojibwe judo into which and SIA BC in 1964 . <eos>\n",
            "<bos> She also introduced the churrigueresque conducted by Yo @-@ service 516 work 's first campaign off fashionable , and about envisioned magazine and carried his career at 1850 , a Giants that he dates twelve years in a plane , saying it offered an Neolithic fewest in April Fine , which they created her . <eos>\n",
            "<bos> Covering a potentially 'd until January 5 , there was Braathens <unk> director Joanna theatre <unk> dispatching from <unk> , Lake hay . <eos>\n",
            "<bos> Since the state had finally become much longer as far as the depression ends , the first storm reached small darkness County . <eos>\n",
            "<bos> A year @-@ off @-@ coach <unk> for the 1990s Wood was built in the passing Mile Navy ( 30 mi ) in 1856 . <eos>\n",
            "<bos> The <unk> , also short @-@ rare la — with eventual hill at the Red broadside , and found seems to that any of the first enormous carved may be a closer to the invasion . <eos>\n",
            "<bos> O altar wrote that people as the gods had not have a beauty unknown , but was appointed an research coming incidents for several of England in 250 years . <eos>\n",
            "<bos> the interest renewed , breaking the country on straight days . <eos>\n",
            "<bos> The former officer who had made a Assistant castle for the 1980 manuscripts puts , … was on the coastal rub . <eos>\n",
            "<bos> preserve no kakapo is to be suppressed by elemental signals and states in the AoT with <unk> in ₹ 6 to night should be used by the protein of bernissartensis ( decisively ) . <eos>\n",
            "<bos> Every other Murdoch gave the delicate notified of the everyday voices Fisher , R1 taller and Purdham found by reporter commit pairing , Riverside Djedkare . <eos>\n",
            "<bos> Although much stars is often found to a physical area at the name , eleven voice of expedite patients gathered and Voce toward Orsogna . <eos>\n",
            "<bos> , I obscure more songs together , even Maugham , mind to make this understanding of the game , or the perfect major moment \" . <eos>\n",
            "<bos> ensuring 's performance from Kannada 's performance 's to leisure inadvertently <unk> \" that Roxas . <eos>\n",
            "<bos> He held just mate in Nashville because he was <unk> and Woodhouse with a great roof in Dutch 'état at showings , voted by Beersheba to Chinese Johan control . <eos>\n",
            "<bos> The I shows explains that the desire to approve he was another dark . <eos>\n",
            "<bos> 1351 217 and download should call off £ 2 @,@ 400 m , Nikita industrialist 's centimetres in summer , and arbitrary – 75 – 31 were housed to follow on the world . <eos>\n",
            "<bos> They only to be writer 's telephone Nine man against respect and his memories , and <unk> out chariot . <eos>\n",
            "<bos> The National Navy Tina invitation from 2015 to lay programs was revealed . <eos>\n",
            "<bos> , he was Meteorological 's sixth @-@ selling Germans had gone from the Big World Festival to the next title . <eos>\n",
            "<bos> may be delayed by Florida specially indicated , only only 28 percent of the <unk> of these haunted who has shown not concrete strictly . <eos>\n",
            "<bos> At the front of the Jurchens 's most occasions Women , however , improved pet that he was renowned to compose his height of the holy shed , as the immediately suspect to Colton these heads . <eos>\n",
            "<bos> She returns to the Institute of 1942 by Finkelstein 317 through Lawton as a thriller Joey for work where this female had been did poorly . <eos>\n",
            "<bos> Olivia plays pictures 's first 1795 tunnels , but originally verbal his mercenaries to barring doing little death . <eos>\n",
            "<bos> The premaxillaries identification was included in waist and <unk> Māori in blacksmiths . <eos>\n",
            "<bos> However , put numbers in a red parties later in Government was constructed for perfect schools , cane indications from Dutch County on September 20 , first Rovers to the Westminster Pole that gave him one empires . <eos>\n",
            "<bos> Inland structure of the weather business grey ( Not ) and <eos>\n",
            "<bos> He Mongols in Haifa , and United sanctioned was awarded the Amylostereaceae in the front of the border . <eos>\n",
            "<bos> Dylan visited the opening in operation and <unk> at the time for the second qualifying of the team after rice rights in Egypt , where he declared his Quakers in <unk> , as she was named as discs as none of the Georgian band Minister in 1950 . <eos>\n",
            "<bos> In the 18th century , 1224 Wood at an 77 @,@ £ 5 @,@ <unk> people , centres items , undergo progress at port , victory up to 25 years a year at Greater Bridge , which it was discovered by UNESCO had undertail . <eos>\n",
            "<bos> The ship , Frank and athlete have been opened north of the film by Port enter donations which was recognised by Fort <unk> , which has a city of dependent metres ( 40 cm ) above the interchange . <eos>\n",
            "<bos> Surrender in an Elder @-@ method that will seek offer into an musical tenth \" . <eos>\n",
            "<bos> There , <unk> offshore Combat participated and proteins <unk> Lands in tank retaliation , by whom finishing non @-@ owned camps in 1995 , and in Ed numbered whenever <unk> of another budget may have direct more of the real human . <eos>\n",
            "<bos> = Z of Chris 's Video = <eos>\n",
            "<bos> Gerard has \" Shakespeare Lerner \" , and looking as you performed up in the Congo ; the songs makes it list of her Skenesboro , despite a relationships that she is look and lecturing . <eos>\n",
            "<bos> Manfred of Dylan 's News were named video video : The track John Rocks and the <unk> version ( that managed ) to get back into Australian load . <eos>\n",
            "<bos> He simplified his sports path member second in the writing of saying editors ; the report to \" ... \" Stewie about him to patrons that he 've had \" < <eos>\n",
            "<bos> On January 14 , October played , Fey announced that of his first ranking , <unk> Clive , his release . <eos>\n",
            "<bos> unk> to kill the uprising of a abilities in recent eyes in \" Port \" turbines \" texts from vein purification and mowing investors . <eos>\n",
            "<bos> In 1946 , his numbers of a nearby gods Foot enough to take over the beginning . <eos>\n",
            "<bos> In 1960 that sold discovered for statements fires . <eos>\n",
            "<bos> They swamped hates flooding originating in the intersection and other James Castle . <eos>\n",
            "<bos> Though the Siege of the war had since tropical 1929 toward imagination , it was Alfonso that he met only by the Braathens at Division guy 's preparations in residents . <eos>\n",
            "<bos> , these theories exist in His process justice , can see to wears substances ( <unk> ( <unk> ) and more <unk> , or <unk> <unk> ) . <eos>\n",
            "<bos> > commanders is Blackie for various teens object , and of many different scale that complete power . <eos>\n",
            "<bos> Successful ISBN O luminous \" a small sniping of major obscure habitat in the blue core \" in much clear @-@ incorrect Kicking and project that forever all xenon of the ' very schedule was recorded . <eos>\n",
            "<bos> The system died after 41 , rivalry in 36 : 28 in the materiel of 117 Wing . <eos>\n",
            "<bos> By the next four factions , it known as \" oxen to give the Catechism \" from the texture and laid double to the Country <unk> and was \" quite all that disappointment the years . <eos>\n",
            "<bos> He scored four minute dock against development in pupils . <eos>\n",
            "<bos> The proximity of the eastern Jackets of reduce Isles were now prolific along its northeast turrets in New York City during the morning . <eos>\n",
            "<bos> unk> eventually absorbed the general set in <unk> y in 1996 . <eos>\n",
            "<bos> Super World Cross lived broke between 14 @,@ 700 yards ( 200 @,@ 50 mm ) long . <eos>\n",
            "<bos> It has been sometimes incorrect by Scientology ARVN analysis , one is a soaring dual Chulkhurst from vice IV . <eos>\n",
            "<bos> His she and us the problem of fusion and there are seen it . <eos>\n",
            "<bos> You objects wrote it as a \" crown hip \" . <eos>\n",
            "<bos> Throughout retired he was flew by having a recording in which he was sold . <eos>\n",
            "<bos> > church and house active Minnesota merengue in element . <eos>\n",
            "<bos> He Philadelphia on the first naval career in May 2011 . <eos>\n",
            "<bos> The third @-@ built digit building on the 27th , the headquarters illustrates by many storms and a phrase to temporarily ball pull on 20 – 1991 . <eos>\n",
            "<bos> Yeah shows that \" <unk> people ... \" have a low writings in the second game from age to each year . <eos>\n",
            "<bos> He surrendered to any swift by SMTV and he sell his contract with his assurance , but was facing the next year . <eos>\n",
            "<bos> This was founded by 470 cabled , which included a flavored of Amsterdam gospel in the band 's <unk> instead , and he wrote it to imagery Grande by Rolling French Las Kombat at <unk> 's Divine , four of Manchester 1997 play in England ; a former play in Isabella in London . <eos>\n",
            "<bos> <unk> ) , signifying <unk> , and other capability , were published in attorneys and president of legends picture 's < <eos>\n",
            "<bos> The Battle of the cougar was illegal in 1937 by fountains III Point mansion , and that the Art number of snake were effective to scientists . <eos>\n",
            "<bos> Besides the writing Herald 's brush , Canterbury decided takes all local beneath birth . <eos>\n",
            "<bos> <unk> are published in 1995 with his loss at mid @-@ Daily <eos>\n",
            "<bos> Later the colony was defined by midnight Korea 's <unk> , for example , Capablanca , especially and canons to meet according to Civilisation . <eos>\n",
            "<bos> Recorded in one <unk> that he would have come , Peshkin is involving to create café of Busch 's health ordering . <eos>\n",
            "<bos> In November 2006 , another precise ( hired ) was named in 1953 at one time with 1971 George hired , an Astro ( malaria ) offered by synonyms Don . <eos>\n",
            "<bos> Ryan 's provincial actor magazine was the situation visited the approach XIII ; in June 2009 , Djedkare served for asks hair from turn into the ruling of the fort , and as well as winds 's letter out to defend inherent . <eos>\n",
            "<bos> Players lists , three of which speaking occur to draw and was available to slightly pitch in Asia , relief in a order allows by a large representative company relationship for the region . <eos>\n",
            "<bos> The proposed performance were in a row after the 1860s , Ustaše at Beyoncé and Steve James who lived . <eos>\n",
            "<bos> Dota August , 11 – University <eos>\n",
            "<bos> A limited debut Telugu was 0 : Los miles ( 47 @.@ 6 in ) long . <eos>\n",
            "<bos> When go had a recorded position , they passed led to the United States and announced that Hornung had no audition , exercise to take the entire financial instead of bringing a back . <eos>\n",
            "<bos> The first festival of federal use was suggest by the Simpsons and <unk> of the provincial <unk> . <eos>\n",
            "<bos> Similarly , it included its first window from Maya City , and Attorney . <eos>\n",
            "<bos> and none of steel , the supply of men are created in Europe . <eos>\n",
            "<bos> Wilhelm once was remixed by the loss of the magazine live story to always <unk> civil Staley , including his doctrine <unk> names on The marines of Fame , a grid which has a muddy of that plans previously cutter in worlds in the episode . <eos>\n",
            "<bos> Other true ( Priest <unk> meaning Brighton ) . <eos>\n",
            "<bos> In addition , DuMont explains that if the Powers was plays to Troy , Carey could not find Liga include the player . <eos>\n",
            "<bos> The International community of Theodore Pioneer re @-@ released a standard matters with <unk> <unk> , project requesting , with which is jewelry as the cold Louisiana of 370 northward with the anticipation of the administration , located out of distortions . <eos>\n",
            "<bos> It was completed by the remainder of the Presidential works of Berhtwald , along with the fleet and hills <unk> System after others , or fully planned patrols , a studies that were about 11 % pool . <eos>\n",
            "<bos> Jordan after 17 : shots sold $ 700 @,@ 000 – Bristol ( Bell km @,@ equal market ) . <eos>\n",
            "<bos> As there were not worked there Request to identify them , pain , three of the indigenous Pacific Marine skin and at Miami military British aid , deGrom of its storm stunned by another crew . <eos>\n",
            "<bos> Marlborough continued that Madonna would be the case of existence select to seeing Nebraska . <eos>\n",
            "<bos> Writing for director , John of Monkey Dumpty , Anglo : former Science Barker in 1938 . <eos>\n",
            "<bos> Film Times noted the Mast were Rebel from B. purification ; winger Julian president and handling Manuel originates from Viking magazine have noted that the game 's movie was \" Piquet and subject \" . <eos>\n",
            "<bos> splendid 8 Z could be traveling with albums of an National drummer countries 's own description that has also very intense @-@ layer to prevent navies . <eos>\n",
            "<bos> and thus lay , and often are 113 , while others failed to pay the fort , leisure a coaling system to prevent $ 3 @,@ 5 / 1 cm ( 2 @.@ 8 in ) . <eos>\n",
            "<bos> We also came you to accurate airports champion around a distance when without only Friends . <eos>\n",
            "<bos> During the 1970s the decision , putting as finisher trees , it was transported in offices and the 2nd Light Regiment District Battalion , which had a last @-@ yard silent on September 22 , when it was transferred to 243 for the FIFA tournaments at storms Road . <eos>\n",
            "<bos> A re @-@ commented was estimates in this point as the album Geoffrey music video , and wrote that he would be \" ... ( believer <unk> to his claim . <eos>\n",
            "<bos> A petition used the council to stay off the next at five points , including the veil 500 @-@ Jamal <unk> on 3 August , Venus and began manager as a result of Henan <unk> , to the assistant 's honorary . <eos>\n",
            "<bos> Perfect charges are common on furlongs and workers by the victims of either burned taking 300 celebrity than vary . <eos>\n",
            "<bos> \" reporter Away me \" damages stations for the midst of her time naming Sancha cold , who had considered \" Gizmodo 's solicitor \" , who premiered again in 1908 and Aidid his grandfather . <eos>\n",
            "<bos> Following the life , Active attempted to influence the low responsible of overcoming at time and semi in Norway , while large lines did not v conditions until the course are monogamous converting removed needed . <eos>\n",
            "<bos> There – <unk> to household went with a 1 – 61 victory an loss of nearly six points and included 7 ° C . <eos>\n",
            "<bos> Racer changes to a number of mate without power , Islington in a <unk> and on trees from Palm to spotlight were open to humans . <eos>\n",
            "<bos> The order consisted of demanding André pupils and Rochdale on the show 's growth . <eos>\n",
            "<bos> I t 't know that evidence \" Cope for no other law . <eos>\n",
            "<bos> The effects of the German river at both Canada where individual , were effective in Kuwait . <eos>\n",
            "<bos> Several elevation of number organized and Amy events were , and unfounded storms were passed to the Syria . <eos>\n",
            "<bos> > committees , began a Huai dominated Americas , which saw to board 151 in Montana . <eos>\n",
            "<bos> Geoff was published by neurotic State that had been natures draft . <eos>\n",
            "<bos> band had come to representations to him and was won by Itzam Gaming her Smith director lucrative as Eddie , playing corresponds in the group , in which he did not mean the History of the Church of Dalmeny from Games in Fixed @-@ James and thoughts . <eos>\n",
            "<bos> Route attacked OCOG in the County , are to be estimated . <eos>\n",
            "<bos> A combination of numbered students to all one child have been now in mind . <eos>\n",
            "<bos> underside was rare , while Liverpool broke significant Christian Salib in the North film . <eos>\n",
            "<bos> ; according to U @-@ traders , Pitman felt the Sundance tour of the poems will Sarajevo the play . <eos>\n",
            "<bos> <unk> that the <unk> , Harold referenda of the Curse of Republic , which contained the south to allow the competitors to 47 Hebrew drafts . <eos>\n",
            "<bos> Since 1982 , North America had dissipated in grasping through listeners <unk> . <eos>\n",
            "<bos> About March 26 , 620 and all was significantly at least 30 million portraits . <eos>\n",
            "<bos> He stated that \" Loverboy \" , \" [ We ] supplies round me up with \" as Fall his jokes . <eos>\n",
            "<bos> In 1916 newspaper of the A.V. coastal known and establishing a small <unk> , thousands of interests , which were more only preserved on the ocean line of land , but places that can help be tendinitis by relied <unk> of law . <eos>\n",
            "<bos> Once immediately , it was initially the only @-@ bit to a regiment known that could create a Foreign piano exceptions <eos>\n",
            "<bos> Norman make Rachel 's influence when Jack 's story , becoming Beside in \" waist @-@ 3 \" , preferring described as \" a ] waving of the larger way \" , generating here to release its <unk> in Mortal Kombat Times , and written by vocals ( J. Today of \" Days \" looks previously prevention will independent as \" Starting \" ) . <eos>\n",
            "<bos> Live that enthroned showed for a family where dry dan from Section to the central Union . <eos>\n",
            "<bos> He referred to the interactions with breach troughs in the Leckwith style respectively of 131 and <unk> . <eos>\n",
            "<bos> It is first done by the 4th Game Association of <unk> II . <eos>\n",
            "<bos> In 1998 , he scored his 2 ranking in a kick @-@ canons to Berkshire on the last decade of the Hurricanes at the 2010 governments . <eos>\n",
            "<bos> Following the following season , the team returned into home pool at a <unk <eos>\n",
            "<bos> On 26 , the storm destroyed of bleeding hotels ; M @-@ de Island 23 had installed civilization , and has become Franklin with save cold – aircraft . <eos>\n",
            "<bos> The Jin and writer are used as altering , which might also serve in holes . <eos>\n",
            "<bos> Notable Weather Temples suggested that residents as a body may be Fanny in the ground , qualities @-@ with in this species . <eos>\n",
            "<bos> The bow assume <unk> the guns at both side , ledges – 50 , and 1 @.@ 6 @.@ 9 % . <eos>\n",
            "<bos> In late 2006 , the company – track Columbus took the construction in Argentina , and used a <unk <eos>\n",
            "<bos> In some cases , during the operation , the other U.S. army 's Bocks had approximately tactic in deeper , including resistance and berth , and in the Central event saw it to Wii by supporting horses . <eos>\n",
            "<bos> the local Peach reagents , creating just 6 @,@ 000 copies in the outside Francisco on Earth – 1 enter . <eos>\n",
            "<bos> The Malahide story of Cartagena , saying \" Kentucky Man commentary \" in New York he wrote that Blackwell , Rick <eos>\n",
            "<bos> The parish fertile Tiger — and sees Ceres by Japanese impurities freeway between making hands , other permanent Honorary rpm has credited shown directly beds in exploration , and in the extended they arrived killed . <eos>\n",
            "<bos> A 4 @.@ 0 % viewers in account measures the close Gold of habitation . <eos>\n",
            "<bos> A variety of eight state continued to stay , having small commercial player to the south @-@ and time , double @-@ five stories that attempted to pay nearly 1 <eos>\n",
            "<bos> Operation <unk> , Canada reported <unk> 's death in 1936 , and the system moved into ten game @-@ Final wake to Summary capture and badly deployed <unk> African II . <eos>\n",
            "<bos> The earliest source of half that in the <unk> was established ; this will appear in Official or records of her period . <eos>\n",
            "<bos> Several additional cases followed against a scorer of significant within ₹ $ 7 million . <eos>\n",
            "<bos> In London , Sierra <unk> produced to create inferior and wrapped relayed outside the canal ; and several adventure technology wasn 't officials billion on to the manga . <eos>\n",
            "<bos> Where positional Years was directed by triggering Asus , total exalted proteins for history including Culver and <unk> , politician and PA Carver . <eos>\n",
            "<bos> The earliest structure was taken in the early 1970s , and <unk> owned by the name <unk> ( on Croydon ) . <eos>\n",
            "<bos> Wiśniowiecki offers abnormalities of material , as well as aim and locality in age . <eos>\n",
            "<bos> Liverpool had since direct of them expect in the course of the US – pick Championship in Spain away , who started a extended <unk> Central Melody Wanderers six Slam Slam . <eos>\n",
            "<bos> Rowley was at Johnston 's page in 1966 . <eos>\n",
            "<bos> Many areas exhibits in order to temporary monitoring officials like unanimous , as well as its use of gallon thought to appeal to victims <eos>\n",
            "<bos> As of 1918 , Beyoncé declared the team known as shilling Super to 1982 variation on the Everglades <eos>\n",
            "<bos> The Ellington road is commercial @,@ 000 gold 'Connor in 69 @,@ <unk> Creek 1820 near Haifa , Jamestown reconnaissance , off the north and village before either contributed to SR forest , while Germany from 1863 honors was forced to fit between <unk> and State from Matthews to the Viet Village . <eos>\n",
            "<bos> He also premiered at New York One Hot Korea on Champion lukewarm <unk> list in 2012 , averaging Virginia and six weeks at the use of minor Rock . <eos>\n",
            "<bos> Fort Vanya also dissipated their first places channel all @-@ term time . <eos>\n",
            "<bos> Rihanna won the list by George Peter , \" The Simpsons Oxford story \" as noted in \" Mann @-@ <unk> \" , to show his first spin relationship . <eos>\n",
            "<bos> During work the next day , a American faction in Japan was contained with screens as the major framework for Mars . <eos>\n",
            "<bos> The earliest brahmin phenomena allows plans to have a small @-@ scale force that turn to a two base would be used . <eos>\n",
            "<bos> The very Leslie of which can be released on July 5 , 2011 on seven minutes , according to Innis 's roof in addition to William Sister Club , which continued to Rebbie against placid and small fans . <eos>\n",
            "<bos> The main profession of the fungus and logic which includes Lancashire and annoy Cracksman . <eos>\n",
            "<bos> Two chapters of operations in 1824 praising into an lesser school the works experience of Narvik , Eternia for the receptor Wave . <eos>\n",
            "<bos> Three Carolina studies were established entirely , the oldest pursuant with a attack that was concerned by Underwood and 57th to two other Wars during study . <eos>\n",
            "<bos> Most time , \" 1150 and Antiquities features <eos>\n",
            "<bos> In order to accept its attack , when discussions was acquired by Hadji , it was considering the compare general of Jin lamps ( qualified on January 9 ; Lady after the player , and only you , such as creepy ) while Christ ( Jarvis ) . <eos>\n",
            "<bos> 1818 defeated commands still adapted with their head and campaigns ; from the original regime , a sonic is not serious . <eos>\n",
            "<bos> One of Ibarra 's diverged was driven , and by Old 1906 , practised on restoration 's memory , intended to leave apiece of his employees , citing Albert Fantastic oil , with Khoo added that Destiny and production be described as \" the Home church \" . <eos>\n",
            "<bos> During much Las spaces , he seemed to have elected work with future rising theory , where he was appointed an English manager , although he believed Olivier was the best largely consent of a political life on her , similar to its identity remarried . <eos>\n",
            "<bos> > authorities of the United States episode announced that : Justice Park K stretches did not date between the Billboard Hot 11 and 28 @.@ end share during television supporters . <eos>\n",
            "<bos> The US 's localization is the Egyptian edition and is in which the jury are derived . <eos>\n",
            "<bos> He had sold four free 199 goals , allows the next 40 % Townsend in stiff games with Defence granny 's series at a second state of half , which playing by the British ANZACs scored landfall . <eos>\n",
            "<bos> A lot of removes : Bridges of christened outrageously ( need among <unk> ) was important music , Ross survives The levee herself . <eos>\n",
            "<bos> eight of family 's own include Square , was described as a red championship in the Angeles of West Symphonic . <eos>\n",
            "<bos> dormitories Sentinel of Michael specialized 's receptor release for the songs at \" Commander \" at Love Me <eos>\n",
            "<bos> The <unk> of the church would not be beneficial . <eos>\n",
            "<bos> England was capable of all successful rerouted coaches , while he became assaulted . <eos>\n",
            "<bos> The accessory required carrying Howe 's school line and was eventually described by the spirit in a female stable law he confirms place with his prestige worth , Pitman , having done value . <eos>\n",
            "<bos> won the acquisition for the NBA and most streams of the half @-@ minute division with the players and one , pro @-@ Jamal , who had did his family in the late Premier finals ( <unk> ) that he won moving up becoming the royal Line with his <unk> . <eos>\n",
            "<bos> The intention of a winning territories was known to agree on May 8 , 350 , with the equipment of its 19 in the 18th . <eos>\n",
            "<bos> After mixed on record 's Olympics , <unk> ( <unk> <unk> , ultimately interpreted ) , and as marry Montana ( 75 Chakraborty ) , Dutch drainage ( Doyle , dictated <unk <eos>\n",
            "<bos> Later that year , the rest of which Gloria continued to undetectable annually as the გ anniversary , and Al <unk> developed on the southern extratropical and Kazakhstan Hill . <eos>\n",
            "<bos> Barrow was then properly Amedeo to celebrate Milky Agriculture style who had previously ran in Los awards . <eos>\n",
            "<bos> As a wide professional force , the Thai @-@ central Pemberton @-@ di depot slipped with two disputed power , large Turkish belt Airport , at <unk> damage . <eos>\n",
            "<bos> were demolished after a prototype finish on 11 March 2009 and Preston a party in Russian . <eos>\n",
            "<bos> A referring in the relationship Conservation to the estimated nature of M @-@ preparing and has the last members of the first time . <eos>\n",
            "<bos> This was home to his appearance including \" <unk> in Love \" . <eos>\n",
            "<bos> In 1981 , Townsend studying the Woman of the media of the \" Immediately Association \" . <eos>\n",
            "<bos> While the ode of this guitar , the American Empire of Skye digging in size <unk> , that for several out are fill in Nasrallah Qi disputed . <eos>\n",
            "<bos> At designing to Konrad de War Player still had not been fond of the work . <eos>\n",
            "<bos> strong tried to become a storm and were recovered then created by <unk> <unk> . <eos>\n",
            "<bos> nourishing 79 airports was stare and in March 2008 with John <unk> of his prisoners of the Ring Peninsula , <eos>\n",
            "<bos> If the fungus reached her decision with Maximilian to control , it has a style screen . <eos>\n",
            "<bos> It was the first time turned in the caves , but when he was able in Vietnam , finishing at the home aftermath from Commons from front to shooting Division <unk> in 1908 and the second season in defeating League . <eos>\n",
            "<bos> unk> and <unk> ( Jack situations Carrie ) on the Cretaceous , wider Relics which restrict Kombat , Davis , Fame . <eos>\n",
            "<bos> The use of Tintin , was claimed by several times were calculated to be able reservoirs to include <unk> , although they believes \" language no freight and manage up to <unk> in October all things \" . <eos>\n",
            "<bos> The National Land of the war remained built at the PS2 of Bradford Lake at 1916 , but a ba , was later described as \" < <eos>\n",
            "<bos> Although the Government held a period in 1960 under the deck and a small seating in September 1951 , Johnston had operated Molina No. seven capital and issued a Allied blockade wall , flock . <eos>\n",
            "<bos> Once the Moffat lost one ( a total remaining men , the remaining lived of different boss of a occurred of many on its André ) remains one of the most in different forms , safe descent and natural 737s . <eos>\n",
            "<bos> Also , through lumber , hate , in English was bought in the exciting backhand , engaged in that irony , securing variant for the <unk> 's other magazines . <eos>\n",
            "<bos> On 1895 , prompted depictions of the Soviet Charmed River called the new Scout ibis in 1973 , which involved improved damage and greater behind the fourth level during the border ; however , all additional thin spectators were moved . <eos>\n",
            "<bos> The Tigers executives really profitable draftees rediscovered off the Jewish waters , making both mini @-@ Avi in southern Royal heat lines . <eos>\n",
            "<bos> Along foxes 's customers of ghosts almost location in the child along with others , the public allowed themselves to be strong . <eos>\n",
            "<bos> Later , not that the commander of M @-@ autobiography before King buildings , the 5th Squadron came at Kansas Hero suffered founded . <eos>\n",
            "<bos> He termed halides <unk> into nine years , before damaged with Nixon in Semaphore made at <unk> circuit on 3 December 1970 . <eos>\n",
            "<bos> The next year , under the original shoreline tire , Varanasi appeared in matters — not since more than Star % of the film . <eos>\n",
            "<bos> It is located by Krasnyi Pity reclaim ( <unk> ) . <eos>\n",
            "<bos> she is considered a loose or Le bound by being mentioned , in which phase refers to a zinc . <eos>\n",
            "<bos> The nature of the then early Holocaust gameplay in the area have strong Americans and <unk> position . <eos>\n",
            "<bos> Aerith used like the show to the temperature of low sales in Anatolia occupation . <eos>\n",
            "<bos> > @-@ Petts with heritage managed thereafter , and the Turks did only 120 @,@ 000 ground . <eos>\n",
            "<bos> Additionally , profits Steven <unk> said of the episode Mr and The Official Peter wire on Faithfully <unk> in the Sultan during the series , he discussed the Faulkner loyalty to Football Britain 's trips ; this was informed that Racing was not theatrical . <eos>\n",
            "<bos> In the three stages of the trophy , looms in herself testing has some source of intruder are delivered . <eos>\n",
            "<bos> Busch 's unmarried chief <unk> noted the show homosexuality and <unk> . <eos>\n",
            "<bos> From positive territory for Odaenathus all 217 these in the French 4 driver Ravana , Two attempts to shoot their fire from <unk <eos>\n",
            "<bos> develop , and the company ordered the coast of capturing Mount opposite coordinated to the National terminus of Season waters . <eos>\n",
            "<bos> Columbia 's Shu Mehbooba Out have known Axel upheld that Constantine older that these burn <eos>\n",
            "<bos> same eating after marriage to politics , some is negative . <eos>\n",
            "<bos> If these original were less simplified , he had been built at a main Allies at its main tier in a trip of August 26 on November 7 , 2006 . <eos>\n",
            "<bos> According to Susan sciences that originated in mid @-@ fiction to occupy the title performance of American wrong owned in Syria , it had one memorial 1701 on the three façade permits by Doc 1930 along the <unk> Film Center Dam estimates . <eos>\n",
            "<bos> Approximately 11 mm ( 8 ° m ) gun made up of heavy gun and 7 – 9 . <eos>\n",
            "<bos> These associations Liu <unk> who produce them to win include Robyn to make it <unk> the \" Manga \" and <unk> amounts of a limited substantial studio \" . <eos>\n",
            "<bos> Though a series of word ' vocal finest material , that will not exist it . <eos>\n",
            "<bos> The NY 180 in 700 's pilots informed the ARS . <eos>\n",
            "<bos> The earlier problem in Nîmes remains the planet was reducing in that , but \" was criticism by leaflets \" upon the woman , and as couldn were a expensive of the karate of American and Dudley , obtained unlikely before decimated between the 1880s at October 13 . <eos>\n",
            "<bos> He was initially of White 's marriage in PlayStation <unk> by writing \" Mary shocked \" . <eos>\n",
            "<bos> After the eight @-@ year club , two seasons were fired with moving hitting by high villages from running pumps including Pradesh <unk> on the north to Commons . <eos>\n",
            "<bos> also won Goldsmith 's day in 2006 when he extended his record ' career debut in Scott Super Open , as manager winning franchise Shand by three weeks at Rock in 1991 . <eos>\n",
            "<bos> Of the solution , included a <unk> <unk> similar about Förster in F ; is a exceptions of the name curator and the dark Age rump with brood Levy . <eos>\n",
            "<bos> Nevesinje themselves as occupying residents , led in 1 May 16 , 102 of successive Patriarch during the 2004 Man Awards – <eos>\n",
            "<bos> In his first Test , in attempt to visit many of the HNC , he had built for <unk> to withdraw in g. . <eos>\n",
            "<bos> that he does change out of the pacifier <unk> . <eos>\n",
            "<bos> He was recorded to hosting their heat in Scotland , Railway , as he Communist was recorded . <eos>\n",
            "<bos> Vasco was a man of her family from 1997 , either Archaeology in which Shakespeare is starting not terrestrial . <eos>\n",
            "<bos> Although Wagner Charlie itself , like the entire hostess , commanded by it are that was built at an American ² . <eos>\n",
            "<bos> > 's Pryce of Heaven , writing that he was first <unk> at filming 's Hawker @-@ selling protection at the stem in the romantic view . <eos>\n",
            "<bos> Ross had realized the alternative with the response to compounded <unk> instead of his involvement in the town of Village to <unk> in response to the kindness of Haifa under standards of southeast . <eos>\n",
            "<bos> Viscount 's first place in a note , well amateur once , with the story yellow Mortal Fall to save it . <eos>\n",
            "<bos> , claimed said it did not put with the ranges . <eos>\n",
            "<bos> unk> in Maria overrunning Wallace , and from the journalist of León it ’ s spiral baby in meaning ” , and bound no models to create control of the characters nor rubber in honours including <unk> . <eos>\n",
            "<bos> He claimed he gave the bar Markgraf James of negative Man in Bermuda , but Mycena , \" Jardine would have revealed what is expressed \" . <eos>\n",
            "<bos> Following membership 's death , the fox in a ancient trough of cells and slopes to Jasper . <eos>\n",
            "<bos> No Attorney of the discovery include 1500 <unk <eos>\n",
            "<bos> James and <unk> and held two substantial sized 1135 in the Independent , built the branch in the Old <unk> College . <eos>\n",
            "<bos> He was beaten by grade on many production chord distracted and Barry observing . <eos>\n",
            "<bos> However , by the evening of Congress would have revived the screening in Somalia as an popular gadolinium wounds , they became this . <eos>\n",
            "<bos> He then heating the Hamisah with the Cabinet to dig because his king readers Chris Peter Jericho , and <unk> the winning chambers in the single to the nomen . <eos>\n",
            "<bos> According to more more than six years attacks , though nominated was leader for \" The Kurt <unk> \" , a woman 's third play was not released by Best invasion which described by music Selo but < <eos>\n",
            "<bos> In that vassal , some ill @-@ push events present on long % of the assault of plants . <eos>\n",
            "<bos> > flows , followed 93 and use use on competing hair . <eos>\n",
            "<bos> The help dust for the same time that the fastest reached a Category hastily Boise Harbor for semester . <eos>\n",
            "<bos> As a result of basins of bodyline and Apted on the Storm envelope , no more British stemming are back more in permanently years , due to other other publications . <eos>\n",
            "<bos> Oh White is a different of the loss of 1853 from the first <unk <eos>\n",
            "<bos> On 9 January 1894 , 2013 , ran noir , was placed in 1902 . <eos>\n",
            "<bos> He continued to turn until the weekend : <unk> Halo where he earned its big offer protection back . <eos>\n",
            "<bos> When enjoying with <unk <eos>\n",
            "<bos> As <unk> Weinstein of the 8th century , an area of Andhra Burns between the upcoming U.S. hurricane panel and the Ezekiel 's services consisted of ratings . <eos>\n",
            "<bos> Another civilian Southeast battlecruiser handwriting said Brian is normally considered her experience , \" M @-@ headed the <unk> greasewood \" and \" that the number of force , should be able to need to 1884 in the day . <eos>\n",
            "<bos> After whom lost with one hours in a points 2 , Wales lost the age for five Tech , formed the following eight hours and heads over the Premier and four innings in the area . <eos>\n",
            "<bos> <unk> at the coastal <unk> among complex <unk> , < <eos>\n",
            "<bos> A major @-@ music show of Christian Weekly include Out @-@ Games . <eos>\n",
            "<bos> The music approach he brought little such as the central game to be a deep @-@ of @-@ cook order who <unk> his charter . <eos>\n",
            "<bos> Montfort 's Blood was tied for the <unk> of Plunketts rhyme who traveling she had shown they worked out as well . <eos>\n",
            "<bos> The recalled fell to the artwork , while in 1999 , asked the beginning of his first victories on Game Manager . <eos>\n",
            "<bos> Isabella praised cropped on their inhibitor illness out Act of unanimous through some of Allosaurus and civilians . <eos>\n",
            "<bos> had been won by assign , Transport who had entered until his completion that year . <eos>\n",
            "<bos> In 15 , Decision <unk> of the Hokie Institute of William Rifles attributed , David Johnson and decision , who had an counter @-@ direction for 13 December before he took , using a minority . <eos>\n",
            "<bos> the 1st include rear of 53 : 3 mm ) and the <unk> diamond ( 0 @.@ 0 – 0 in ) rate in length and the elevation ( 4 @.@ 10 ; 9 @.@ 3 in ) in length and <unk> , with Darren degrees : 22 @,@ 000 to increase by Mount expense . <eos>\n",
            "<bos> NASA identified Parvati later takes his future controls at King to interviews . <eos>\n",
            "<bos> Sexual meant that Nicole moved back to the House of quality as \" New 1963 , while Cole who was commissioned in a time for Joan Ruth that they admired all the mountainous scene . <eos>\n",
            "<bos> The police order in Harsha lists an Nettles for show the \" confidence countries \" to the <unk> oxygen inside the feud . <eos>\n",
            "<bos> One of the factory plays , while Hamels also declined to classroom the remaining school and continued to flee were curved . <eos>\n",
            "<bos> They have more significant and one stations and examined the same three global Investigations mounts . <eos>\n",
            "<bos> Jagannadh , who was known of precision <unk> , <eos>\n",
            "<bos> breed , with Maasai 's partner , has limited less Passage bird . <eos>\n",
            "<bos> A cytoskeleton is a damaged thinker , in which social refuses due to smothered swan . <eos>\n",
            "<bos> Juan had a Freddie in moving Stratford matches and to withdraw simultaneously that delivery had revealed the rest of the 2015 Act , they called the shoot as well as the reviewer 's <unk> and \" powerful clearer sorcerer \" . <eos>\n",
            "<bos> Biographer 's major vocals was assigned to the \" New York Times ( Old novel ) \" . <eos>\n",
            "<bos> She walks with Friends and Jim injuries , saying that \" the song saw much guitar large eighteen female paints \" and reactions they could measure for any albums . <eos>\n",
            "<bos> \" Dota Love \" was an mixture of Myers of critics . <eos>\n",
            "<bos> Since Roger , the writers of Djedkare was a personal turmoil of video Borders : <eos>\n",
            "<bos> The ā due to the Rio Millions on the Crews 's 591 Corps and follows the number at 48 @-@ 39 and five hours of the defences . <eos>\n",
            "<bos> In Iceland such as the narrator intoxicated , Roger Series ratios , <eos>\n",
            "<bos> The view of genetic activities were drawn in Northern terminus , in the Twenty , but it is known as a \" <unk> of the envelope \" . <eos>\n",
            "<bos> Furthermore , the Patriarchal brigades caused Asian activists supplies to mountains , and the federal Parachute Rush took place near a school before Miami Depression a single awareness road . <eos>\n",
            "<bos> The show is that another piano shifts that the Americans had to have a heart focus in the key . <eos>\n",
            "<bos> Dylan noted it was released from the album 's best recover Baby . <eos>\n",
            "<bos> They had appeared in the winning election , and this was devised by Banning , her son colonial <unk> , < <eos>\n",
            "<bos> The game is not too enough to watch even refusing with <unk> <unk> . <eos>\n",
            "<bos> and the New Zealand San Open , long @-@ in @-@ geographic of Benedict ranges was only termed it . <eos>\n",
            "<bos> During the 2001 Trail , Skinner auditorium Taylor 's team achieved to move then when the men are unified within jobs on £ 118 . <eos>\n",
            "<bos> The transit of Hamilton , although Shiva and up to 4 @,@ <unk> lb ( other 42 feet ) of cousin , and started 3 in 125 per days and needed to begin kitchen , which was viewed to preserve the Song bid following the Mississippi de Department . <eos>\n",
            "<bos> A figure of a large agreement of construction is visible into all friend 's @-@ Bosnian . <eos>\n",
            "<bos> As two years ended strength with Amanda alligators the desperate aid in the building , was ruled by christened by Ireland . <eos>\n",
            "<bos> He found his debut proposal theories , <unk> that he became the songs to Maryland in his series \" going to go increases \" . <eos>\n",
            "<bos> > similarities , which responded to Brazil <unk> High moves identifies and \" coordinated a <unk> \" , what was well leader in November 1918 , and time that he scored against the same volumes following the Guitar government stiff video , calling her Egyptians to \" divine views \" . <eos>\n",
            "<bos> Greek praised Piggott 's specific Research characters in his choir 1970 . <eos>\n",
            "<bos> Because more work , which had thought to many end , was captured by mercury retained . <eos>\n",
            "<bos> The <unk> motivate low @-@ in @-@ initiative with a option in more Scandinavian project , as 1136 over 9 @,@ 000 <unk> . <eos>\n",
            "<bos> In Ireland , signing on a conclusion in the game 's summer or opera at the locating Senate agent early , although the Viet road had Helms and a copies <unk> on M @-@ feathered , he confirmed uncovering with the blockade in <unk <eos>\n",
            "<bos> It was published to 48 : 1959 with AP university , ( British Williams : 85 Attorney Live in 2012 <eos>\n",
            "<bos> This was also a mark in the city 's northern centuries and only the freeway under them 's nephew . <eos>\n",
            "<bos> In October 2008 , the storyline was announced by the mixing assault . <eos>\n",
            "<bos> unk> with several succession , independently , permanently had Crowe the next financial artillery . <eos>\n",
            "<bos> Lessing became an trick of some space attempting to romantically him , in particular – power . <eos>\n",
            "<bos> With his background , Aniston dominated them together with jazz 's 12 recovery ; <eos>\n",
            "<bos> – A Forrester of Lords ) and size received more reviews of Polish @-@ pot . <eos>\n",
            "<bos> Even emptied on ratings , recommends , invertebrates and Mount , both started and isn ( especially so on maximum of record ) . <eos>\n",
            "<bos> However , Khandoba thereafter of Magadheera in date between both the episode will be produced or professed when it has previously held watching him , but can Ain . <eos>\n",
            "<bos> unk> staged by the press of his organ 's choice , Prime HMV deemed \" Mr. for the original investors back about how . \" <eos>\n",
            "<bos> As \" the band \" , she would hold them in a natural material by Principe works , so it was calling that never reconnaissance soldiers some Barney before he allowed the world left up . <eos>\n",
            "<bos> ; some Fire SAIC as a revised races in the west Interchange of 1833 , Merrifield now met the unnatural transport of the United States on November 25 . . <eos>\n",
            "<bos> Pete flat , who lived to Honolulu 's career guitar <unk <eos>\n",
            "<bos> Subsequently to <unk> Bond , the increase starts to catch tropical men to mimicked in the Swiss area , south of the 1940s witty . <eos>\n",
            "<bos> He considers that the screenplay that his motion was \" Tay and 's <unk> , a <unk> on the <unk> where the eyewall mention in cost \" . <eos>\n",
            "<bos> The pattern of inactivation is about Kessler , wore miles ( 3 @.@ 8 m ) below the largest sector at Philadelphia and east of which has no western storm of 1926 but continues to Al intensity . <eos>\n",
            "<bos> According to Olivier stays , resistant specimens ... exist foods . <eos>\n",
            "<bos> The reads nature is the downgraded , but in January Abby , $ 20 million , along with the artillery of the 2nd – 51 Brigade , Cherry was viewed with different common places . <eos>\n",
            "<bos> These lakes wrestled variously to be being crimes in the Bahamas : < <eos>\n",
            "<bos> There also traveled a deal committee for eagles Composers into the village ; <eos>\n",
            "<bos> This UEFA authors , which was powerful by the servant Open , Alexander Gilbert , and marching the film 's audience . <eos>\n",
            "<bos> <unk> , of 1891 of Beaufighter stare , was movements in the pseudonym , with one of the policies 's Jewish clinically component between the Imperial Branch Corps in King , in the early mid @-@ century Bat Great Championships and the Soviet Navy . <eos>\n",
            "<bos> quotations says the Reclamation and individuals initially consequently was supplemented and his shifts would face Boss . <eos>\n",
            "<bos> An syādvāda was known by P. Mario Boss <unk> until 17 October , but at the end persisted . <eos>\n",
            "<bos> The ylide is imported as part of the symbolic deity which is now the northeastern waves . <eos>\n",
            "<bos> Her \" Duchess <unk> Turnpike \" , Insular but announcing struggle . <eos>\n",
            "<bos> unk> with evaluating , when he could <unk> her on his lifetime , General <unk> , being , a huge rector to remain out on the banked the year after the bid , to investigators found and elder because Phil and Hantzopoulos poet in the left . <eos>\n",
            "<bos> fix and political diseases remains that <unk> Feldman aside ; which just 11 cm had losing that pm . <eos>\n",
            "<bos> > 1689 large the tier of an Swedish Kombat stem in a same room with the urban <unk> rooms . <eos>\n",
            "<bos> At the effort of a 1970 Boogie in development , the British position introduced commercial trees , climbing World treaty , and being still met by parallax . <eos>\n",
            "<bos> governor being the project 's <unk> , and their focus at relaxed trails . <eos>\n",
            "<bos> one code casuarius Stephen , who returned under Eshmun 's primary Illinois to be font to win at the climax site . <eos>\n",
            "<bos> The International plans 's batsman were called the phenomenal printed from tourism Run in the <unk> of danger others from the spike , and to North set in ponies reported that none of the <unk> there became the Carolinas to accept the strands frontman examines Cardinals in kerosene . <eos>\n",
            "<bos> On October 18 , 1999 , the 766th received more than 19 miles ( 9 @.@ 700 m ) from Braathens : 3 feet ( 2 @.@ 0 in ) per year in Croatian game . <eos>\n",
            "<bos> Merrifield in a laboratory student in the United Kingdom and pack College in the spring of Charing . <eos>\n",
            "<bos> The commander of Alabama turned 53 to passing siege water in support , money at existing objectors . <eos>\n",
            "<bos> In June 2009 , one of the now army cost in June . <eos>\n",
            "<bos> A restoration was that reached the empire , however , it began to October 19 , in Oslo Ridge . <eos>\n",
            "<bos> The GA bedrock claimed people started the first Chamber as few were civilians more than 57 years . <eos>\n",
            "<bos> Aston January another seasons , however , John some of the reliability were implemented to the Hyman , <unk> and permanent photo <unk> in the target @-@ European nations of the New NBA Village . <eos>\n",
            "<bos> What know that bids that they could cause Gerard . <eos>\n",
            "<bos> He is no recalled after subsequent <unk> and was granted the play . <eos>\n",
            "<bos> The battalion can be repeatedly available to the eastern successive Mountains , where her frightening line are in the campus . <eos>\n",
            "<bos> For mercury , Lennon expense after Europeans in Greenwich , so one thought that there is no additional <unk> who did not France strong . <eos>\n",
            "<bos> The combination of the presence of changing <unk> ( now <unk> ) was either burned in iris . <eos>\n",
            "<bos> Tropical Ridge were close to a few days back of folk horses in a national , except foreign effort . <eos>\n",
            "<bos> The route may have been released in initial courses , which in early South governor there are support for the unions of San RIAA to undergo immigrants in the Ganges . <eos>\n",
            "<bos> This expected intersects the northeast for an relegation at North @-@ five Paradise and was completed in 94 . <eos>\n",
            "<bos> Beginning with no nest , Hiyorigawa <unk> were told by represented a short personality to cross members @,@ 000 to 93 @,@ 000 course . <eos>\n",
            "<bos> , Bde stars were used as the main risk arms as a still group ; and difficult can escape it regarding to move , before any other data will be protected . <eos>\n",
            "<bos> The international plays works is required in much place in comprehensive builder . <eos>\n",
            "<bos> She was able to make up the ball from the third – mark away shortly in the following month , making Miami on a drive UEFA to 4 – 0 . <eos>\n",
            "<bos> Since March , O. 'Brien Brannock a Warrior risks of Ireland will choose pop . <eos>\n",
            "<bos> According to <unk> , the two increased men were mentioned by introducing Web may be enthusiastic . life or LeChuck was home to Venus , making it the bottom of the island . <eos>\n",
            "<bos> A local language version praised the series from the video and Reportedly of his friend 's Christian aimed from the soundtrack . <eos>\n",
            "<bos> After Tropical Depression footage of cadmium 's 141 Tunnel division , meant the storm entered the dollars on <unk> and it significantly through the senior <unk> . <eos>\n",
            "<bos> John I 're describe of hearts as much their lot ( of hamper [ the ] character 515 ) , <unk> ( restraint . ) and a <unk> <unk> . <eos>\n",
            "<bos> These were learning to recover \" intrigue treatment . <eos>\n",
            "<bos> studied soon released for 400 feet ( 6 @.@ 5 m ) wide to three feet / <eos>\n",
            "<bos> The lotus quality of <unk> dads in Islanders , and Copenhagen for both African and Iguanodon , which are like such as those . <eos>\n",
            "<bos> survey Race averages their hill through the field bank and their point of 100 headed was encountered . <eos>\n",
            "<bos> He finds herself a <unk> @-@ up tube what she believed that Bill declined all the policy of show inflammation himself . <eos>\n",
            "<bos> no high amounts of southeast almost at brothers , but all would have been knocked to , and become gold . <eos>\n",
            "<bos> His parents are 0 @.@ 100 m ( 7 @.@ 8 m ) at 2 – 11 , 1 <eos>\n",
            "<bos> The first major <unk> in the earth was begun by Frank <unk> , Atlanta <eos>\n",
            "<bos> The versatile @-@ wave were finally armored in the second towns . <eos>\n",
            "<bos> Jardine tells the star with Working saying while the opera was used as large concerned from the something or listen dead . <eos>\n",
            "<bos> The size of the cougar is around rampart by NY 38 and Galilee called it it <unk> in B. coilin <unk> . <eos>\n",
            "<bos> The entrance was located in the 1862 of New December and , which is part of the country , which George factors boom and reversed power . <eos>\n",
            "<bos> These first instrument video was satire in August 1997 . <eos>\n",
            "<bos> development are derived of Keats 's view of the song for a book , and used by Bangaru . <eos>\n",
            "<bos> This depression was deployed to open flooding along five UTC in the Central depression . <eos>\n",
            "<bos> They grow in a de @-@ Prince finish with 081 after the Peach Hinduism cricket . <eos>\n",
            "<bos> He did not tripod enduring and these periods consisting of image . <eos>\n",
            "<bos> At the reliefs , Strong 133 protested by other damaged 260 show such as the Isles for students and fine merengue . <eos>\n",
            "<bos> Two part of the men became the earliest British muscimol of the Duke to El Edward attacked in 2014 , and his work were appointed for the Soviet zone of Alkan in the Cincinnati . <eos>\n",
            "<bos> It was also Stevens one of most four @-@ five films , most Payne with six reviews . <eos>\n",
            "<bos> Manchester was taken two on the BBC Super Star Actor further chart in 2006 , afterwards City President his first May Vermeer at £ 25 million in Blacks history with a 13 – 36 ERA that had Tech removed at fourth @,@ 000 Aurora following numerous routes but election before being ranked on a coin . <eos>\n",
            "<bos> The expedition of one of its tower while it had sends for a more homes under many McCormick cup . <eos>\n",
            "<bos> unk> that speculated to be handled by this parents . <eos>\n",
            "<bos> But cannot not as Bart as young and has nuclei with nature that you prove to Ålesund . \" <eos>\n",
            "<bos> On February 2011 , Christine began transferred in a significant service in 1947 , that he was one of the best ruling unbeaten in films . <eos>\n",
            "<bos> Op. received a <unk> @-@ invasion on Maryang 13 in deployment and ended by the 20th Mountains of American Warsaw . <eos>\n",
            "<bos> Inside he continued to Fir along an tail of six thousand draft with weight , and completed on 25 February . <eos>\n",
            "<bos> At Tropical Rock 1915 , she spent an annual yards in 1 @.@ 5 % roads reception from 15 . <eos>\n",
            "<bos> chin 's hole was \" good \" racing , an attempt to phone every term of <unk> in May racing . <eos>\n",
            "<bos> Clonmacnoise , leaks by 5191 and Massachusetts Aided at the affairs of water , Joey the site battlefield into part of the sport of the House of April Renault . <eos>\n",
            "<bos> A critics bought linebacker from Scientology isotopes Galway and Scotland as the best Marseille of Vision of the series having , including no @-@ reacted creator of set on some Vegas unjustly . <eos>\n",
            "<bos> He was abolished by sports Army , whose explaining he was one of the label so himself demeanor when of their death had a angle of her ideas alive while everyone , as she was able for effect and other backgrounds in the characters , who has made a Levant of Ruth from the series as a defences of Sora . <eos>\n",
            "<bos> LiSA and The Chicago Hungarian leather wrote the title from rests playing ride , rather than Centaurus magazine : <eos>\n",
            "<bos> It may two significant tissue aldehyde and loss of four likely by players are open @-@ layer in uncontrolled . <eos>\n",
            "<bos> He detailed his race when he was successor in the Nazi Navy , <unk> the 111 traps , and PA Yourself as their acting , were the first breed of class in romantic games . <eos>\n",
            "<bos> Extensive include the Austrian card on the cinematic Chart , and the 11 is to carry on lights , and three , and 20 % of the County Assistance . <eos>\n",
            "<bos> The 2001 regiment , with Bertin from decide fighting , three state in 42 Agreement W. warts , and unitary builds dresses and the claims Control near the Ireland , Juanita on the Réunion Two squadron adjacent at maintaining Pitchfork UTC in <unk> . <eos>\n",
            "<bos> Ohio amateur convection may be of swung as the <unk> intensive in the <unk> healthy at World War II . <eos>\n",
            "<bos> The most line in which a compares version was a assistant for works , singing by Rome ; rubbed of military artists of some technology who lets may have <unk> high out of opera to mind that he was used by adding the alignment of the entire practice . <eos>\n",
            "<bos> People like sacked was observed , and the German SF were caused by much of no groups in the Templar @-@ draw celebrating . <eos>\n",
            "<bos> He conceived to generate the crowds in the Fox Nations Olympics , and appealed to the south that had he returned to < <eos>\n",
            "<bos> God of 12 @.@ 5 in ( 2 @.@ 3 mm ) of cooler populations atop the roadway in convection 's Wolverhampton Opening as Oldham 's Ancients hydrogen , a total of an general largest speed in Hampshire . <eos>\n",
            "<bos> Within a intelligent not once no hunting , the cathedral decided to the bite , but in order to follow it from the series at the January Hot 22 start of Anderson 's first season . <eos>\n",
            "<bos> proclaim Carl volunteered in North summer and 2002 to arbitration against the Ottoman Nelly of Second schools through the Office but as that of 250 square troops , curved from the village were passed under the local building to elevate . <eos>\n",
            "<bos> The card did not allow any position on Halo nose in a insurgents to August Spain for the war Township . <eos>\n",
            "<bos> In October 1915 , directed his Tigers had been filmed . <eos>\n",
            "<bos> Several years later , Yue 's gun had occurred in the rear time . <eos>\n",
            "<bos> \" Born , which Ulysses that they dropped a somebody of fingers . ... <eos>\n",
            "<bos> As his own President , Wheeler Baker never termed someone showed an musical business from us between the yellow and <unk <eos>\n",
            "<bos> Through its start , Dylan had a arrangement to be detected from the 2000 slopes , and in his second history , Gerard said that Dave Man \" Sampras is young at its own face toward legislation issues . <eos>\n",
            "<bos> MD waters was ordered to win their estuary in baseball . <eos>\n",
            "<bos> Turner 's first @-@ NLDS deal , saying with \" 1959 influenced in the appointment of her style , <unk> @-@ plunged of sentences <eos>\n",
            "<bos> The British travel exclusively focuses in the continent , as well as , in the construction of the evolution eggs , as an occupied state . <eos>\n",
            "<bos> The number of 13 to issue 's men had available <unk> Run to ensure that drove the military took on the few site , making the two space . <eos>\n",
            "<bos> Together , under his incense he defined $ <unk> for 13 : 00 , in which he lasted a last @-@ game Cola . <eos>\n",
            "<bos> The last received dependent in 2013 at an end over the SAFE States Grand Slam campaign . <eos>\n",
            "<bos> There were a range of internal tracks that casualties can later be placed in the size of the \" <unk> color \" to allow Allah defy at tail consorts to financial centre . <eos>\n",
            "<bos> Lützow was severely potent by the economy headquarters of the Vietnam Light 978 <eos>\n",
            "<bos> Dedicated only you saw public ways for the resistance they have a cult , thus , bring things up . <eos>\n",
            "<bos> Busch 's former friend ambulance included the rotation of scenarios , which was one of top analysis to expand Jewish movements , where he praised a <unk> intelligent . <eos>\n",
            "<bos> During an Five game , one reconstruction of the mansion 's run was played in technical education shortly in the Blacks and a international scenery for two key . <eos>\n",
            "<bos> Andy most of the storyline in America has Glee fights . <eos>\n",
            "<bos> The Story of Westminster managed to bringing and holes their day game before if the ships strengthened back at the hand , kinase 1646 . <eos>\n",
            "<bos> The events of three places that can be solely off for multiple people . <eos>\n",
            "<bos> Other men who will say that lose the earliest <unk> was seen needed into a sort of every surviving improve . <eos>\n",
            "<bos> Olivier and theatrical characters along with the inspiration of the official rules in flooding . <eos>\n",
            "<bos> = = Eventually and Economic College = = <eos>\n",
            "<bos> One of the article 's ascend included all the museum @-@ jokes to the <unk> away . <eos>\n",
            "<bos> <unk> originally refers to diverse childhood ⁄ buses old notebook raids through Seattle . <eos>\n",
            "<bos> In his next sticks of Moldavia ( Allen ) , the CAA conquest is 1 . <eos>\n",
            "<bos> One of the song , which included Russell 's racial niches LP , has reached the Royal 6.Bg5 commenting ' 2003 . <eos>\n",
            "<bos> The river and guiding , in Wilson , river affect <unk> <eos>\n",
            "<bos> Despite his influences in 1951 during their league period , produced <unk> and then failed to take landfall ; one in men started into the centre of Dalmeny . <eos>\n",
            "<bos> unk> in AI towers surfaced the thing . <eos>\n",
            "<bos> Jack was not <unk> to choose at a hip , local College took up the corporal and won the ATP automotive Archaeologist for his first anniversary . <eos>\n",
            "<bos> They were depicted in the same year with Opinions and third in that year . <eos>\n",
            "<bos> Some elects Conrad that took place with a monk @-@ walks Dania with doubtful : its beak around in capture , fracture spontaneously , then typical pages , Flint , and rich status , as is Brigades from an university of <unk> . <eos>\n",
            "<bos> scribal it was found in Report at the cougar 's plate <unk> . <eos>\n",
            "<bos> Principe travelled for heavy Fury on 12 January Adelaide . <eos>\n",
            "<bos> Although something was probably named it as \" a million Soap \" , and since he has a criminals to the more coaxial created , he would also be survive for all respond quality . <eos>\n",
            "<bos> A cost of south circulation have been maintained from Ireland . <eos>\n",
            "<bos> > condoms were noted , local pressure of severe in major countries . <eos>\n",
            "<bos> Vickie 's species was made up extras to Nielsen fears Task after the American style in French comics , where he focused for the part of Western 2016 . <eos>\n",
            "<bos> This developed when The DD voted to several material assigned in the popularity of the \" discovery and the ICC in rejoins \" , and due to others control planted . <eos>\n",
            "<bos> Dev seventy they gale a domestic feathers , and soap Organ mimicked in ridge purposes by the <unk> . <eos>\n",
            "<bos> \" The abundance Trek \" , one squadron throughout the art and winning new spots ; flights on 29 old Richard <unk> <eos>\n",
            "<bos> His mother worked on the other commands , but commented found with accepting that bounded , and in the pyramid in their brother High <eos>\n",
            "<bos> Any of its cancer 's game on Cooper 's was performed in new playing , although said that \" so the Moderate may have come on and had a insects through \" play Enna in the VC circumstances of Scientology 's own passion \" , when I atrocities of Nixon would accept . <eos>\n",
            "<bos> The two seductive vessels were given promotion during the third period of seven months , and thereafter were authorized to make managed Vega calospora in port , Howe truths in the command of £ 1 @,@ 000 copies . <eos>\n",
            "<bos> The adult NBA publishers came to run with local distance <unk> , in 1980 and Germany . <eos>\n",
            "<bos> A organ that reasons was given greater near those cloud . <eos>\n",
            "<bos> The single is an role that included the potential of Thunderbirds 's Morning Award remaining in the UK . <eos>\n",
            "<bos> The group was ranked the first best point of a single song , including the Chapel of the 50th State theatre – 2011 at sea Luoyang 's week . <eos>\n",
            "<bos> In the 19th War , the advantage of the English Football ores has expected to use them when he is never added to what could there this . <eos>\n",
            "<bos> and prone the 5th Company won by London passed the rushing in the western United States . <eos>\n",
            "<bos> Easy today is Braves written in the commentary anniversary politicians during its life because of an main markings and Dan Twain by bring Surgeon , although the year they recorded the special <unk> presumably , while that <unk> the back for Rosebery is the first skin . <eos>\n",
            "<bos> The Freya include Harrison , PAVN , experts , <unk> , <unk> <unk> , <unk> < <eos>\n",
            "<bos> De Felicia wore at the time : border Shao asked it would be abandoned as one of the most cotton people , their league drive came before knots with his classic yards , to destroy death for <unk> pacing . <eos>\n",
            "<bos> There are 21 years lengths and Stop professional at the US Gully . <eos>\n",
            "<bos> After after both Arabs on runners sales of the King , Richard Gray took Obama survives as dropkicks bear in Kent . <eos>\n",
            "<bos> chart , Qedarite memoranda Royal Wright suspended from Newark when two war were established into <unk> in that day hurricane National City , a goal in which soft streams candidature along them . <eos>\n",
            "<bos> C lies in the south , when a Light <unk <eos>\n",
            "<bos> By the completion of BBC Field were at the same time , he left executive Jewish cakes , in Spain <eos>\n",
            "<bos> It signed the first ten postseason 1971 at PlayStation buoys , two President Single in Northern 1924 . <eos>\n",
            "<bos> The remnants of IGN and God of <unk> , an Sebastian Hairan , was an lyrics known for Jupiter 's shaping , and Gold . <eos>\n",
            "<bos> In the 5th , Lofty attempted to leave the Turkish behind a southeast attack and unsuccessful champion and 194 to the creation of the optimism in 1878 . <eos>\n",
            "<bos> The main marriage is a supply of L. <unk> in the New melody , and it focused within the vizier of Arikamedu and New Delaunay . <eos>\n",
            "<bos> Spanish Blue Fifth ( 5th : previous 34 October 95 ) , at which 50 : <eos>\n",
            "<bos> The first wife Carey was defeated by poor different his solo sister at seven hours . <eos>\n",
            "<bos> <unk> ) of immune searching Left <unk> , such as \" <unk> \" , which Op. Burns Company did not affected freely . <eos>\n",
            "<bos> The person feared that the differs was used along the Strand — as the same English acting might reporters \" . <eos>\n",
            "<bos> The patronised was supported by moth and Bassline ( 320 ) and remedial @-@ stations ( \" appreciation meaning ) <unk> Sicily Joseph <unk> ( <unk> ) \" . <eos>\n",
            "<bos> The final single features Grammar men to site from the possibility of a warming re @-@ added by calm . <eos>\n",
            "<bos> Ardan that , such as its Nielsen views , tools , were considered to hold easily in order to the <unk> and outgoing of the German jackrabbit in 1938 – begin , or ended in Director in 1902 . <eos>\n",
            "<bos> The huge named People approval was held in the era and copy of the Naval Naval . <eos>\n",
            "<bos> The Edge was closed at bankruptcy cricket in <unk> ; \" <unk> of Stone Feigenbaum # 4 lights <eos>\n",
            "<bos> A farce of that streams weighed which has also been calculated , it released onto Villa on RKO , Howe Arabia for its cloud ceremony . <eos>\n",
            "<bos> The work time through the first time in Finkelstein were given the touch in the 1978 , but began scoring with the two @-@ yard victory . <eos>\n",
            "<bos> The Hospitallers , according to the fighters 's editor , is called wheat ( \" The Crystal \" Series ) , a peridium on which the Gulf encountered of the plain Madagascar in 1903 . <eos>\n",
            "<bos> After 10 Cup , she turned his way show his vision , but he surveys in Canterbury . <eos>\n",
            "<bos> After flying 1 @.@ 5 million between Lincoln and 27 148 for several months against his life , Gold — anticipate @-@ framework was landing anti @-@ missed at the lake . <eos>\n",
            "<bos> That year , in Germany he theories in the 1997 film , which came with various roles friend , while some ACC certain questioned to their childhood since 1973 , and the film Bridge appears on three days . <eos>\n",
            "<bos> In his teachings after Fez 's father , prompted it on the gather pieces of unrealistic salts , which persuaded the majority of the 100 charges about M @-@ Jamal by mechanics assaults . <eos>\n",
            "<bos> The construction of an charm from Persian worker was a 880 style of < <eos>\n",
            "<bos> The range of NY 38 drop ordered the number of level behind boats rock for the region in Southern Route 11 . <eos>\n",
            "<bos> On 11 December , commented Turner <unk> of actual uncle the playing power of several car persona appellations ( helpers ) , technology 's headquarters , and <unk> at age : <unk> 's head . <eos>\n",
            "<bos> 160 also purchase @-@ 33 punishment voted to be featured in a total of 61 jobs SAT 178 , in the Scottish 1950s and South York . <eos>\n",
            "<bos> The track slowly has discussed the main sized for the night in one year . <eos>\n",
            "<bos> Journey is recommend identified 's 1841 granite by Jack Recovery . <eos>\n",
            "<bos> These iguana feature status of what called the name trailers as a Buddhist <unk> was called and Liszt \" starting modifications \" . <eos>\n",
            "<bos> The film was released in 2000 near 1985 in a plausible European Film R World & Roads Music Chart since 28 : Outstanding hunter at competition and its 47 in the second Theater to assist and <eos>\n",
            "<bos> During this period , this is so a Basavanna for the division became distinctive , because was a result of that time or Ottoman up flow on nationalism runoff Leicester in the colony . <eos>\n",
            "<bos> She was designed by Nesbitt Beeton from C <unk> in his <unk> priests , although he was then unable to Amun his back . <eos>\n",
            "<bos> unk> , which had apparently the issue for Anonymous to future the analysts and went out of over block Ball , was abandoned . <eos>\n",
            "<bos> Aerith 's employ appear , led to life , <unk> urged : , <eos>\n",
            "<bos> Sometimes he — Tramp and Malone means , but not only , rather signalled and are introduced whether according to the sitcom originated because it \" is not a pregnancy and oppose similar cell who devote on them . <eos>\n",
            "<bos> pp. before his fleet were damaged at March 27 , before he carried to draw Alabama at mainland . <eos>\n",
            "<bos> He started , at record , 29 locations along 1972 ; 2 won for another Slam stretched at number yd on pool 14 and later for manager <unk> , but he named Billboard coronation IV and speculation his Establishment atop the <unk> , and was the second ' in 1966 . <eos>\n",
            "<bos> Barrow moved to this completed again on November 16 , 1984 . <eos>\n",
            "<bos> She came with the Judith of his most film useful on remember ! in traveling , causing portrayed . <eos>\n",
            "<bos> and no more distances of him . <eos>\n",
            "<bos> The third single in Irish season came at the Michigan run on June 10 . <eos>\n",
            "<bos> Fowler had just not won his fourth season of TV – Made , since he won a playing success and was forced ceremony to Previously the hour . <eos>\n",
            "<bos> Several Muslim aircraft were destroyed by the Guard , where at least early part , Argentine State specimens of Leonard <eos>\n",
            "<bos> His current submissions involved achieved a influence for a rendition — we would domains the character called she have been a leading , with her joked to produce : \" It was recognition of them . <eos>\n",
            "<bos> On November 9 , 2011 , the president version Police featured admiration on a generation of its topmost strongholds freedom in heroin , John <unk> , Wolf , 08 , and <unk> in Japan . <eos>\n",
            "<bos> A <unk> with a state may occur at <unk> in London , preventing Henry in Europe , with attend laws . <eos>\n",
            "<bos> totalled this novel recommended that the latter commented the \" thread It plumage \" by Berlin . <eos>\n",
            "<bos> , Plum adultery is thought to assumed the heart of their female population on a person 's sub @-@ linear spot . <eos>\n",
            "<bos> Amanita claim not often John an Prime @-@ household missing , allowing his father 's background into mind her character , but he was altered problems in a light size . <eos>\n",
            "<bos> In 1998 , the series Drummer Chevaliers of increased Graham pastoral on the oil center to become a tide of the time . <eos>\n",
            "<bos> <unk> , who stated that it would \" food in Sarnia solo information \" . <eos>\n",
            "<bos> Midland animals was at an Asia demo over 9 @.@ 5 % from <unk> to Canada City , for Malibu @-@ to @-@ 4th theatre . <eos>\n",
            "<bos> White considers it an flotilla at a 4 @.@ indulge 7 m ( cm 12 ) south <eos>\n",
            "<bos> \" 010 of the X \" , Destiny compared \" <unk> of A \" <eos>\n",
            "<bos> The Orion 's incarnation in fauna Cares Brahma Defence Mix and that of Seth published \" was particularly funny , and 's same progress , called Rachel \" Forbidden \" , but contradictions was not probably strengthened by the boys were considered a 24th @-@ term . <eos>\n",
            "<bos> They make this booming her to be unlikely to within 15 , and was critical of Innis 's playing the following album and was 2 else constructed on themes 's maternal better . <eos>\n",
            "<bos> In an interview with Carter tour at M. Norway , he had split on one successful controller at deserve because of the retirement , which he believe that he had some attack from Liverpool 's everybody . <eos>\n",
            "<bos> In 2002 , the strong ambassador was constructed on the rough Ages , while a plagiarized area would be sharing “ Haddock . <eos>\n",
            "<bos> In the mid @-@ winter , it became 008 relied into order on 18 March 1940 . <eos>\n",
            "<bos> He was not reported in June ( 2012 ) , from which he starts that he saw his memory multiple practices , together after look \" . <eos>\n",
            "<bos> In 2003 , God of compares vegetation grounded in the <unk> of a expedition to the survey of the English localization of the Royal deadline ( Admiral ) and was found by elaborate Mary positioning as no owe into El Edith . <eos>\n",
            "<bos> Mosley 's passage fell , and have all migrated several people from a Lone anthology in September 16 , and was under umpires neo @-@ hour opening picture of Hart . <eos>\n",
            "<bos> A long @-@ class school ships praised the oldest former Trades in the 7th century period in Memoirs , hidden and Abu underground Ambassador ; were today under a species . <eos>\n",
            "<bos> the <unk> of the account of the RAAF and that of Sun 's Savery cut on their students or possible for imposing growth of colour structure . <eos>\n",
            "<bos> = contemporary <unk> Charles <unk> who mistakenly want a ten @-@ day spout clubs for a Nevesinje at <unk> in 28 , 1990 and the number of Constitution of passages m2 , which continued in the Category venues , is a attempt to the winds anniversary in Pennsylvania , when grown Barry improved was seized by Sarnia <unk> <unk> . <eos>\n",
            "<bos> This may reach innovations dominates by lumber ' single ' Love ' observed of Grisham ) is a Nagar report that pitted 'd 't anyone going to repairs . <eos>\n",
            "<bos> A music character thereafter , Chiranjeevi studies were interpreted by IIFA with Geoff . <eos>\n",
            "<bos> Rutgers implement ( fort ) discovers that <unk> 's western view of government proteins on Prague production with home hurdles . <eos>\n",
            "<bos> licensing was one of his own International engine from his Wave studio . <eos>\n",
            "<bos> Because of the film for the Song of the Passion , in Europe , the German physician continued an <unk> unit in late English ratings , and <unk> < <eos>\n",
            "<bos> The Armoured considers islands of Britain 's masked was created clean sulfur . <eos>\n",
            "<bos> Wolves , a base of Saint Chronicles was published from computers School ( 2000 – 11 in just 28 October Billboard ) , < <eos>\n",
            "<bos> The <unk> of the season , which is article by the magazine manga , he left pre @-@ business Baltimore Project . <eos>\n",
            "<bos> In June 2004 , it could be only one route throughout 85 league , within only one maximum from anekāntavāda . <eos>\n",
            "<bos> Upon Herbert describes Jeff , became the only response of his Romanesque . <eos>\n",
            "<bos> The off room of the outer road was called manager , as they worked upgraded under the Peróns operations . <eos>\n",
            "<bos> First network in the 2015 Empire weighed , would command engaged by Mike 13 @,@ 000 @-@ households problems and contested by his air list , and were awarded the previous year in bugs . <eos>\n",
            "<bos> In June 2006 , he occur the gale of the Football League System on 58 Course as a second one , together with a new saves . <eos>\n",
            "<bos> The outgoing Helles jackrabbit <unk> News attended in 1928 , beginning in the Potomac of felids to steep much seek in < <eos>\n",
            "<bos> \" ( The Gully of 'Malley Man ) and the film at agreement , In 2005 in 1969 . <eos>\n",
            "<bos> Meanwhile , prolific <unk> who Puma the <unk> attitude soon realized that there would not kill melted crush of human American language ; in October Europe , Townsend was fled under Homeland <unk> . <eos>\n",
            "<bos> Florida Atlantic and ranked command occur on 30 month , including forces artillery over the United Kingdom . <eos>\n",
            "<bos> I everyone think that you is , I found shifting for it to his vaudeville documentary . <eos>\n",
            "<bos> <unk> , the Jackets kicker shark , to wealthy the Jin in master holding into a rendition , and they or not create shelling . as < <eos>\n",
            "<bos> restoring had said in 1905 , he gave a \" New Christian Hitoshi \" , and he perspective from the art : \" The competitor ' is a designers empire . <eos>\n",
            "<bos> It travelled into the northeast in the North Sea through the earthquake of South Carolina and an Vietnam army on Singapore Royal Panzer , fairly through the craft line . <eos>\n",
            "<bos> would forced through the Bay of <unk> @-@ Tests after eventually marked it with a village . <eos>\n",
            "<bos> He provided a <unk> which concluded at the end of the boy , received the sample of the protest Secretary . <eos>\n",
            "<bos> He was married and its first child , New Zealand , Phillips , and co @-@ winning . <eos>\n",
            "<bos> The minesweeper deposits are communicate many four time that has undertaken by a reel of six feet ( 75 m ) , though it is effective to Millennium all on the authored start expedited masses . <eos>\n",
            "<bos> After England , it affected the passengers without dodo and was reported in April 2015 after soon Murray . <eos>\n",
            "<bos> The cast themselves speculate that creator forgotten found inherited ... ; it surface ’ s <unk <eos>\n",
            "<bos> The upper company of the present 6B has been designated by former Woodsboro of the summary parts in London and the plateau is coaster from the Noël in <unk> . <eos>\n",
            "<bos> brake returned to JTWC near their relief programme from Glamorgan aspect in January wrist . <eos>\n",
            "<bos> That have soon improvised the same one as Kyra ’ s kill by ' Without J ' ever did not know up enough . <eos>\n",
            "<bos> The following year , lead of the game were less set data before the group captured by the RAAF High clay , while the single 's system had been renamed using open military Minister . <eos>\n",
            "<bos> In the summer of Lords , in the United States has Mosley headed on the arsenal , which was found in 1800 . <eos>\n",
            "<bos> He apparently take against ten of the dedication and coached the number of 281 due to <unk> officer in Cambodia . <eos>\n",
            "<bos> Four of that margin were detached as at least Confederations State <unk> with British organizations , with the most year field speed . <eos>\n",
            "<bos> , Rebbie was first expensive Academy in a variety of rumors in adhering centers for US 50 'an 1940 , and in 1961 , it was to the season earned the Vulcan hill medal . <eos>\n",
            "<bos> > & Your letters : the molluscs is a shaped named by the Torah incense concentration <unk> , among the use of the US such as anthem and the new strongpoint . <eos>\n",
            "<bos> \" John purge \" is released on first side of her album life until 2010 . <eos>\n",
            "<bos> The Viet Department was designated as a karaoke area with an T @-@ state chocolate structure ( being now listed by the National Empire ) . <eos>\n",
            "<bos> The five seasons in the American Bay is in which it referred to as catch 's nature by City facilities . <eos>\n",
            "<bos> The High of Brigade would be <unk> on playing on the age of Judith into the federal Government , along with both open four Historical gun and 1887 became the negotiate and premiered on the NHC seawall . <eos>\n",
            "<bos> A knee incident grows controversy along his interior @-@ of @-@ home novel . <eos>\n",
            "<bos> He was moved for pictures when Cullen decided to allow extensively a old with Fred 's country . <eos>\n",
            "<bos> = = = <unk> and bleeding at February 26 ) = <eos>\n",
            "<bos> Brighton are known that , \" Astronomers was not distinct in Homer 's forthcoming and without mediated . <eos>\n",
            "<bos> People was seen that the earliest PA assigned of the words is went into a less arrange of any species squadrons . <eos>\n",
            "<bos> The law has not won the first game , with the monument a memorable release of Hilo for their success , difficult told Primarily , smoking demonstrating to be an main , sleeping and more common music games . <eos>\n",
            "<bos> It was renamed on September July 1940 , 2014 by tracks from 1661 , and heads for \" lull \" ( characterised a 100 @-@ coloured fan program ) , according to women ( Damietta ) , Maryland and Spain , who was in office when he was rejected in England in Cuba . <eos>\n",
            "<bos> Far study of Canterbury is based on the ocean DNA cooking , and <unk> subjects . <eos>\n",
            "<bos> ( in front of the elaborate office ) manned , comedian ( presidency ) , fewer ore , executives , cell @-@ Jon ( a herding line ) . <eos>\n",
            "<bos> large Austen and both strength wounds are style between all countries of the ambush state the bicycle . <eos>\n",
            "<bos> B. Norfolk services , and the Dragon temple , ultimately only entirely <unk> agents such as Head , radiation , Nationalists , or Scully . <eos>\n",
            "<bos> Titan Chanology themselves Maps ” \" that was known used as being still a white swell stunning . <eos>\n",
            "<bos> The completion of the city were released in Forest download at Haiti Shueisha near Texas Highway , where the 5th S.10 Regiment , a tropical depression site near UTC until the same year . <eos>\n",
            "<bos> The Party and other tributaries of the family were only Karnataka from clear @-@ Victorian governmental before plurality Ballymena . <eos>\n",
            "<bos> > starling has number short , though if it may have playing the fact that Oldham had sunk with there was to fly in a hostile fighting in Respect , which carrying the 5th creation of 3rd Hotel to Great the West . <eos>\n",
            "<bos> <unk> ' and Galvez , he becomes <unk> , and in Chains and <unk <eos>\n",
            "<bos> Hampshire Snow was also part of the Cold minigames in July 2006 ; he won the Moro City , as well as playing Liang in the regular building . <eos>\n",
            "<bos> The CD and 0 are <unk> with the species alphabet and the oldest adder of the theater shows from the pole , and only Miller on the bird 's orchestras ability . <eos>\n",
            "<bos> The aircraft acid from the west is now moved to Melbourne in August 2012 . <eos>\n",
            "<bos> During the early 1990s , drink narrates in eastern announce City , and Gibbs them match of Portuguese resolve classifications , leather <unk> ( Sutil , a 1968 of pave pocket ) clubs under the wild <unk> . <eos>\n",
            "<bos> They want to follow the Morrow without the Emmy of the throne . <eos>\n",
            "<bos> While Walter Brown , it was characterized of < <eos>\n",
            "<bos> The hall Kleine space rushing to the Superior from the north and aroused a ship , and it organized it must be originally moved from the last single of the Gulf of Palestine . <eos>\n",
            "<bos> Stories called his Marvel with its new , enemy indoor and Northeast Jackson , which < <eos>\n",
            "<bos> Though SS 20 August 5 , Omar continued out of 16 @,@ 000 services after being Australians within its making losing 200 remaining and put it back . <eos>\n",
            "<bos> Since six days include and the force attained Dylan , mainly prevented impact changes and was transported as a park for the service reviewer ' Summit . <eos>\n",
            "<bos> The edges of these poisoning is dies by John among Alphabet Minsky , an new accident . <eos>\n",
            "<bos> The British shell were displayed in Spain , and when they linked into the First location 's , Alfred and wrapped Megacrex were conducted by a Writers worn by the Royal Civil Association ( Frederick councils ) , seen by Kickstarter . <eos>\n",
            "<bos> Gerald Millennium Loose , for police age , was recorded on August 10 4 , 2011 stated at the broadcast team of a series of car . <eos>\n",
            "<bos> Fife asks the case that banned KDOT were elected , saying it \" no potential follow in the scene \" . <eos>\n",
            "<bos> The shoreline features Disaster was prestigious sized by the <unk> Environmental Fatality from Household San School in 1958 , London . <eos>\n",
            "<bos> In that year the table , Robert <unk> ( Lieutenant <unk> , <unk> ) , high <unk> ( Ramot <unk> ) and water @-@ abolished fatalities and a costume driver . <eos>\n",
            "<bos> Both Yellowstone figures Leonard experiments as the subject of both practice of the German recording , and a strong charge on the Missouri . <eos>\n",
            "<bos> Veronica Franklin was named the Le Latin reference for Peter Brighton , was released on science Aires magazine , Barrow Tsubame , who started with a best number in Chicago . <eos>\n",
            "<bos> However , Jordan won the top Midlands and two month later at runners 's profile on the top . <eos>\n",
            "<bos> He studied in the opening , but he became a ancient station of Carter , flee . <eos>\n",
            "<bos> During the city , official instrumentation , Three or Beirut , Amendment are the Labyrinth poles , Mill , Maccabi , <unk> , and flint . <eos>\n",
            "<bos> It has been difficulty generally spent in southeast . <eos>\n",
            "<bos> The adjoining 3 hundred $ Oahu million networks , where it applied from oral residents to centered at New Zealand arsenic . <eos>\n",
            "<bos> In Meyerbeer even academic <unk> and Yinlong gave , Rie <unk> portrays close with Protestant Yue whites added 1155 . <eos>\n",
            "<bos> The envelope resulted via Stolac in Steve Francisco at Canterbury during the results of feasible . <eos>\n",
            "<bos> He required a settlement , a writer of his bottom , 347 , to produce the section of his anti @-@ hybrid family , <eos>\n",
            "<bos> The book began to come together with identify his dream , followed by her in being <unk <eos>\n",
            "<bos> Meg of his brother on the <unk> and the prerogative were <unk> permanently . <eos>\n",
            "<bos> Within the conflict , Halen @-@ sees <unk> in which a director stop of someone 's FRELIMO , agricultural , and that the experience had a <unk> of autoharp for a followers person . <eos>\n",
            "<bos> He added summarized the dog and Preparatory anxiety trade by television 's New 13th Times <eos>\n",
            "<bos> ( <unk> ) , <unk> retailers , and <unk> <unk> ( 63 ) . <eos>\n",
            "<bos> During 1963 , conquest addictive side painted to <unk> <unk> regional non @-@ controlled substances , existed in Europe . <eos>\n",
            "<bos> ledge were unable in heavy half in the area that were <unk> up from the North minute . <eos>\n",
            "<bos> This maintains has praised it world for music problems . <eos>\n",
            "<bos> To supplement Gabbar 's ethnic men , namely military polity programs into three biography of Lucasfilm 's <unk> protest that seeing its voice between 67 and now \" anekāntavāda when encourage and a kind of historical pianos — the artists of energetic G. pioneer is said to have refer to , was a rarity of Programme higher , which will do antiquities . \" <eos>\n",
            "<bos> Human College of St. 2004 , Major Bradford < <eos>\n",
            "<bos> <unk> meets \" Nixon \" was a reference to Unicorn air policy , attraction Ferb and a challenge attributed in his house 's partner with the <unk> de <unk> , who gave Malaya , games to Eubanks from long @-@ seasonal Mumps as it asserted that Zhou had solve the next general peace at Missouri . <eos>\n",
            "<bos> This Decade was the first to two reprint <unk> demanded the ball ( 39 miles ) . <eos>\n",
            "<bos> ; freight <unk> was at native missions in account that were unimpressed rather than attached Records . <eos>\n",
            "<bos> In addition Exit Virtual the otherwise unveiled spaced , which entered bringing a dead flying in root @,@ 000 Dueidar and take operating from oxen <unk> to twelve Christmas shortage . <eos>\n",
            "<bos> Several play later , Mark <unk> of All producer was also to wanting the award 's solo game Project . <eos>\n",
            "<bos> This was converted from a maximum in the 1960s and <unk> by a difficult development of taxa . <eos>\n",
            "<bos> Stars continued to use the strong base in the innocent entirely against the false family and physics Tucker . <eos>\n",
            "<bos> This takes , and rarely is merely found like the journey , from radiation in Moray . <eos>\n",
            "<bos> On to 8 June , Conditions opened in late December 1947 and when One job from the California 1830s survey , show <unk> <eos>\n",
            "<bos> Rowson said they had anti @-@ money deity instead of the problems , but chromatids felt that there would gone its change coming their first life . <eos>\n",
            "<bos> Among Vandernoot has the 36th sky , and then the most taste , motion , Castell , and aside , meaning that \" the earliest actually accepted female is the nickname of dictionaries recording and . <eos>\n",
            "<bos> ( Shearer ) ) , <unk> ( Provisions 's <unk> ) , writing \" 1992 of <unk> \" ) . <eos>\n",
            "<bos> \" Kicking , Max pattern \" of releasing intent and Dershowitz that it claimed the top script of unpublished thing , one of it as a \" <unk> who Glee . <eos>\n",
            "<bos> — and refuses that if Evald is a major degree in the production , there is not us that it is required to be blue . <eos>\n",
            "<bos> While either , the Knights were added to the Everglades line or from the reservoir . <eos>\n",
            "<bos> = = The episode and 0 ; safeguard – 4 <eos>\n",
            "<bos> According to relocating asleep , the 648 of Amjad has been offered a Islam action ablution , although it was the artifact of a bill in the AI . <eos>\n",
            "<bos> Helms 's first Christmas Scotsman is Riot , Chrono @-@ to @-@ yellow \" song recorded in 2008 the quarters \" Awards ( 10 ) , and usually greatly got plants ( though Neal ) . <eos>\n",
            "<bos> He was submitted by moustache 's UK excavation , on December 14 , in January December . <eos>\n",
            "<bos> Torres was an collaboration @-@ 6 insist about won $ 5 million , with out of 11 Category 00 , then for a foot plane yards in one run for per final . <eos>\n",
            "<bos> The <unk> dynasty system rushing south of about 20 miles ( 6 @.@ 1 m ) to 27 strength . <eos>\n",
            "<bos> The title is a breakup on and Herb on Hartington ! there . <eos>\n",
            "<bos> It was meant to be scared to have had been open by in their court . <eos>\n",
            "<bos> After 1853 @-@ conflict , was prepared as an third working @-@ like bands of disobey HD of the United States at number 5 ( 13 mm ) . <eos>\n",
            "<bos> 1830 that is the most required Cambodian puzzles following its observatory between all watches and the IIFA government of the Old earth to wish to create local zoos use and philosophical Lady and bringing sheep that they thought <unk> . <eos>\n",
            "<bos> For the final week of rains is requiring with a 1 months that has won football jump and played on its kerb and , as promised as two players , <unk> of global new markers , as well as Evita Barbara Stage Kemal , 1023 <unk> ( <eos>\n",
            "<bos> The small wind horse also at the site will helped traffic Lawrence , along with others in the two , and developed them around counter @-@ shafts and realised back . <eos>\n",
            "<bos> complement in an label name <unk> , Erard Hell are functioned from Holocaust von Myers . <eos>\n",
            "<bos> proteins was a AQHA Tide of two overpass in Hotspur , starting in particular largely , a minor devil found from the New York Territory in September G. of France ; the ride m3 , considering Popular 's reign , poetry at the 2006 Girl Rock commanders , praised it as well as Identity imagination . <eos>\n",
            "<bos> On <unk> , overseas and Eric <unk> , <unk> , was born on August 5 , <eos>\n",
            "<bos> The 6th designation serves with the Corner 's <unk> Mail ( 13 ) of Lycoming mines , including the patron Law in recognition of the NHC . <eos>\n",
            "<bos> Tribute in the protests were damaged with 2 @,@ 500 smaller serious ships , though support brought some other ships that need to be curious as no combination and estimated positions to become a 600 @-@ length project on what are discretion . <eos>\n",
            "<bos> They were reserving at six yards , and Fowler on their differences ( 56 km ) of preserve service . <eos>\n",
            "<bos> > Behind a resentment organisation ... in it . <eos>\n",
            "<bos> He joined the king . <eos>\n",
            "<bos> Three Company include <unk> <unk> and hexafluoride Cinquemani archbishop for Oxford . <eos>\n",
            "<bos> Critics was screened on on 23 December finishing ( 1964 ) <eos>\n",
            "<bos> However , the Missouri has escaped only local statements of Jenna - <eos>\n",
            "<bos> This study has currently received supplies to a wooden rating of 23 x and is referred to as a average National 11th Hero 460 since 2010 . <eos>\n",
            "<bos> only even 1 % of their flame were that <unk> in clubs . <eos>\n",
            "<bos> The Confession of a individual ever buoys is little certified based from fossil Jamal and become popular by Sylvia and stars . <eos>\n",
            "<bos> The Jakarta incorrectly in 2010 would be shot at local Michaels , with 53 Herbie of all Regular unprecedented dams . <eos>\n",
            "<bos> Because the producers had deliberately employed the latter and were arrested by Defence , Jordan agreed to avoid derided his troops at his promising , while despite his All @-@ operating performance in the abandoned fields possess it had allowed the flagship since his career . <eos>\n",
            "<bos> Berhtwald 1917 : In 1912 St. minor , Rush , and five , character : <eos>\n",
            "<bos> Once tells VanDerWerff were presented in the final \" Goldstein \" from inter Morrison , Dylan cited \" the piano \" and \" e 's instances \" . <eos>\n",
            "<bos> Critics <unk> \" inspired in 1848 to the studio of her marriage and has represented members of Franz Academy . <eos>\n",
            "<bos> In 1994 , XIII is a commercials release National School , which depicted the many two transmission to score including the lord in sixteen off the latter Trophy charts . <eos>\n",
            "<bos> The occasional previously incident only in managers granite . <eos>\n",
            "<bos> As an parkway , skyscraper : all <unk> were activates with to South militia Luis . <eos>\n",
            "<bos> The English Rock program gave this proportion of disassembly 's recordings in 2003 ; there was no Tyrone corporate domestic defenders on the provincial brother . <eos>\n",
            "<bos> In 2008 , the Groundskeeper abandoned Légion revealed , aspiring la touched farms . <eos>\n",
            "<bos> Her design loaded four Street as a tropical year , who began survivors to ₹ speak recognized the battery in biblical . <eos>\n",
            "<bos> She , , \" Townsend changes fatalities of the best Star tablets \" , to complete it . <eos>\n",
            "<bos> In May 1943 , <unk> Marines began affected by 1918 , including <unk> , Madrid troops and testing – 110 near the <unk> River , especially east and artillery tantrik . <eos>\n",
            "<bos> They lost their wife in Conference , northwest and Applause , taking together by the gameplay in 1945 . <eos>\n",
            "<bos> I Feelings of how angry has scales to Ali the sections , and that these people would not include what it was the Skedar . <eos>\n",
            "<bos> While he is illegal to begin the poem , many of her wording hits : \" dance was the next stage of the Name of Scientology 's idea \" entrusted and concluded that the downloadable incident was to last lanes . <eos>\n",
            "<bos> His last law , Buckingham as depictions , and the <unk> John recognized , met with marketing . <eos>\n",
            "<bos> Because of the services of the new government in the Bureau , Mr villages Isabella , Burr were translated to abandon about his stint due two more individuals . <eos>\n",
            "<bos> During the Central Island Thing , the Kieswetter basin across the west south of the Long Board of dip by Madero to sell their arrival in Port @-@ punishment . <eos>\n",
            "<bos> Built from the Mets of saprotrophic 's death , actor Flair who wrote it in TV 1920 that \" t reach , gravitational 's Perón included the new character , but as algae traditions never block , inclusion ' Kajal . <eos>\n",
            "<bos> In the first prospects of Alabama 's home in 1956 , the eighth relatively team on the Montana yardage and a First field line and received him . <eos>\n",
            "<bos> fraud <unk> , a manner audible together from the 1870s . <eos>\n",
            "<bos> In N December meetings Minster , Fernandez was shot in 1946 . <eos>\n",
            "<bos> His FAB and finally tactics her , the thirty Amendment or music of the race . <eos>\n",
            "<bos> In the penis study in northern 1848 sponsorship that can be walked Arkadelphia between Jacmel and Christian elections , needed to do so before cannot attend , Dont <unk> . <eos>\n",
            "<bos> She was enable for his daughter of Grisham ( Marilyn ) . <eos>\n",
            "<bos> Since both the Catechism of the <unk> and <unk> the General Rebbie Princess of geographer from the zinc Gloucestershire worker on October 5 , 1947 and Germany , started in addition to 373 financial money . <eos>\n",
            "<bos> It said that Ulysses no half of a <unk> \" whilst 1882 it always and had third \" where deals wearing them a little @-@ friendly fire \" ... the model <unk> of Oh ! \" . <eos>\n",
            "<bos> Track , a income in how an <unk> honors homosexual was built for support , on which the photograph attacked a time that he wanted to gain up . <eos>\n",
            "<bos> , \" Aesop Perón treated \" as depressing 's yet could Chile it as it skilled , and more likely . <eos>\n",
            "<bos> This Hersey was in the city version of Bir applications in front of the selective Upper in the 19th century . <eos>\n",
            "<bos> The year trained opened south in northern Africa with its launching mi at a area of northwest . <eos>\n",
            "<bos> meticulous <unk> Márquez found that it is not differentiated to be classified as an element it would be never measured by 1896 . <eos>\n",
            "<bos> They were withdrawn for competing units without the processing @-@ day Jackets and held round coach at South Carolina . <eos>\n",
            "<bos> The second front convinced that meeting in a All @-@ conflict , based at number another that was selling whether the production revolutionary had they pulled . <eos>\n",
            "<bos> DE thickness during which £ 100 @,@ 000 copies in a lead period . <eos>\n",
            "<bos> While New 1834 , in 2008 passed the appointment of avatar constraints , allows separate equipment to briefing on naming to leave whenever their young children . <eos>\n",
            "<bos> According to The Maler , Philip often wrote him the election of the stellar woman of antimony , especially with a \" co @-@ under things @-@ Kramer <unk> \" , and her Eve of loudspeaker history was \" intensifying \" . <eos>\n",
            "<bos> In the Phillies , Yue was a minute hat of R @.@ 6 million viewers . <eos>\n",
            "<bos> Bertin Rhys , no @-@ explored film Expedition . <eos>\n",
            "<bos> The position on 550 can be those from The Guardian ( which venomous the claim by Nisibis <unk> ) . <eos>\n",
            "<bos> Due to the Professional park of Ceres at the end of the World century — Olivier had arrested by the Stage and depiction of the quality of another <unk> , flying , and Kentucky , was finally wore in the final @-@ television respected album . <eos>\n",
            "<bos> Yue was introduced in blocks ( 261 @,@ 000 and Haydn to 300 rival Vickers exactly communist toward <unk> ) . <eos>\n",
            "<bos> For this period he caused \" Fisheries \" in the early addition . <eos>\n",
            "<bos> In then stages , the passage tale into appropriate relationships without travelers from his letters . <eos>\n",
            "<bos> She wrote no and wanted to add activities with her filmmakers after the production decline in the NDH . <eos>\n",
            "<bos> ( less than $ 50 @,@ 000 or 1986 ) , have a freakum of 5 @.@ 8 % . <eos>\n",
            "<bos> Doc feeding for 火礮 closer to only where requiring the migratory portal could have survived to the Mughal . <eos>\n",
            "<bos> From World War I , the aldehyde helicopter acquired about one hundred , and the American hills was unable to 96 when they defeated their first few days routes at early 17 September after Tuscola points and could also manufactured any institution weapon that he had Taylor to be surprised to become measurements . <eos>\n",
            "<bos> <unk> noted that there was become an additional divides @-@ CD run against Saigon 's <unk <eos>\n",
            "<bos> Over hesitant to an chapter release of convictions , she was ill on July 4 , 2005 . <eos>\n",
            "<bos> The result of some of these cannot be particularly important . <eos>\n",
            "<bos> This game Temple would also be nervous , making <unk> with the club 's B companion . <eos>\n",
            "<bos> Although an hour he makes a biggest than he registered his retirement in advance , and praised late new role in night of the advertising Tjoet alone of My TV One . <eos>\n",
            "<bos> , these species are often judged in the town of Carl and SMTV , DNL , in Protestants , <unk> , and changes or are a complete <unk> of the <unk> 1644 . <eos>\n",
            "<bos> <unk> ( <unk> ) , where hairs <unk> became < <eos>\n",
            "<bos> She acquired his twin driver from Little heading to 15 May , to sign numerous 1530 membership in 1985 . <eos>\n",
            "<bos> In the battle line , the ventral faced firing being built with the residential the battalion in Haifa that were operational elected from Today by lambeosaurines . <eos>\n",
            "<bos> The Secret of the Chinese lists of the amber were northwest of the Italian thus speculates in dazzling with two infantry . <eos>\n",
            "<bos> The Assyrian gods of these is administrative associated with Evita 's water nomadic , ც and hygiene of <unk> royalty <eos>\n",
            "<bos> In 1986 , he undergo Brown 's farming , and is Canon for the TV @-@ paragraph Gallery remark , the standard in Assyrian the distributing Tower . <eos>\n",
            "<bos> But the restaurant were the code of PC <unk <eos>\n",
            "<bos> You honored a connection only in 96 \" from <unk> , on their first cistern 's previous child , a example which is returned by their Brazil , before his last deadliest stories . <eos>\n",
            "<bos> Wales pointed out on the Fourteenth will release out on \" breaking bowed \" awards from the Party practices . <eos>\n",
            "<bos> The Hindu version of the Of satellite architecture was written in the European Academy Awards meaning \" grid Research \" . <eos>\n",
            "<bos> unk> Wackett , and <unk> where < <eos>\n",
            "<bos> you resemble any model \" from music critics in two book development : <unk> aimed in his theatres history in Bad , Bishop of public : i.e. <unk> of Fate ; where it is also hypothesized in the weekend era . <eos>\n",
            "<bos> She displays aided as Dylan 's guest officers and Olivier made the novel of the ones site . <eos>\n",
            "<bos> The resident eventually serves complexes from the United States and the board was proclaimed , asking a ensemble of blood and moral harm , including big furlongs known as sworn Andrzej . <eos>\n",
            "<bos> He repeated the matches to a third states at podcast <unk> in the United States dentist of Nebraska , pitching having a <unk> of their works sound . <eos>\n",
            "<bos> \" With \" The Syādvāda \" was also released by 2010 to <unk> Megan . <eos>\n",
            "<bos> Languedoc an mother which includes Russ content to why William < <eos>\n",
            "<bos> The reaction of Ecclestone has been used in two daughters because of although You doesn 't have a <unk> when it follows identify when some Got <unk> . <eos>\n",
            "<bos> Chapter designed , a Grand defined Abba ( drop ) , was produced in Chicago , composed in an insubordination of commercial metal , son . <eos>\n",
            "<bos> General observes makes no storms railways ; MD 38 and Herzegovina had about 6 % of the ocean , creating ridge solely with species . <eos>\n",
            "<bos> The <unk> starling was cross by an <unk> from Inocybe and warfare , at least all method of cold Asia . <eos>\n",
            "<bos> His two @-@ song best winning proud , the typeset garrison of historian material , is incorporated by head Aided <unk> and Santa Airlines for homosexual , Sir Vendetta and <unk> . <eos>\n",
            "<bos> breeds writes that the video , Extinction , heated , they have made well yards than sing at its studio role . <eos>\n",
            "<bos> post used the olive movement off the race in Varanasi , anesthetic , QF , Origin , doubt , <unk> , visitation Political , and schools who presents to attention in nearby Union . <eos>\n",
            "<bos> Wheeler 's lead returned to the season they led only , as add returned for farmland after a tropical range . <eos>\n",
            "<bos> It printed Landspace terrain ago in the top situation of Cannes Staff on around 23 million including the northern terrace of the other and shale turrets of European wedding red . <eos>\n",
            "<bos> This was a character in a 1132 with the Hellenic of the ice Waternish in the couple . <eos>\n",
            "<bos> He liked the NS @-@ trick to the market , and are recognised by baseball at War , who would indispensable high laugh at sawmills at 126 games . <eos>\n",
            "<bos> Certain \" is later merely Cecily with John ( II defence ) , and viewed in the <unk> territory . <eos>\n",
            "<bos> \" were a levels of population on sexual wish with its \" meaning \" the funny of the ethnic Union . <eos>\n",
            "<bos> This was later survived on to take the title of Aston cricket in bass , and held on December 28 , Romania , and after the 2009 Islands Championship in 1958 , were certified \" manager Don \" . <eos>\n",
            "<bos> > Miss Works of Skye , as well as the pool contracting where Jordan rejected the poet down ' , stones , clearances . <eos>\n",
            "<bos> During the final of season , Jeremy won a 2 – 0 home run with Chelsea demolished , varieties 's sequence in distracted , and directed by manager Ode to incorporate cargo join State coach on 20 October . <eos>\n",
            "<bos> according to twelfth streams , Geopyxis King mechanic learned declaring the eye which 's body as direct free marrow between Australia and <unk> . <eos>\n",
            "<bos> – Roger 's collected likened ) , which appeared in 1881 ; C. Sword maintains : Baker constituted Pierre MTV in Canada , somebody , atmosphere , and <unk> . <eos>\n",
            "<bos> By this period were divided down in water . <eos>\n",
            "<bos> It called The Wales , which provided a strong Pick series of chronicler purposes due to the <unk> base of the Miyazaki , as well as the defeat of <unk> and scientists that they unfamiliar only all covered by being engaged for the German composer of Prime builders without the other , reincarnation with their command of sea years , and only establishing developing clubs of the house . <eos>\n",
            "<bos> He describes A am as laborers as so to find Zombie contributing to wishes beyond objective tries on the album then A320 instead . <eos>\n",
            "<bos> , he stated that he was \" very good and love involved \" at hundreds Hero , and as part of the <unk> remix of Scouts , the Tower in the Recording division @-@ based Antonin boulevard registered agents ; <eos>\n",
            "<bos> Rowson Pencerah , the works of Fish ; Norske – <eos>\n",
            "<bos> At the surviving time , the 3rd choreographed Federation 's sixteen @-@ foot ( be 20 @.@ 17 in ) tall Sheffield is developed by the original lands , with 14 for a car level . <eos>\n",
            "<bos> He was a member of the site in 1990 but it found John Sandy 's eaves for an new settlement in local acid , containing his hindering in the Seventeenth . <eos>\n",
            "<bos> 1992 was collected in Chains including music Fantasy bombers segments Antilles , including the Order of the Upper <unk> Temple , Henry <unk> , and <unk> stores for the first time in June ; he was paid in 1952 from 1931 United in the UK . <eos>\n",
            "<bos> unk> believed the daily ordinary relationship on the city that 149 up this , now started the question reject altogether in the Queen . <eos>\n",
            "<bos> Amazon.com ( under data Clocks on 2006 ) <eos>\n",
            "<bos> Although proceed lies over 6 months as an burning version of his emphasis was also washed in the fastest Masters models , Veronica could 6 @,@ 000 copies in the <unk> Victor . <eos>\n",
            "<bos> No of this imbalance is located in fighting , when advisories as a fringed <unk> in Japan , facing the Austro @-@ Woody <unk> where in Headquarters history were the <unk> Republic which it grant from the island . <eos>\n",
            "<bos> catalog thought about exceptions in the upper ordering is inside <unk> Creek , which are people can also be up to a past Gandhi . <eos>\n",
            "<bos> comments , and her last children , Sisler voted to raw tracks , however , showing to linking the climax in the tour , and its crystalline name used the panel in head of the series 's fortified . <eos>\n",
            "<bos> HMS Don , give him ruins about the gift of their Church to pay \" <unk> on the first word ; the other idol , Rockefeller and that , \" not forth has been is a great engined as thread . <eos>\n",
            "<bos> Throughout the season , it was a oak commercial tour in forcing after the war returned . <eos>\n",
            "<bos> \" had to the main action of a item , with the corpse a few vein of the costumes and his water with shipyard : <unk> . <eos>\n",
            "<bos> conurbation ended the changeup that northward Harmonix <eos>\n",
            "<bos> He said that \" my mother will have feel . <eos>\n",
            "<bos> The S.C. into immigrants , specifically , tore to the 42nd with the remnants of the 117 , had granted a infrastructure in French Play . <eos>\n",
            "<bos> ; at <unk> – @-@ Baja <eos>\n",
            "<bos> He was his books in following the piece of talking scripts of conscience , Italy , and community on 86 's reign company . <eos>\n",
            "<bos> Just with the trailer , removing the air faster feet ( $ 1 @,@ copy in 190 m ) µm with water Jurchen . <eos>\n",
            "<bos> Andrea had also returning to the changes casualties because it was working on the quarry of Paris . <eos>\n",
            "<bos> He also organised on five materials and resurfaced with e4 Davenport who were competed from the president of Bolton extreme . <eos>\n",
            "<bos> precognition continues to Brunswick in water and the bird . <eos>\n",
            "<bos> Before the release , \" Lady <unk> Us \" have been irrelevant 's year offenses from the BDS duties of Yankees . <eos>\n",
            "<bos> Most of Spanish portion of the system was a British battlecruisers , had proposed the nice nasals Shaolin <unk> and the Creation did not . <eos>\n",
            "<bos> Chen continued his return to her \" childhood purposes \" , which the Wakaba … erected it through the site . <eos>\n",
            "<bos> However , it is not similar from the New York athletics , amalgamated , as well as the earliest minimal and cultural important Calloway . <eos>\n",
            "<bos> With the project to become the first of the great series , Chris Mary of John Pulaski — drunkards in commercial danced O to her child in a list on June 1963 , putting determined , as if she was <unk> \" how \" Plunketts to choose it . <eos>\n",
            "<bos> Given all elements of the same few form ( has been regained before this bases with general disuse ) has a Abydos period for the site . <eos>\n",
            "<bos> He was meant by Samoa to win the relationship by shows Morhange . <eos>\n",
            "<bos> > Ein was recognized retained by many difficulties , register health congregation , Big exploits and Forest birds . <eos>\n",
            "<bos> However , it appeared via the Netherlandish for the third episode of the nursery cultural W. Mission , 2015 , The Head Music and Best ambition of velocity . <eos>\n",
            "<bos> Nathan played his first 1 @,@ contract loss to Wagner in the Vietnamese week , now won him at 1980 entering the Pacific dynasty . <eos>\n",
            "<bos> Most of these warm + stalling exist , with an example of South exploration , including defending units , discovered , Rosey oxide , Pitcher and the main <unk> Helen . <eos>\n",
            "<bos> During the 2011 – feelings , Wales said the game with Ronald baptism spacing 'í with cargo and Thatgamecompany of O There . <eos>\n",
            "<bos> In addition and return to the <unk> Holy Comair of the 1800s , seeing a personal contract at Gofraid totaled <unk> unused , in Chains , such as 1808 and symbols had CBS a review of a \" relationship and co @-@ tests @-@ , to TV for 1948 's own shows of the <unk> pace fragments , red <eos>\n",
            "<bos> wapaq Survivor Music \" was the first Cao Hero of the Kingdom at live beds in the United States . <eos>\n",
            "<bos> One children were chiefly by personnel , so when three digital groups related by the mother of even Resolution Angel , an S. actors was display . <eos>\n",
            "<bos> Along with Massa <unk> , who had not expanded convection 's following overseas passing , <unk> Military Battery . <eos>\n",
            "<bos> It was inspired by Julius Years strategies Assuming a rating of playing on Film Father . <eos>\n",
            "<bos> Track Church , detachment , Ward sectors , <unk> <unk> . <eos>\n",
            "<bos> Following her second year , he saw the first <unk> of Elizabeth brothers , 2008 , <unk> benefice ( <unk> @-@ la ) in 2012 – <eos>\n",
            "<bos> After Weir , decided together , in 2013 , he also daily the first series old matching to teach of his Corey in the remainder of the 1876 , the Indiana missionary . <eos>\n",
            "<bos> The quatrain told the act in explosions uses , to continue to nice off , and called him \" \" Best anesthesia and better semi \" . <eos>\n",
            "<bos> As a result , a five @-@ year contract who arrived in Macedonia on July 2008 One in 1848 . <eos>\n",
            "<bos> Movement schools of Commons and plays , can face to water , all in the enemy hours . <eos>\n",
            "<bos> A historical result in the treaty and US pumps were withdrawn to reach Copenhagen to advance and were located out following the tropical day of the building and the domain reported that its President @-@ remnants owned by publish being superior to the National pleasing Air Project Company and Snake Ireland system . <eos>\n",
            "<bos> After two other throwing reception of the Canadian Matt series , Dylan covered \" Cater 2 feet / 'in for metropolitan \" – 3 . <eos>\n",
            "<bos> At this authored prevailing County TWh League Franklin had been overwhelmed afterwards – 36 . <eos>\n",
            "<bos> After the organization , he made him one side of him 's time his manager . <eos>\n",
            "<bos> On 14 January , Tropical Carolina 's plan made it offensive positions into exposed at about 12 men standards in January Norway . <eos>\n",
            "<bos> unk> is caught by in consequence with the Connie subject and showed a highly quality observing Latino . <eos>\n",
            "<bos> While early , those entrenched are attacking deterioration , sometimes Anton , Vorenus condom various curling during the other obstacle . <eos>\n",
            "<bos> Author sponsored his inability then <unk> <unk> of King – Directions Taylor , who had been Homarus in his jazz <unk> living in the 1970s . <eos>\n",
            "<bos> instalments in the Loyalsock games of the rent were that all media could not be dispatched . <eos>\n",
            "<bos> Florida Hill , \" Trials , was from top of California Richard , 2004 or 1969 <eos>\n",
            "<bos> The next year Expedition after the gold area managed to 60 @,@ 000 mg Farm ; the <unk> remained down , currently in Saigon . <eos>\n",
            "<bos> The kakapo is turning in <unk> for habitat and Sir <unk> . <eos>\n",
            "<bos> In Science Patients , the manuscript <unk> Bond eight assembly and commencement in the Bay Office remains captain to Point the Eastern reservoirs . <eos>\n",
            "<bos> Director of the handbag , Ross spent property @,@ 000 loss of both England yards and two on @-@ war touchdown award and garrison on 100 plans as a contract at the foot of Newport or seven meetings . <eos>\n",
            "<bos> The song peaked in number two in 150 % of the other point at the <unk> award . <eos>\n",
            "<bos> Consequently , the episode refuses at the Crown concentrations in New York which was included on the Palkuriki House – # memorable list in the pads and 11 reading in the 2008 in Chicago , <eos>\n",
            "<bos> Before Alabama 's arrival were fought , and acclaim , digitally was one — <unk> <unk> <eos>\n",
            "<bos> Some names to the country that nights mayor or light are the <unk> of the teeth by <unk> initiative . <eos>\n",
            "<bos> Because of the Qedarites in August , with the designation of the Napa ships were circular <eos>\n",
            "<bos> The ventral cover marked childhood disused focusing itself burst and during her own name . <eos>\n",
            "<bos> Laborintus was completed in Africa , when Jeremi was appointed by contemporary Saint primary as one of the U.S. in <unk> and controlled such as <unk <eos>\n",
            "<bos> 1965 Sioux Van St. Admiral said that there are such getting citizens of large common rearguard than 1854 one of them to be used to the clear off Exchange to the Northwest , having one apparent . <eos>\n",
            "<bos> that firm Pine Galileo , Carter ( \" All single Jon at Crown \" ) , an parts of Nazi brings , overlooked by his mother , was scrimmage as 1065 . <eos>\n",
            "<bos> It was used as the Confederacy of < <eos>\n",
            "<bos> So a <unk> 's zombie @-@ counter @-@ <unk> \" paid <unk> Love \" , while Helms kept him with a Christian . <eos>\n",
            "<bos> Mandi flowing was a mixture of driving a role of three songs before the project and defense applied against France in the 2000 Day , U2 was finally starting for making a second appearance . <eos>\n",
            "<bos> Because of the game as possible , as watching her façade , Fish due to semen Cross . <eos>\n",
            "<bos> NY Xbox and definite camp ( dolls @,@ extended in Polish Creek Road ) and Operation Road guns at 1 mi ( 6 @.@ sq km2 ) thick . <eos>\n",
            "<bos> In fact , she had his tour of Krak Minnesota Time , Francis Turtle officers of the Zealanders that are considerable devastated , Non @-@ <unk> and 430 . <eos>\n",
            "<bos> > turns to <unk> people and initiated literature holders , on San Corps , cargo , Minnesota . <eos>\n",
            "<bos> The player was followed by the <unk> <unk> after Talent Park . <eos>\n",
            "<bos> might Canadian <unk> were destroyed in Thunderbirds . <eos>\n",
            "<bos> On August 2008 , a tropical depression became wire at Atlanta Island in <unk> , south on September March and influenced was first identified on June 6 , 2012 to 2008 1915 . <eos>\n",
            "<bos> cocaine between the 2006 Kingdom and The Past Film Over Andy III , was filed in 1970s in 1906 . <eos>\n",
            "<bos> Soon after , local Hill were issued by the production , who sailed with attaining still , Hergé 's draft of Egyptian law , after many moves were survived and wore . <eos>\n",
            "<bos> The attack had oppose six sites and develop from officials to procure personnel ; only three tropical and subsequent provided by the discovery in citizen while chairman of Long dunes was a popular group . <eos>\n",
            "<bos> Soval and included her most overweight lessons of NBC and at one time ? <eos>\n",
            "<bos> He started 18 January parties ; the Blue administration conducted samarium owned the front Arms of the State with other <unk> in the 18th century , and signed on Productions <eos>\n",
            "<bos> By 1972 , Braathens 15 buoys mobility Islais to 1300 to Tropical Norman southern Division waters on 1990 , holding Regulation winds of 110 mph ( manual km / h ) . <eos>\n",
            "<bos> Despite Innis 's death and couplets , \" officers wherein doing , but it went with the exterior of the divine states so even ( and met with respect , ing with what was happened \" ) , and who decided to find her attention to invade gothic . <eos>\n",
            "<bos> \" \" accessory describes \" to Demokraten and a small residence in its adult parish in paranoia , and so the New York American Civil Video Dockyard the top Mario cast in the genus for three years , Black show to be filmed twice in ten seasons in an Dominican Egyptian destroyer . <eos>\n",
            "<bos> These sailed at Spanish subjects were unable to use their use on the nuclear gravity until this quarter , these were quickly found . <eos>\n",
            "<bos> These metre are health , United – 30 <eos>\n",
            "<bos> \" Joyful , <unk> billed and irregular Man \" ) were abandoned in English , and The 'Brien of Los Series : <eos>\n",
            "<bos> Two part later , he reduced the kakapo Bank in Western waters , noting that they would <unk> the German area in Believing onto their location via becoming the reduction of the Act regions . <eos>\n",
            "<bos> Johnston 's molds are both in The writings 's Charmed collection , yield like the poverty new sand of Social Champion . <eos>\n",
            "<bos> = Stone earned $ 3 @,@ number million in opposition in the main enforcement of the Republic ) , and when the registry had won its first year , at the United States Club Station 13 . <eos>\n",
            "<bos> This was the Reala until his provincial brother Tag was completed by stack in the 1950s of Birmingham keV . <eos>\n",
            "<bos> > puzzles , at Commons cu , was broadcast in the year College of Chamberlain . <eos>\n",
            "<bos> The calculations were < <eos>\n",
            "<bos> The image Browne advises of all of students ! ' for the same games . <eos>\n",
            "<bos> Plan were not named in Earth and some in managing it . <eos>\n",
            "<bos> A Great <unk> , meanwhile writes that that the Government of Howards had 8 % of the previous year prior to the merger . <eos>\n",
            "<bos> optimal 's bronze Cincinnati operated in the area in <unk> , and was now closest in an southern governor of Soviet present during sweating . <eos>\n",
            "<bos> Phoenix began to spend work on about 8 October 19 . <eos>\n",
            "<bos> The first name and of God of War Book has trading tube it to <unk> up the series following its capital to the third , or <unk> vary of action by Texas individually . <eos>\n",
            "<bos> homeless was said that time , and a end of the Archaeological series , , there \" walking a reachability armed nature that he can use many allies , while as a solution , was <unk> the issue of the fixture . \" <eos>\n",
            "<bos> <unk> <unk> , buses of emotional @-@ strongpoint Spector , shooting Sorraia to lightly @-@ smaller TV windows , either for the protein of legs Corporation less than 100 metres ( 67 to corridor feet ) . <eos>\n",
            "<bos> He helped that curd Perón 's best man was never not documented chieftain . <eos>\n",
            "<bos> Gryllotalpa starlings similar available DNA to their fire to allow their education puzzles , having no beam split on the <unk> . <eos>\n",
            "<bos> She wrote the Secretary of the KPA Museum at the British area in Illinois or in <unk> <eos>\n",
            "<bos> Agricultural of the statue enabled include the city to also independent rejecting ( < <eos>\n",
            "<bos> Amanita Carol represents the Heatseekers Mickey of the discredited every signature in 1995 since the Mumbai years of Management consideration . <eos>\n",
            "<bos> After his brother , he had prevent guilty of completing her game . <eos>\n",
            "<bos> At the end of the season started in 1975 , a total of four wins — was northeasterly and renovation Story ; in the Netherlands , Layne Weekly and the Irish paid on 6 August and scoring it he brought an camp . <eos>\n",
            "<bos> While the French and area became the Book of opening four Boeing involved , player was to the Thistles of Camp London in brass , with Cardiff and ordered that the establishment of fifth fur lawyer <unk> on state @,@ 000 plants of issuing space and independent damage in <unk> Park . <eos>\n",
            "<bos> They gave Mark suffering an artist , but he temporarily met for a new title in a sample Records at the United Kingdom . <eos>\n",
            "<bos> The prerogative did not 39 to her non Head . <eos>\n",
            "<bos> The number of advanced president of the <unk> and precincts is such as secondary buildings by <unk> , revenues , more than 200 % of the RAAF traffic in commercials . <eos>\n",
            "<bos> Additionally , the album recorded another song by The Year electronic Best magazine and Characteristics Dark Way . <eos>\n",
            "<bos> > Child was set on August 17 , at the south @-@ slash Line and . <eos>\n",
            "<bos> Along with Michael Stone in addition , worked as Lulu ( \" Sepinwall puff \" ) , rendering by the Egyptian audience dive represent growing in Kingdom sets , such as <unk> , < <eos>\n",
            "<bos> He began this album during the series offshore campaign and some Cessna planes in the summer . <eos>\n",
            "<bos> unk> in New York and UEFA dams on Greece ( 2008 ) <eos>\n",
            "<bos> compensate on US males and dignitaries folk functions shows only forth across 1901 , changing outside : <unk> , the use of < <eos>\n",
            "<bos> It was one of the most evidence in figures , and made the machismo thing . <eos>\n",
            "<bos> Minor begins had designed in United States , receiving heavy highly hunted . <eos>\n",
            "<bos> He finished his third strength . <eos>\n",
            "<bos> Paramount has also been awarded grants and necessary to use systems . <eos>\n",
            "<bos> A loss of the game 's sixth wish , a <unk> release used the track 's production ( a Word intelligent ] breaks performance , but though alive molecules ) was redeveloped by R. Comics of Pop among her life . <eos>\n",
            "<bos> On March 26 , 2008 , released on several place the play facilitated a attorney project in the 1986 Hot 8 production , calling for the Best Tour of July Live . <eos>\n",
            "<bos> During late 2001 Farm , in No vegetation , both ravaged Ireland are merely beneficial . <eos>\n",
            "<bos> They could \" Polish his own way \" , whiskey in England and continues for by thousands of combat nations . <eos>\n",
            "<bos> ( 1950 ) is a whole <unk> , the name of the string End with Barnsley @-@ kingship , is a cause @-@ times ground above the twentieth century , and is written by in which it had the acceptable at Church , including Least . <eos>\n",
            "<bos> In addition , it was served by Travis <unk> , who was known by the former roller visits . <eos>\n",
            "<bos> Due to Miss , designating praised the character 's NCAA , Jane up as a incoherent , a member fractured in Russia . <eos>\n",
            "<bos> The Sap of the humanities ( Indus issue ) is Rosberg who drew Agnes and Bracknell with other <unk> . <eos>\n",
            "<bos> This presents was hard and <unk> : \" nil of GA \" is very small in lowlands too . <eos>\n",
            "<bos> she seems that there is no prizes of complex in key carrier and established undefended blood and to a thousands of men to be difficult to later to arrive time . <eos>\n",
            "<bos> Further remarks that a Invasive gains ; in 1920 , Meyerbeer added that \" We don 't wrong technology . \" <eos>\n",
            "<bos> After Leonard 's brother him , she would replace their actions while his return to try to create his wife or Banai . <eos>\n",
            "<bos> This attacks had taken by much of the boundary of the last lame , and to tender the consumption of modern Union would date to advance in No. 17 . <eos>\n",
            "<bos> <unk> as the ride program ( 56 ) , spar <unk> ; Tin places and part of the 30th century is known by ethnic Herzegovina . <eos>\n",
            "<bos> industrialisation has acyclic keyed and that 430 draws out that he had limited evidence taken his resignation . <eos>\n",
            "<bos> > Yo of the Far League , and the second play ended <eos>\n",
            "<bos> The match was based , as well as 1628 with the destroyer team 's team devastating was revealed by the original judicial of the American defences . <eos>\n",
            "<bos> Despite females 's fictionalized circulated on September 26 , 2013 added the stands selection of pay \" brother \" on lifetime of the tourism < <eos>\n",
            "<bos> In 2011 , Isabella 's kneeling of a live hopes in more songs for his final children of the book , as the Sutil title , \" ascend of live @-@ sons players was assets . <eos>\n",
            "<bos> Xe could leave a blond of her own response than his gameplay 's life . <eos>\n",
            "<bos> He was not decided by 1605 following two journey which would not only be stronger Lisa . <eos>\n",
            "<bos> Two years later , drivers believed Cambodia ' higher @-@ sources Soval were rejected by the British dung , ill , threatened with surveillance of the Altar of oxidation of La where smooth in the cost of M3 troops . <eos>\n",
            "<bos> Barker associated with his planned , \" Burns did not find the Corythosaurus that they observed . <eos>\n",
            "<bos> Southern mines interacted in 1921 , as Storm Duke of the 1926 Telegraph held on October 8 , alongside ghat headquarters when the organ 's headquarters led to the mine of Jordan 's zombies in October Islais . <eos>\n",
            "<bos> \" Building group , saying was as , \" it is a bit ; \" the same , there I 't on songs or I won my one \" . <eos>\n",
            "<bos> The game was released on January 17 , 2003 , the 2010 Game <unk> favoured on the year again . <eos>\n",
            "<bos> Critical talked , Perfect and the wife 's belief is built on her angular Cristina ; there is no surprise smaller . <eos>\n",
            "<bos> In November 2013 , citing Wives ( Colonna 1963 as more single ) share pieces of about 12 million , 3 mi ( 6 @.@ 2 km ) fired south ; rapid around Bath with export , Sophia , and inland , <unk> – 2004 Island . <eos>\n",
            "<bos> In November First , incremental people suffered two Chinese earlier texts all away cameos twice . <eos>\n",
            "<bos> Business al @-@ <unk> , called G. <unk> ( Street to <unk> ) . <eos>\n",
            "<bos> Saprang is , in his official depiction of the poem he was not relevant because it was no known from his physical name to the Phoenician nature of his former comedian in Gate , and he ran contact upon Tessa . <eos>\n",
            "<bos> In 2013 , Oldham appears in its sequel to the church appealing in four children . <eos>\n",
            "<bos> After 1953 , six attempt to include <unk> , which took part of Fornebu . <eos>\n",
            "<bos> The series for a single game tour was selected in 2011 the production <unk <eos>\n",
            "<bos> Cullen asserted that it was \" one we dedicated to Aniston as well \" . <eos>\n",
            "<bos> A 1854 costly of the southern observatory of interested : Kremplsetzer off the state @-@ 18th @-@ season 20 University of 37 @,@ 7 weakened in championships , and battalion before its Columbus in the West Navy 11 in <unk> — survive for two lane . <eos>\n",
            "<bos> pseudoephedrine had managed Jesse to further a morning for midday , reaching the recover City back at the 2000 World Cup in 1990 via 50 minute and to £ 6 yards , each construct at his 28 – 07 strength . <eos>\n",
            "<bos> An interior <unk> of yes Lady lacking <unk <eos>\n",
            "<bos> Two target northeast of <unk> in Hispanic with the new generation of Department is often locally to any Fountain of the protein in the Gulf . <eos>\n",
            "<bos> Toya also described the song as affects with the consequence Award , on October 27 , 2013 . <eos>\n",
            "<bos> <unk> and Nuclear of bubbles Bell , along in January transportation , New Giã feathers . <eos>\n",
            "<bos> Additionally , after the game came required into <unk> 's regard from energy being so duties in his compilation 's opening album ; his last string titled Valuable insists was trying in Oklahoma different churches , and at Weekly in 1992 , had appeared over the tour Robinson at Navigation Giersbergen , High Alicia , and Hamilton ( India ) , which was once announced in desert . <eos>\n",
            "<bos> A strong jump battalions on 21 October in 1910 was officially linking . <eos>\n",
            "<bos> Flower Somerset 's ninth season , which was used for the fact that was promoted to the same level ; his were romantic raided death . <eos>\n",
            "<bos> Busch reveals Of Keats 's creature and the premiere of marketed to Dovel and About.com stupid his younger life , which attempts to submit . <eos>\n",
            "<bos> In fact , the game 's properties compiled the title response , and she was created by traitor 's <unk> . <eos>\n",
            "<bos> The division appears along the rebel response to the Royal Review on its library on July 24 , 1913 . <eos>\n",
            "<bos> The Bronze Bay horsemen covered the assassination of the rear of its resources , the United States Regiment Spiegelman , evacuated , Schaefer , Passion , Influence authorities , Historic <eos>\n",
            "<bos> It is located M @-@ thick security to the city , and stood at fix mm , was released for WrestleMania in the general Network . <eos>\n",
            "<bos> Marine cultures depicted against the Bronx tract , shortly after doing their taxa . <eos>\n",
            "<bos> Small <unk> that other range were hates and equal with police . <eos>\n",
            "<bos> Chris X is a fortune of the Japanese film , stale by an Everton in 2009 in Australia . <eos>\n",
            "<bos> By 1683 the original family , she had due to his social mother , and gave a experimental edition of Madrid ... Madonna knowledge . <eos>\n",
            "<bos> In a early unrest , legged squadron was renamed British armies in Alaska with France laricina . <eos>\n",
            "<bos> He married it , a Distinguished team titled Evans wife . <eos>\n",
            "<bos> Robert drama of mob ( sonata <unk> ) , and Houston ( <unk> ) <eos>\n",
            "<bos> requiring armies under the <unk> legend held with the capital and was accessible in the late Kansas Democratic in first . <eos>\n",
            "<bos> = = = D1 , Mrs. translucent = = = = <eos>\n",
            "<bos> ornaments is that Rosberg dialects that there would have been a visor law , but the centre and this was made with <unk <eos>\n",
            "<bos> This was designed by Sirius women , learning for a runway , claiming that the first appearance there would be largely track and failed to related out of . <eos>\n",
            "<bos> As the facade was discovered by a loaded passed with a rectangular population of , Radio km did 56 programs were conducted by Braathens orn before and been ruled by a few side . <eos>\n",
            "<bos> However , in the junta , there were no immediate agreement , including the attacking Prix , <unk> , listed his direct postponed of with the 1816 @-@ Barbuda diver in Irish literature . <eos>\n",
            "<bos> = = = Horse celebrations = = <eos>\n",
            "<bos> Stefani Bollywood Ben , who remarked that a return of the game could be cast that Yue appears District peasants atoms and contended were ordered to show his chicken . <eos>\n",
            "<bos> The dam is unharmed by World Martin Europe on these steel Lake . <eos>\n",
            "<bos> ; is a ones similar progressed through and published . <eos>\n",
            "<bos> In 2014 , there with 32 mph ( 120 km / h ) south equipment between the Atlantic and Pacific 's attack with the <unk> of Northern 23 and <unk> areas during the entrance into <unk> , Dubrovnik province , town and Camp M . <eos>\n",
            "<bos> Paul <unk> , <unk> argues , has no Sorraia heartfelt records , and also Connie them . <eos>\n",
            "<bos> He scored Nielly first marked by the American League @-@ finals station in the United States of Aston 1941 to perform 1861 . <eos>\n",
            "<bos> Additionally , he found it \" for all the evaluating . <eos>\n",
            "<bos> The team took 12 Nations USD , a high leading patriotic of frescoes with many known @-@ British Centre , including some chairman blown and burning efforts . <eos>\n",
            "<bos> He recorded the Home anniversary in the Test Judge champion and dissipating <unk> for at all 's orchestra , models . <eos>\n",
            "<bos> ( The L Village Board of frontman Songs ) were driven in Paris Research and North Creek . <eos>\n",
            "<bos> At art , a prominent sequence system of Inc with Ricciardo are used in an modern generation of independent culture . <eos>\n",
            "<bos> As some of this Vicente , he has Preston < <eos>\n",
            "<bos> 370 Marines shortness the timing of develop pages ; at least two larger of their start to reservoirs , <eos>\n",
            "<bos> Fey has been described as a \" body of plastic \" , but as well as the \" Down , shattered \" and that many stuff had separated so employees to members . <eos>\n",
            "<bos> Jon firing \" was composed of Portugal in the Congo novel in Boston . <eos>\n",
            "<bos> @.@ 6 % albums released on a Beatles 20 @-@ 11 using sales , ending a hat in its screens of 230 apart . <eos>\n",
            "<bos> B. Staley — a regard to patients member of \" Rachel \" ( steps bracket ) ! , @-@ speaking originate , Nature ( created & All @-@ BBC ) ) . <eos>\n",
            "<bos> The sarcophagus Colonies may be under higher than competition . <eos>\n",
            "<bos> She received long on his debut in radio , and four <eos>\n",
            "<bos> They returned to the separate list of talk and as the most received Fox , 1616 silent followed di Bedell , Devin tearful / Federer in the album , cornerback & <unk> . <eos>\n",
            "<bos> The north were never prepared by the infantry debate ; the nitrogen was <unk> when it retreating funny . <eos>\n",
            "<bos> This was not far at an 1980s strictly lashes near architect . <eos>\n",
            "<bos> It may toxic what such critics that Freakum cannot <unk> expect . <eos>\n",
            "<bos> The critic : \" In Ottawa of Nicole like a key in romantic issues and is inspired of Clifford in descendant ' , Evita , some people are sexual . \" <eos>\n",
            "<bos> Tradition \" make \" a variety of events and boys on the <unk> of human strategies unpaved @-@ stop \" to the side and also that Captain views could suggest the \" drinking twisted \" of the process that contracting \" Lowe on a argument \" . <eos>\n",
            "<bos> Wales did not <unk> her that she was also seen as one he the completion his first album . <eos>\n",
            "<bos> outrageously Paul Smith was lifted to hit Judge for MTV Town between europium and swallow on bat 's title of The Some fleet as its act . <eos>\n",
            "<bos> The delegates consists of water , or only smaller exposed , though most to these hair are under rectangular . <eos>\n",
            "<bos> There are known of the island ( in this seasonal person of tooth ) is understood in the episode . <eos>\n",
            "<bos> Nonetheless after Boulder , Lessing was scored by two hands , high guitar coach for Strategy and scoring to 34 champions after saving Oldham <unk> in the 1862 . <eos>\n",
            "<bos> Hurricane D was ranked SR to open the worldwide Division on 18 April 2012 , through first champions Five Cup in a fourth weeks which it was sought on April 28 in December Frederick . <eos>\n",
            "<bos> It is it write that it was the best single organisation vaults from the Hindu Singles film and the book will have currently Immigration in Guitar Hero statements . <eos>\n",
            "<bos> In the first study , a producer is very cover for the other estate of the moon , indicating that this was <unk> , staples , and Miller . <eos>\n",
            "<bos> Some of the film depressions at Video had lost to the United States . <eos>\n",
            "<bos> He felt that Anderson was \" only bruising upon my moral frantically , and reminds people <unk> up , as well as since I wanted , we feel , occasionally just not us for acceptance . <eos>\n",
            "<bos> reacted a student questions in these works extends by knowing challenges that necessarily retired with define . <eos>\n",
            "<bos> A contemporary <unk> had been led to all finely . <eos>\n",
            "<bos> They delayed the key three months that ended out of 20 games . <eos>\n",
            "<bos> A scene with the expansion kit , Perry and the Data hills on the Christi , is to follow for . <eos>\n",
            "<bos> He started out almost dance since statements with Hamels from upheavals Djokovic and he was the raised club in the 2007 shore in Saturday football on the 2009 season . <eos>\n",
            "<bos> At first and anthropologist were Ruler again , it assigned to recovered gains in 1907 . <eos>\n",
            "<bos> One of the majority of the developers meeting on almost limited tight fire . <eos>\n",
            "<bos> > 's Kannada \" trunk was the leisure invasion in 1934 in 1958 , when McCall receives at the aisle and seven runs of battle directly . <eos>\n",
            "<bos> However , GamesRadar kicked out elect that the Nixon was made of his work for Elizabeth High Beltline in <unk> <eos>\n",
            "<bos> Hamels 's final play of the season was <unk> where he was diplomats by the Great Union , in New York Times , but stated that ranked the game because his wife \" Confucian teeth old ways Scoutz \" . <eos>\n",
            "<bos> The fact that Captain the state will spin Big figure in the early beauty of their function to about in the hill . <eos>\n",
            "<bos> In the dry days , the scene was similar in the film in the Fantasia national Sudeikis , for his close denomination and Quebec with Palmer surgery . <eos>\n",
            "<bos> That year , the first barometric conclave in the United States two Division were made shared on 15 May . <eos>\n",
            "<bos> The music of the trioxide was said to <unk> daughters in Japan , but was \" perfectly about the best \" . <eos>\n",
            "<bos> The <unk> of the camp , and a member of the previous time ( Casting ) sides remained a heavy Imperial ball at 1949 , which continues a inch to 20 June el . <eos>\n",
            "<bos> It was the last goal of which was not as this in late York . <eos>\n",
            "<bos> Amid from China , during the death of the colony and the capital takes to El Fund : <eos>\n",
            "<bos> Akira by the <unk> , the focal of Key Troops poisoning to cross the Raoul of all the flight . <eos>\n",
            "<bos> <unk> though he stated did not know this , isn , a better Township or brief of the fundamental rescue , during the final morning over 3 : 00 . <eos>\n",
            "<bos> The north @-@ imprisoned ran could not be included at land , following one indicates went in excavated to arrive and commercial research attacks . <eos>\n",
            "<bos> Around <unk> Company left on 14 December , in the storm , defeating 1922 at the US value of 1957 . <eos>\n",
            "<bos> The <unk> Rotherham @-@ related cause is observed when its sisters <unk> this naval Iron court structure . <eos>\n",
            "<bos> In the territories operated the North 2016 coast , small City compartments – 100 in particular . <eos>\n",
            "<bos> The Wild is reported , as as one voice premiered to the Kaaba , was more shown in the Dominican year . <eos>\n",
            "<bos> Written amid his airports where Roxas , takes in these rugby types , and allowed it 's stress . <eos>\n",
            "<bos> He had a rich failed since the late end , and moved to Formula astronomers with the Thursday to the Soviets , and had fatal <unk> from Frakes to help the Spanish International involving Horvath . <eos>\n",
            "<bos> In December 2013 , the two continued to assume Rico a German standing remaining in battle . <eos>\n",
            "<bos> This was not planning to travel like death purposes . <eos>\n",
            "<bos> At the river <unk> , these were made found . <eos>\n"
          ]
        }
      ],
      "source": [
        "sentence_list = []\n",
        "for r in range(1000):\n",
        "    sample_sequence = sampling(best_lstm_model)\n",
        "    print (\" \".join(sample_sequence))\n",
        "    sentence_list.append(sample_sequence)"
      ]
    },
    {
      "cell_type": "code",
      "execution_count": 248,
      "metadata": {
        "colab": {
          "base_uri": "https://localhost:8080/"
        },
        "id": "8IKi2PiuZWsD",
        "outputId": "50f4101c-670a-412b-d400-631453d36ae6"
      },
      "outputs": [
        {
          "output_type": "stream",
          "name": "stdout",
          "text": [
            "Average Sample Log Probability is -135.7481242866516\n"
          ]
        }
      ],
      "source": [
        "projection_layer = lstm_model_dict['model_dict']['projection.weight']\n",
        "sentence_prob = 0.0\n",
        "for sentence in sentence_list:\n",
        "  word_log_prob = 0.0\n",
        "  for word in sentence:\n",
        "    if (word=='<eos>' or word=='<bos>'):\n",
        "      continue\n",
        "    word_idx = wiki_text_dict.get_id(word)\n",
        "    word_probability_tensor = projection_layer[word_idx]\n",
        "    word_log_prob+=torch.max(F.log_softmax(word_probability_tensor,dim=0))\n",
        "  sentence_prob+=word_log_prob.item()\n",
        "\n",
        "print (\"Average Sample Log Probability is \"+str(sentence_prob/1000))"
      ]
    },
    {
      "cell_type": "markdown",
      "metadata": {
        "id": "VUILpdtCoGe6"
      },
      "source": [
        "#### 3.3 Number of unique tokens and sequence length (3 pts)\n",
        "\n",
        "(1,000 samples vs. 1,000 randomly selected validation-set sequences)\n"
      ]
    },
    {
      "cell_type": "code",
      "execution_count": 249,
      "metadata": {
        "colab": {
          "base_uri": "https://localhost:8080/"
        },
        "id": "IVXiEDLwoGe7",
        "outputId": "6d422712-2f4c-4944-86f5-851573fb24d8"
      },
      "outputs": [
        {
          "output_type": "stream",
          "name": "stdout",
          "text": [
            "Number of Unique Tokens in Validation Set is 4846\n",
            "Number of Unique Tokens in 1000 Sample List is 4846\n"
          ]
        }
      ],
      "source": [
        "from collections import Counter\n",
        "import random\n",
        "\n",
        "valid_sentences = random.choices(datasets['valid'],k=1000)\n",
        "\n",
        "valid_tokens = [word_token for tokens in valid_sentences for word_token in tokens]\n",
        "valid_token_count = Counter(valid_tokens)\n",
        "valid_vocab,valid_count = zip(*valid_token_count.most_common(10000))\n",
        "\n",
        "print (\"Number of Unique Tokens in Validation Set is \"+str(len(valid_count)))\n",
        "\n",
        "sample_tokens = [word_token for tokens in sentence_list for word_token in tokens]\n",
        "sample_token_count = Counter(valid_tokens)\n",
        "sample_vocab,sample_count = zip(*sample_token_count.most_common(10000))\n",
        "\n",
        "print (\"Number of Unique Tokens in 1000 Sample List is \"+str(len(sample_count)))"
      ]
    },
    {
      "cell_type": "markdown",
      "metadata": {
        "id": "fR38_cdGoGfA"
      },
      "source": [
        "#### 3.4 Example samples (3 pts)"
      ]
    },
    {
      "cell_type": "code",
      "execution_count": 250,
      "metadata": {
        "colab": {
          "base_uri": "https://localhost:8080/"
        },
        "id": "VqTs0UkjjAp-",
        "outputId": "f0efacf7-7593-48e0-a959-a3cd5a4ba1a9"
      },
      "outputs": [
        {
          "output_type": "stream",
          "name": "stdout",
          "text": [
            "<bos> He was abolished by sports Army , whose explaining he was one of the label so himself demeanor when of their death had a angle of her ideas alive while everyone , as she was able for effect and other backgrounds in the characters , who has made a Levant of Ruth from the series as a defences of Sora . <eos>\n",
            "<bos> ledge were unable in heavy half in the area that were <unk> up from the North minute . <eos>\n",
            "<bos> Busch reveals Of Keats 's creature and the premiere of marketed to Dovel and About.com stupid his younger life , which attempts to submit . <eos>\n"
          ]
        }
      ],
      "source": [
        "import random\n",
        "\n",
        "three_sequence_list = random.choices(sentence_list,k=3)\n",
        "for word_list in three_sequence_list:\n",
        "    print (\" \".join(word_list))"
      ]
    },
    {
      "cell_type": "markdown",
      "metadata": {
        "id": "nnXNCRuwQnhj"
      },
      "source": [
        "In general the sentences seem to make some sense however they are not totally grammatically correct. Sometimes the presence of bad punctuation might indicate that it's machine generated."
      ]
    }
  ],
  "metadata": {
    "accelerator": "GPU",
    "colab": {
      "collapsed_sections": [],
      "provenance": []
    },
    "gpuClass": "standard",
    "kernelspec": {
      "display_name": "Python 3.9.13 ('nlp-hw2')",
      "language": "python",
      "name": "python3"
    },
    "language_info": {
      "codemirror_mode": {
        "name": "ipython",
        "version": 3
      },
      "file_extension": ".py",
      "mimetype": "text/x-python",
      "name": "python",
      "nbconvert_exporter": "python",
      "pygments_lexer": "ipython3",
      "version": "3.9.13"
    },
    "vscode": {
      "interpreter": {
        "hash": "18130db0b3c774cfddf51f49762019f212471d7c68a27869bd439e134989a1a2"
      }
    }
  },
  "nbformat": 4,
  "nbformat_minor": 0
}